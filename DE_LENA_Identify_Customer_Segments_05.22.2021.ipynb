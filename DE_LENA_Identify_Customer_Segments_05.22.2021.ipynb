{
 "cells": [
  {
   "cell_type": "markdown",
   "metadata": {},
   "source": [
    "# Project: Identify Customer Segments\n",
    "\n",
    "In this project, you will apply unsupervised learning techniques to identify segments of the population that form the core customer base for a mail-order sales company in Germany. These segments can then be used to direct marketing campaigns towards audiences that will have the highest expected rate of returns. The data that you will use has been provided by our partners at Bertelsmann Arvato Analytics, and represents a real-life data science task.\n",
    "\n",
    "This notebook will help you complete this task by providing a framework within which you will perform your analysis steps. In each step of the project, you will see some text describing the subtask that you will perform, followed by one or more code cells for you to complete your work. **Feel free to add additional code and markdown cells as you go along so that you can explore everything in precise chunks.** The code cells provided in the base template will outline only the major tasks, and will usually not be enough to cover all of the minor tasks that comprise it.\n",
    "\n",
    "It should be noted that while there will be precise guidelines on how you should handle certain tasks in the project, there will also be places where an exact specification is not provided. **There will be times in the project where you will need to make and justify your own decisions on how to treat the data.** These are places where there may not be only one way to handle the data. In real-life tasks, there may be many valid ways to approach an analysis task. One of the most important things you can do is clearly document your approach so that other scientists can understand the decisions you've made.\n",
    "\n",
    "At the end of most sections, there will be a Markdown cell labeled **Discussion**. In these cells, you will report your findings for the completed section, as well as document the decisions that you made in your approach to each subtask. **Your project will be evaluated not just on the code used to complete the tasks outlined, but also your communication about your observations and conclusions at each stage.**"
   ]
  },
  {
   "cell_type": "code",
   "execution_count": 1,
   "metadata": {},
   "outputs": [
    {
     "data": {
      "text/plain": [
       "'\\nImport note: The classroom currently uses sklearn version 0.19.\\nIf you need to use an imputer, it is available in sklearn.preprocessing.Imputer,\\ninstead of sklearn.impute as in newer versions of sklearn.\\n'"
      ]
     },
     "execution_count": 1,
     "metadata": {},
     "output_type": "execute_result"
    }
   ],
   "source": [
    "# import libraries here; add more as necessary\n",
    "import numpy as np\n",
    "import pandas as pd\n",
    "import matplotlib.pyplot as plt\n",
    "import seaborn as sns\n",
    "sns.set_style('whitegrid')\n",
    "sns.color_palette('pastel')\n",
    "\n",
    "# magic word for producing visualizations in notebook\n",
    "%matplotlib inline\n",
    "\n",
    "'''\n",
    "Import note: The classroom currently uses sklearn version 0.19.\n",
    "If you need to use an imputer, it is available in sklearn.preprocessing.Imputer,\n",
    "instead of sklearn.impute as in newer versions of sklearn.\n",
    "'''"
   ]
  },
  {
   "cell_type": "markdown",
   "metadata": {},
   "source": [
    "### Step 0: Load the Data\n",
    "\n",
    "There are four files associated with this project (not including this one):\n",
    "\n",
    "- `Udacity_AZDIAS_Subset.csv`: Demographics data for the general population of Germany; 891211 persons (rows) x 85 features (columns).\n",
    "- `Udacity_CUSTOMERS_Subset.csv`: Demographics data for customers of a mail-order company; 191652 persons (rows) x 85 features (columns).\n",
    "- `Data_Dictionary.md`: Detailed information file about the features in the provided datasets.\n",
    "- `AZDIAS_Feature_Summary.csv`: Summary of feature attributes for demographics data; 85 features (rows) x 4 columns\n",
    "\n",
    "Each row of the demographics files represents a single person, but also includes information outside of individuals, including information about their household, building, and neighborhood. You will use this information to cluster the general population into groups with similar demographic properties. Then, you will see how the people in the customers dataset fit into those created clusters. The hope here is that certain clusters are over-represented in the customers data, as compared to the general population; those over-represented clusters will be assumed to be part of the core userbase. This information can then be used for further applications, such as targeting for a marketing campaign.\n",
    "\n",
    "To start off with, load in the demographics data for the general population into a pandas DataFrame, and do the same for the feature attributes summary. Note for all of the `.csv` data files in this project: they're semicolon (`;`) delimited, so you'll need an additional argument in your [`read_csv()`](https://pandas.pydata.org/pandas-docs/stable/generated/pandas.read_csv.html) call to read in the data properly. Also, considering the size of the main dataset, it may take some time for it to load completely.\n",
    "\n",
    "Once the dataset is loaded, it's recommended that you take a little bit of time just browsing the general structure of the dataset and feature summary file. You'll be getting deep into the innards of the cleaning in the first major step of the project, so gaining some general familiarity can help you get your bearings."
   ]
  },
  {
   "cell_type": "code",
   "execution_count": 2,
   "metadata": {},
   "outputs": [],
   "source": [
    "# Load in the general demographics data.\n",
    "#azdias = pd.read_csv('Udacity_AZDIAS_Subset.csv', sep=';')\n",
    "\n",
    "# Load in the feature summary file.\n",
    "feat_info = pd.read_csv('AZDIAS_Feature_Summary.csv', sep=';')"
   ]
  },
  {
   "cell_type": "code",
   "execution_count": 3,
   "metadata": {},
   "outputs": [
    {
     "data": {
      "text/html": [
       "<div>\n",
       "<style scoped>\n",
       "    .dataframe tbody tr th:only-of-type {\n",
       "        vertical-align: middle;\n",
       "    }\n",
       "\n",
       "    .dataframe tbody tr th {\n",
       "        vertical-align: top;\n",
       "    }\n",
       "\n",
       "    .dataframe thead th {\n",
       "        text-align: right;\n",
       "    }\n",
       "</style>\n",
       "<table border=\"1\" class=\"dataframe\">\n",
       "  <thead>\n",
       "    <tr style=\"text-align: right;\">\n",
       "      <th></th>\n",
       "      <th>attribute</th>\n",
       "      <th>information_level</th>\n",
       "      <th>type</th>\n",
       "      <th>missing_or_unknown</th>\n",
       "    </tr>\n",
       "  </thead>\n",
       "  <tbody>\n",
       "    <tr>\n",
       "      <th>0</th>\n",
       "      <td>AGER_TYP</td>\n",
       "      <td>person</td>\n",
       "      <td>categorical</td>\n",
       "      <td>[-1,0]</td>\n",
       "    </tr>\n",
       "    <tr>\n",
       "      <th>1</th>\n",
       "      <td>ALTERSKATEGORIE_GROB</td>\n",
       "      <td>person</td>\n",
       "      <td>ordinal</td>\n",
       "      <td>[-1,0,9]</td>\n",
       "    </tr>\n",
       "    <tr>\n",
       "      <th>2</th>\n",
       "      <td>ANREDE_KZ</td>\n",
       "      <td>person</td>\n",
       "      <td>categorical</td>\n",
       "      <td>[-1,0]</td>\n",
       "    </tr>\n",
       "    <tr>\n",
       "      <th>3</th>\n",
       "      <td>CJT_GESAMTTYP</td>\n",
       "      <td>person</td>\n",
       "      <td>categorical</td>\n",
       "      <td>[0]</td>\n",
       "    </tr>\n",
       "    <tr>\n",
       "      <th>4</th>\n",
       "      <td>FINANZ_MINIMALIST</td>\n",
       "      <td>person</td>\n",
       "      <td>ordinal</td>\n",
       "      <td>[-1]</td>\n",
       "    </tr>\n",
       "  </tbody>\n",
       "</table>\n",
       "</div>"
      ],
      "text/plain": [
       "              attribute information_level         type missing_or_unknown\n",
       "0              AGER_TYP            person  categorical             [-1,0]\n",
       "1  ALTERSKATEGORIE_GROB            person      ordinal           [-1,0,9]\n",
       "2             ANREDE_KZ            person  categorical             [-1,0]\n",
       "3         CJT_GESAMTTYP            person  categorical                [0]\n",
       "4     FINANZ_MINIMALIST            person      ordinal               [-1]"
      ]
     },
     "execution_count": 3,
     "metadata": {},
     "output_type": "execute_result"
    }
   ],
   "source": [
    "feat_info.head()"
   ]
  },
  {
   "cell_type": "code",
   "execution_count": 4,
   "metadata": {},
   "outputs": [
    {
     "name": "stdout",
     "output_type": "stream",
     "text": [
      "[-1,0] <class 'str'>\n",
      "[-1,0,9] <class 'str'>\n",
      "[-1,0] <class 'str'>\n",
      "[0] <class 'str'>\n",
      "[-1] <class 'str'>\n",
      "[-1] <class 'str'>\n",
      "[-1] <class 'str'>\n",
      "[-1] <class 'str'>\n",
      "[-1] <class 'str'>\n",
      "[-1] <class 'str'>\n",
      "[-1] <class 'str'>\n",
      "[0] <class 'str'>\n",
      "[] <class 'str'>\n",
      "[] <class 'str'>\n",
      "[-1,0] <class 'str'>\n",
      "[0] <class 'str'>\n",
      "[0] <class 'str'>\n",
      "[0] <class 'str'>\n",
      "[0] <class 'str'>\n",
      "[0] <class 'str'>\n",
      "[0] <class 'str'>\n",
      "[-1,0] <class 'str'>\n",
      "[-1,0] <class 'str'>\n",
      "[0] <class 'str'>\n",
      "[-1,9] <class 'str'>\n",
      "[-1,9] <class 'str'>\n",
      "[-1,9] <class 'str'>\n",
      "[-1,9] <class 'str'>\n",
      "[-1,9] <class 'str'>\n",
      "[-1,9] <class 'str'>\n",
      "[-1,9] <class 'str'>\n",
      "[-1,9] <class 'str'>\n",
      "[-1,9] <class 'str'>\n",
      "[-1,9] <class 'str'>\n",
      "[-1,9] <class 'str'>\n",
      "[-1,9] <class 'str'>\n",
      "[-1,9] <class 'str'>\n",
      "[-1,9] <class 'str'>\n",
      "[-1] <class 'str'>\n",
      "[-1] <class 'str'>\n",
      "[-1,0] <class 'str'>\n",
      "[-1] <class 'str'>\n",
      "[-1,9] <class 'str'>\n",
      "[0] <class 'str'>\n",
      "[] <class 'str'>\n",
      "[] <class 'str'>\n",
      "[-1,0] <class 'str'>\n",
      "[-1] <class 'str'>\n",
      "[-1,0] <class 'str'>\n",
      "[-1,0] <class 'str'>\n",
      "[0] <class 'str'>\n",
      "[] <class 'str'>\n",
      "[-1,0] <class 'str'>\n",
      "[] <class 'str'>\n",
      "[0] <class 'str'>\n",
      "[-1] <class 'str'>\n",
      "[-1] <class 'str'>\n",
      "[-1,X] <class 'str'>\n",
      "[XX] <class 'str'>\n",
      "[-1,XX] <class 'str'>\n",
      "[-1] <class 'str'>\n",
      "[-1] <class 'str'>\n",
      "[-1] <class 'str'>\n",
      "[-1] <class 'str'>\n",
      "[-1,0] <class 'str'>\n",
      "[-1,0] <class 'str'>\n",
      "[-1] <class 'str'>\n",
      "[-1] <class 'str'>\n",
      "[-1] <class 'str'>\n",
      "[] <class 'str'>\n",
      "[-1,0] <class 'str'>\n",
      "[] <class 'str'>\n",
      "[] <class 'str'>\n",
      "[-1,0] <class 'str'>\n",
      "[] <class 'str'>\n",
      "[-1] <class 'str'>\n",
      "[-1] <class 'str'>\n",
      "[-1] <class 'str'>\n",
      "[-1] <class 'str'>\n",
      "[-1,0] <class 'str'>\n",
      "[-1] <class 'str'>\n",
      "[-1] <class 'str'>\n",
      "[-1,9] <class 'str'>\n",
      "[-1,0] <class 'str'>\n",
      "[-1,9] <class 'str'>\n"
     ]
    }
   ],
   "source": [
    "for value in feat_info['missing_or_unknown']:\n",
    "    print(value, type(value))"
   ]
  },
  {
   "cell_type": "markdown",
   "metadata": {},
   "source": [
    "> **Tip**: Add additional cells to keep everything in reasonably-sized chunks! Keyboard shortcut `esc --> a` (press escape to enter command mode, then press the 'A' key) adds a new cell before the active cell, and `esc --> b` adds a new cell after the active cell. If you need to convert an active cell to a markdown cell, use `esc --> m` and to convert to a code cell, use `esc --> y`. \n",
    "\n",
    "## Step 1: Preprocessing\n",
    "\n",
    "### Step 1.1: Assess Missing Data\n",
    "\n",
    "The feature summary file contains a summary of properties for each demographics data column. You will use this file to help you make cleaning decisions during this stage of the project. First of all, you should assess the demographics data in terms of missing data. Pay attention to the following points as you perform your analysis, and take notes on what you observe. Make sure that you fill in the **Discussion** cell with your findings and decisions at the end of each step that has one!\n",
    "\n",
    "#### Step 1.1.1: Convert Missing Value Codes to NaNs\n",
    "The fourth column of the feature attributes summary (loaded in above as `feat_info`) documents the codes from the data dictionary that indicate missing or unknown data. While the file encodes this as a list (e.g. `[-1,0]`), this will get read in as a string object. You'll need to do a little bit of parsing to make use of it to identify and clean the data. Convert data that matches a 'missing' or 'unknown' value code into a numpy NaN value. You might want to see how much data takes on a 'missing' or 'unknown' code, and how much data is naturally missing, as a point of interest.\n",
    "\n",
    "**As one more reminder, you are encouraged to add additional cells to break up your analysis into manageable chunks.**"
   ]
  },
  {
   "cell_type": "code",
   "execution_count": 5,
   "metadata": {},
   "outputs": [
    {
     "name": "stdout",
     "output_type": "stream",
     "text": [
      "['-1', '0'] <class 'list'>\n",
      "['-1', '0', '9'] <class 'list'>\n",
      "['-1', '0'] <class 'list'>\n",
      "['0'] <class 'list'>\n",
      "['-1'] <class 'list'>\n",
      "['-1'] <class 'list'>\n",
      "['-1'] <class 'list'>\n",
      "['-1'] <class 'list'>\n",
      "['-1'] <class 'list'>\n",
      "['-1'] <class 'list'>\n",
      "['-1'] <class 'list'>\n",
      "['0'] <class 'list'>\n",
      "[''] <class 'list'>\n",
      "[''] <class 'list'>\n",
      "['-1', '0'] <class 'list'>\n",
      "['0'] <class 'list'>\n",
      "['0'] <class 'list'>\n",
      "['0'] <class 'list'>\n",
      "['0'] <class 'list'>\n",
      "['0'] <class 'list'>\n",
      "['0'] <class 'list'>\n",
      "['-1', '0'] <class 'list'>\n",
      "['-1', '0'] <class 'list'>\n",
      "['0'] <class 'list'>\n",
      "['-1', '9'] <class 'list'>\n",
      "['-1', '9'] <class 'list'>\n",
      "['-1', '9'] <class 'list'>\n",
      "['-1', '9'] <class 'list'>\n",
      "['-1', '9'] <class 'list'>\n",
      "['-1', '9'] <class 'list'>\n",
      "['-1', '9'] <class 'list'>\n",
      "['-1', '9'] <class 'list'>\n",
      "['-1', '9'] <class 'list'>\n",
      "['-1', '9'] <class 'list'>\n",
      "['-1', '9'] <class 'list'>\n",
      "['-1', '9'] <class 'list'>\n",
      "['-1', '9'] <class 'list'>\n",
      "['-1', '9'] <class 'list'>\n",
      "['-1'] <class 'list'>\n",
      "['-1'] <class 'list'>\n",
      "['-1', '0'] <class 'list'>\n",
      "['-1'] <class 'list'>\n",
      "['-1', '9'] <class 'list'>\n",
      "['0'] <class 'list'>\n",
      "[''] <class 'list'>\n",
      "[''] <class 'list'>\n",
      "['-1', '0'] <class 'list'>\n",
      "['-1'] <class 'list'>\n",
      "['-1', '0'] <class 'list'>\n",
      "['-1', '0'] <class 'list'>\n",
      "['0'] <class 'list'>\n",
      "[''] <class 'list'>\n",
      "['-1', '0'] <class 'list'>\n",
      "[''] <class 'list'>\n",
      "['0'] <class 'list'>\n",
      "['-1'] <class 'list'>\n",
      "['-1'] <class 'list'>\n",
      "['-1', 'X'] <class 'list'>\n",
      "['XX'] <class 'list'>\n",
      "['-1', 'XX'] <class 'list'>\n",
      "['-1'] <class 'list'>\n",
      "['-1'] <class 'list'>\n",
      "['-1'] <class 'list'>\n",
      "['-1'] <class 'list'>\n",
      "['-1', '0'] <class 'list'>\n",
      "['-1', '0'] <class 'list'>\n",
      "['-1'] <class 'list'>\n",
      "['-1'] <class 'list'>\n",
      "['-1'] <class 'list'>\n",
      "[''] <class 'list'>\n",
      "['-1', '0'] <class 'list'>\n",
      "[''] <class 'list'>\n",
      "[''] <class 'list'>\n",
      "['-1', '0'] <class 'list'>\n",
      "[''] <class 'list'>\n",
      "['-1'] <class 'list'>\n",
      "['-1'] <class 'list'>\n",
      "['-1'] <class 'list'>\n",
      "['-1'] <class 'list'>\n",
      "['-1', '0'] <class 'list'>\n",
      "['-1'] <class 'list'>\n",
      "['-1'] <class 'list'>\n",
      "['-1', '9'] <class 'list'>\n",
      "['-1', '0'] <class 'list'>\n",
      "['-1', '9'] <class 'list'>\n"
     ]
    }
   ],
   "source": [
    "def str_to_list(value):\n",
    "    return value.strip(\"[]\").replace(\" \", \"\").split(\",\")\n",
    "\n",
    "#reimporting the feat_info data frame, now using the converters arguments in the pd.read_csv()\n",
    "feat_info = pd.read_csv(\"./AZDIAS_Feature_Summary.csv\", sep=\";\", converters={\"missing_or_unknown\": str_to_list})\n",
    "\n",
    "for value in feat_info[\"missing_or_unknown\"]:\n",
    "    print(value, type(value))"
   ]
  },
  {
   "cell_type": "code",
   "execution_count": 6,
   "metadata": {},
   "outputs": [
    {
     "name": "stdout",
     "output_type": "stream",
     "text": [
      "{'AGER_TYP': ['-1', '0'], 'ALTERSKATEGORIE_GROB': ['-1', '0', '9'], 'ANREDE_KZ': ['-1', '0'], 'CJT_GESAMTTYP': ['0'], 'FINANZ_MINIMALIST': ['-1'], 'FINANZ_SPARER': ['-1'], 'FINANZ_VORSORGER': ['-1'], 'FINANZ_ANLEGER': ['-1'], 'FINANZ_UNAUFFAELLIGER': ['-1'], 'FINANZ_HAUSBAUER': ['-1'], 'FINANZTYP': ['-1'], 'GEBURTSJAHR': ['0'], 'GFK_URLAUBERTYP': [''], 'GREEN_AVANTGARDE': [''], 'HEALTH_TYP': ['-1', '0'], 'LP_LEBENSPHASE_FEIN': ['0'], 'LP_LEBENSPHASE_GROB': ['0'], 'LP_FAMILIE_FEIN': ['0'], 'LP_FAMILIE_GROB': ['0'], 'LP_STATUS_FEIN': ['0'], 'LP_STATUS_GROB': ['0'], 'NATIONALITAET_KZ': ['-1', '0'], 'PRAEGENDE_JUGENDJAHRE': ['-1', '0'], 'RETOURTYP_BK_S': ['0'], 'SEMIO_SOZ': ['-1', '9'], 'SEMIO_FAM': ['-1', '9'], 'SEMIO_REL': ['-1', '9'], 'SEMIO_MAT': ['-1', '9'], 'SEMIO_VERT': ['-1', '9'], 'SEMIO_LUST': ['-1', '9'], 'SEMIO_ERL': ['-1', '9'], 'SEMIO_KULT': ['-1', '9'], 'SEMIO_RAT': ['-1', '9'], 'SEMIO_KRIT': ['-1', '9'], 'SEMIO_DOM': ['-1', '9'], 'SEMIO_KAEM': ['-1', '9'], 'SEMIO_PFLICHT': ['-1', '9'], 'SEMIO_TRADV': ['-1', '9'], 'SHOPPER_TYP': ['-1'], 'SOHO_KZ': ['-1'], 'TITEL_KZ': ['-1', '0'], 'VERS_TYP': ['-1'], 'ZABEOTYP': ['-1', '9'], 'ALTER_HH': ['0'], 'ANZ_PERSONEN': [''], 'ANZ_TITEL': [''], 'HH_EINKOMMEN_SCORE': ['-1', '0'], 'KK_KUNDENTYP': ['-1'], 'W_KEIT_KIND_HH': ['-1', '0'], 'WOHNDAUER_2008': ['-1', '0'], 'ANZ_HAUSHALTE_AKTIV': ['0'], 'ANZ_HH_TITEL': [''], 'GEBAEUDETYP': ['-1', '0'], 'KONSUMNAEHE': [''], 'MIN_GEBAEUDEJAHR': ['0'], 'OST_WEST_KZ': ['-1'], 'WOHNLAGE': ['-1'], 'CAMEO_DEUG_2015': ['-1', 'X'], 'CAMEO_DEU_2015': ['XX'], 'CAMEO_INTL_2015': ['-1', 'XX'], 'KBA05_ANTG1': ['-1'], 'KBA05_ANTG2': ['-1'], 'KBA05_ANTG3': ['-1'], 'KBA05_ANTG4': ['-1'], 'KBA05_BAUMAX': ['-1', '0'], 'KBA05_GBZ': ['-1', '0'], 'BALLRAUM': ['-1'], 'EWDICHTE': ['-1'], 'INNENSTADT': ['-1'], 'GEBAEUDETYP_RASTER': [''], 'KKK': ['-1', '0'], 'MOBI_REGIO': [''], 'ONLINE_AFFINITAET': [''], 'REGIOTYP': ['-1', '0'], 'KBA13_ANZAHL_PKW': [''], 'PLZ8_ANTG1': ['-1'], 'PLZ8_ANTG2': ['-1'], 'PLZ8_ANTG3': ['-1'], 'PLZ8_ANTG4': ['-1'], 'PLZ8_BAUMAX': ['-1', '0'], 'PLZ8_HHZ': ['-1'], 'PLZ8_GBZ': ['-1'], 'ARBEIT': ['-1', '9'], 'ORTSGR_KLS9': ['-1', '0'], 'RELAT_AB': ['-1', '9']}\n"
     ]
    }
   ],
   "source": [
    "##Now replace the missing values in the azdias data frame\n",
    "\n",
    "na_mapping = dict(zip(feat_info[\"attribute\"], \n",
    "                      feat_info[\"missing_or_unknown\"]))\n",
    "\n",
    "print(na_mapping)"
   ]
  },
  {
   "cell_type": "code",
   "execution_count": 7,
   "metadata": {},
   "outputs": [
    {
     "data": {
      "text/html": [
       "<div>\n",
       "<style scoped>\n",
       "    .dataframe tbody tr th:only-of-type {\n",
       "        vertical-align: middle;\n",
       "    }\n",
       "\n",
       "    .dataframe tbody tr th {\n",
       "        vertical-align: top;\n",
       "    }\n",
       "\n",
       "    .dataframe thead th {\n",
       "        text-align: right;\n",
       "    }\n",
       "</style>\n",
       "<table border=\"1\" class=\"dataframe\">\n",
       "  <thead>\n",
       "    <tr style=\"text-align: right;\">\n",
       "      <th></th>\n",
       "      <th>AGER_TYP</th>\n",
       "      <th>ALTERSKATEGORIE_GROB</th>\n",
       "      <th>ANREDE_KZ</th>\n",
       "      <th>CJT_GESAMTTYP</th>\n",
       "      <th>FINANZ_MINIMALIST</th>\n",
       "      <th>FINANZ_SPARER</th>\n",
       "      <th>FINANZ_VORSORGER</th>\n",
       "      <th>FINANZ_ANLEGER</th>\n",
       "      <th>FINANZ_UNAUFFAELLIGER</th>\n",
       "      <th>FINANZ_HAUSBAUER</th>\n",
       "      <th>...</th>\n",
       "      <th>PLZ8_ANTG1</th>\n",
       "      <th>PLZ8_ANTG2</th>\n",
       "      <th>PLZ8_ANTG3</th>\n",
       "      <th>PLZ8_ANTG4</th>\n",
       "      <th>PLZ8_BAUMAX</th>\n",
       "      <th>PLZ8_HHZ</th>\n",
       "      <th>PLZ8_GBZ</th>\n",
       "      <th>ARBEIT</th>\n",
       "      <th>ORTSGR_KLS9</th>\n",
       "      <th>RELAT_AB</th>\n",
       "    </tr>\n",
       "  </thead>\n",
       "  <tbody>\n",
       "    <tr>\n",
       "      <th>0</th>\n",
       "      <td>NaN</td>\n",
       "      <td>2.0</td>\n",
       "      <td>1</td>\n",
       "      <td>2.0</td>\n",
       "      <td>3</td>\n",
       "      <td>4</td>\n",
       "      <td>3</td>\n",
       "      <td>5</td>\n",
       "      <td>5</td>\n",
       "      <td>3</td>\n",
       "      <td>...</td>\n",
       "      <td>NaN</td>\n",
       "      <td>NaN</td>\n",
       "      <td>NaN</td>\n",
       "      <td>NaN</td>\n",
       "      <td>NaN</td>\n",
       "      <td>NaN</td>\n",
       "      <td>NaN</td>\n",
       "      <td>NaN</td>\n",
       "      <td>NaN</td>\n",
       "      <td>NaN</td>\n",
       "    </tr>\n",
       "    <tr>\n",
       "      <th>1</th>\n",
       "      <td>NaN</td>\n",
       "      <td>1.0</td>\n",
       "      <td>2</td>\n",
       "      <td>5.0</td>\n",
       "      <td>1</td>\n",
       "      <td>5</td>\n",
       "      <td>2</td>\n",
       "      <td>5</td>\n",
       "      <td>4</td>\n",
       "      <td>5</td>\n",
       "      <td>...</td>\n",
       "      <td>2.0</td>\n",
       "      <td>3.0</td>\n",
       "      <td>2.0</td>\n",
       "      <td>1.0</td>\n",
       "      <td>1.0</td>\n",
       "      <td>5.0</td>\n",
       "      <td>4.0</td>\n",
       "      <td>3.0</td>\n",
       "      <td>5.0</td>\n",
       "      <td>4.0</td>\n",
       "    </tr>\n",
       "    <tr>\n",
       "      <th>2</th>\n",
       "      <td>NaN</td>\n",
       "      <td>3.0</td>\n",
       "      <td>2</td>\n",
       "      <td>3.0</td>\n",
       "      <td>1</td>\n",
       "      <td>4</td>\n",
       "      <td>1</td>\n",
       "      <td>2</td>\n",
       "      <td>3</td>\n",
       "      <td>5</td>\n",
       "      <td>...</td>\n",
       "      <td>3.0</td>\n",
       "      <td>3.0</td>\n",
       "      <td>1.0</td>\n",
       "      <td>0.0</td>\n",
       "      <td>1.0</td>\n",
       "      <td>4.0</td>\n",
       "      <td>4.0</td>\n",
       "      <td>3.0</td>\n",
       "      <td>5.0</td>\n",
       "      <td>2.0</td>\n",
       "    </tr>\n",
       "    <tr>\n",
       "      <th>3</th>\n",
       "      <td>2.0</td>\n",
       "      <td>4.0</td>\n",
       "      <td>2</td>\n",
       "      <td>2.0</td>\n",
       "      <td>4</td>\n",
       "      <td>2</td>\n",
       "      <td>5</td>\n",
       "      <td>2</td>\n",
       "      <td>1</td>\n",
       "      <td>2</td>\n",
       "      <td>...</td>\n",
       "      <td>2.0</td>\n",
       "      <td>2.0</td>\n",
       "      <td>2.0</td>\n",
       "      <td>0.0</td>\n",
       "      <td>1.0</td>\n",
       "      <td>3.0</td>\n",
       "      <td>4.0</td>\n",
       "      <td>2.0</td>\n",
       "      <td>3.0</td>\n",
       "      <td>3.0</td>\n",
       "    </tr>\n",
       "    <tr>\n",
       "      <th>4</th>\n",
       "      <td>NaN</td>\n",
       "      <td>3.0</td>\n",
       "      <td>1</td>\n",
       "      <td>5.0</td>\n",
       "      <td>4</td>\n",
       "      <td>3</td>\n",
       "      <td>4</td>\n",
       "      <td>1</td>\n",
       "      <td>3</td>\n",
       "      <td>2</td>\n",
       "      <td>...</td>\n",
       "      <td>2.0</td>\n",
       "      <td>4.0</td>\n",
       "      <td>2.0</td>\n",
       "      <td>1.0</td>\n",
       "      <td>2.0</td>\n",
       "      <td>3.0</td>\n",
       "      <td>3.0</td>\n",
       "      <td>4.0</td>\n",
       "      <td>6.0</td>\n",
       "      <td>5.0</td>\n",
       "    </tr>\n",
       "  </tbody>\n",
       "</table>\n",
       "<p>5 rows × 85 columns</p>\n",
       "</div>"
      ],
      "text/plain": [
       "   AGER_TYP  ALTERSKATEGORIE_GROB  ANREDE_KZ  CJT_GESAMTTYP  \\\n",
       "0       NaN                   2.0          1            2.0   \n",
       "1       NaN                   1.0          2            5.0   \n",
       "2       NaN                   3.0          2            3.0   \n",
       "3       2.0                   4.0          2            2.0   \n",
       "4       NaN                   3.0          1            5.0   \n",
       "\n",
       "   FINANZ_MINIMALIST  FINANZ_SPARER  FINANZ_VORSORGER  FINANZ_ANLEGER  \\\n",
       "0                  3              4                 3               5   \n",
       "1                  1              5                 2               5   \n",
       "2                  1              4                 1               2   \n",
       "3                  4              2                 5               2   \n",
       "4                  4              3                 4               1   \n",
       "\n",
       "   FINANZ_UNAUFFAELLIGER  FINANZ_HAUSBAUER    ...     PLZ8_ANTG1  PLZ8_ANTG2  \\\n",
       "0                      5                 3    ...            NaN         NaN   \n",
       "1                      4                 5    ...            2.0         3.0   \n",
       "2                      3                 5    ...            3.0         3.0   \n",
       "3                      1                 2    ...            2.0         2.0   \n",
       "4                      3                 2    ...            2.0         4.0   \n",
       "\n",
       "   PLZ8_ANTG3  PLZ8_ANTG4  PLZ8_BAUMAX  PLZ8_HHZ  PLZ8_GBZ  ARBEIT  \\\n",
       "0         NaN         NaN          NaN       NaN       NaN     NaN   \n",
       "1         2.0         1.0          1.0       5.0       4.0     3.0   \n",
       "2         1.0         0.0          1.0       4.0       4.0     3.0   \n",
       "3         2.0         0.0          1.0       3.0       4.0     2.0   \n",
       "4         2.0         1.0          2.0       3.0       3.0     4.0   \n",
       "\n",
       "   ORTSGR_KLS9  RELAT_AB  \n",
       "0          NaN       NaN  \n",
       "1          5.0       4.0  \n",
       "2          5.0       2.0  \n",
       "3          3.0       3.0  \n",
       "4          6.0       5.0  \n",
       "\n",
       "[5 rows x 85 columns]"
      ]
     },
     "execution_count": 7,
     "metadata": {},
     "output_type": "execute_result"
    }
   ],
   "source": [
    "#Reloading the azdias data frame using the na_values argument\n",
    "azdias = pd.read_csv('Udacity_AZDIAS_Subset.csv', sep=';', \n",
    "                     na_values=na_mapping)\n",
    "\n",
    "azdias.head()"
   ]
  },
  {
   "cell_type": "markdown",
   "metadata": {},
   "source": [
    "#### Step 1.1.2: Assess Missing Data in Each Column\n",
    "\n",
    "How much missing data is present in each column? There are a few columns that are outliers in terms of the proportion of values that are missing. You will want to use matplotlib's [`hist()`](https://matplotlib.org/api/_as_gen/matplotlib.pyplot.hist.html) function to visualize the distribution of missing value counts to find these columns. Identify and document these columns. While some of these columns might have justifications for keeping or re-encoding the data, for this project you should just remove them from the dataframe. (Feel free to make remarks about these outlier columns in the discussion, however!)\n",
    "\n",
    "For the remaining features, are there any patterns in which columns have, or share, missing data?"
   ]
  },
  {
   "cell_type": "code",
   "execution_count": 8,
   "metadata": {},
   "outputs": [
    {
     "data": {
      "text/plain": [
       "Text(0.5,1,'Count of missing values in the columns')"
      ]
     },
     "execution_count": 8,
     "metadata": {},
     "output_type": "execute_result"
    },
    {
     "data": {
      "image/png": "[encoded data removed]",
      "text/plain": [
       "<matplotlib.figure.Figure at 0x7f754937ab70>"
      ]
     },
     "metadata": {
      "needs_background": "light"
     },
     "output_type": "display_data"
    }
   ],
   "source": [
    "#Looking at the missing values in each column\n",
    "col_missing_values = azdias.isnull().mean().sort_values(ascending=False)\n",
    "\n",
    "fig, ax = plt.subplots(figsize=(5,7))\n",
    "sns.distplot(col_missing_values, hist=True, kde=False)\n",
    "ax.set_xlabel('% of Missing Values')\n",
    "ax.set_ylabel('Count')\n",
    "ax.set_title('Count of missing values in the columns')"
   ]
  },
  {
   "cell_type": "code",
   "execution_count": 9,
   "metadata": {},
   "outputs": [
    {
     "data": {
      "image/png": "[encoded data removed]",
      "text/plain": [
       "<matplotlib.figure.Figure at 0x7f754937ab00>"
      ]
     },
     "metadata": {
      "needs_background": "light"
     },
     "output_type": "display_data"
    }
   ],
   "source": [
    "# Investigate patterns in the amount of missing data in each column.\n",
    "col_missing_values = azdias.isnull().mean().sort_values(ascending=False)*100\n",
    "\n",
    "fig, ax = plt.subplots()\n",
    "ax = col_missing_values.plot(kind='barh', figsize=(20,15))\n",
    "ax.set_xlabel('Percent of Missing values', size=18, fontweight='bold')\n",
    "ax.set_ylabel('Features', size=18, fontweight='bold')\n",
    "ax.tick_params(axis='both', labelsize=12)"
   ]
  },
  {
   "cell_type": "code",
   "execution_count": 10,
   "metadata": {},
   "outputs": [],
   "source": [
    "#import sys\n",
    "#!{sys.executable} -m pip install missingno\n",
    "\n",
    "#import missingno as msno"
   ]
  },
  {
   "cell_type": "code",
   "execution_count": 11,
   "metadata": {},
   "outputs": [],
   "source": [
    "#msno.matrix(azdias)"
   ]
  },
  {
   "cell_type": "code",
   "execution_count": 12,
   "metadata": {},
   "outputs": [],
   "source": [
    "# Remove the outlier columns from the dataset. (You'll perform other data\n",
    "# engineering tasks such as re-encoding and imputation later.)\n",
    "\n",
    "\"\"\"PERSONAL COMMENT: As first approach, I will arbitrarily choose to remove columns with \n",
    "20% or more of missing data\"\"\"\n",
    "#Since there were so few columns I just copied and pasted, \n",
    "#rather than writing code to select the columns\n",
    "cols_over20 = ['TITEL_KZ', 'AGER_TYP', 'KK_KUNDENTYP',\n",
    "                   'KBA05_BAUMAX', 'GEBURTSJAHR', 'ALTER_HH']\n",
    "\n",
    "azdias_col_cleaned = azdias.drop(columns=cols_over20, axis='columns')"
   ]
  },
  {
   "cell_type": "markdown",
   "metadata": {},
   "source": [
    "#### Discussion 1.1.2: Assess Missing Data in Each Column\n",
    "Amount of missing data: As we can be seen visually from the horizontal bar chart, there are a substantial number of features that have missing data. On the chart, 6 features have over 20% of missing data which to my mind is considered high.\n",
    "\n",
    "Are there any patterns in missing values: As a visual inspection at the feat_info data frame, we can see that values such as -1, 0 and 9 were quite comon as missing values. Additinally, as we can see from the missingno.matrix chart, we can see that missing some missing values are highly correlated between observations. For instance, if a persons's weight is was not measured, then there's a high probability that that a feature such as BMI will also be missing.\n",
    "\n",
    "Which columns were removed from the dataset: Some features had too many missing values and were removed. As mentioned above, features with more than 20% of missing values were removed, 6 in total."
   ]
  },
  {
   "cell_type": "markdown",
   "metadata": {},
   "source": [
    "#### Step 1.1.3: Assess Missing Data in Each Row\n",
    "\n",
    "Now, you'll perform a similar assessment for the rows of the dataset. How much data is missing in each row? As with the columns, you should see some groups of points that have a very different numbers of missing values. Divide the data into two subsets: one for data points that are above some threshold for missing values, and a second subset for points below that threshold.\n",
    "\n",
    "In order to know what to do with the outlier rows, we should see if the distribution of data values on columns that are not missing data (or are missing very little data) are similar or different between the two groups. Select at least five of these columns and compare the distribution of values.\n",
    "- You can use seaborn's [`countplot()`](https://seaborn.pydata.org/generated/seaborn.countplot.html) function to create a bar chart of code frequencies and matplotlib's [`subplot()`](https://matplotlib.org/api/_as_gen/matplotlib.pyplot.subplot.html) function to put bar charts for the two subplots side by side.\n",
    "- To reduce repeated code, you might want to write a function that can perform this comparison, taking as one of its arguments a column to be compared.\n",
    "\n",
    "Depending on what you observe in your comparison, this will have implications on how you approach your conclusions later in the analysis. If the distributions of non-missing features look similar between the data with many missing values and the data with few or no missing values, then we could argue that simply dropping those points from the analysis won't present a major issue. On the other hand, if the data with many missing values looks very different from the data with few or no missing values, then we should make a note on those data as special. We'll revisit these data later on. **Either way, you should continue your analysis for now using just the subset of the data with few or no missing values.**"
   ]
  },
  {
   "cell_type": "code",
   "execution_count": 13,
   "metadata": {},
   "outputs": [
    {
     "data": {
      "text/plain": [
       "Text(0.5,1,'Count of missing values in the rows')"
      ]
     },
     "execution_count": 13,
     "metadata": {},
     "output_type": "execute_result"
    },
    {
     "data": {
      "image/png": "[encoded data removed]",
      "text/plain": [
       "<matplotlib.figure.Figure at 0x7f7546a440f0>"
      ]
     },
     "metadata": {
      "needs_background": "light"
     },
     "output_type": "display_data"
    }
   ],
   "source": [
    "# How much data is missing in each row of the dataset?\n",
    "row_missing_values = azdias.isnull().mean(axis=1).sort_values(ascending=False)\n",
    "\n",
    "#Plotting to see the percentage of missing values in rows. \n",
    "fig, ax = plt.subplots(figsize=(5,7))\n",
    "sns.distplot(row_missing_values, hist=True, kde=False)\n",
    "ax.set_xlabel('% of Missing Values')\n",
    "ax.set_ylabel('Columns')\n",
    "ax.set_title('Count of missing values in the rows')"
   ]
  },
  {
   "cell_type": "code",
   "execution_count": 14,
   "metadata": {},
   "outputs": [
    {
     "data": {
      "text/html": [
       "<div>\n",
       "<style scoped>\n",
       "    .dataframe tbody tr th:only-of-type {\n",
       "        vertical-align: middle;\n",
       "    }\n",
       "\n",
       "    .dataframe tbody tr th {\n",
       "        vertical-align: top;\n",
       "    }\n",
       "\n",
       "    .dataframe thead th {\n",
       "        text-align: right;\n",
       "    }\n",
       "</style>\n",
       "<table border=\"1\" class=\"dataframe\">\n",
       "  <thead>\n",
       "    <tr style=\"text-align: right;\">\n",
       "      <th></th>\n",
       "      <th>AGER_TYP</th>\n",
       "      <th>ALTERSKATEGORIE_GROB</th>\n",
       "      <th>ANREDE_KZ</th>\n",
       "      <th>CJT_GESAMTTYP</th>\n",
       "      <th>FINANZ_MINIMALIST</th>\n",
       "      <th>FINANZ_SPARER</th>\n",
       "      <th>FINANZ_VORSORGER</th>\n",
       "      <th>FINANZ_ANLEGER</th>\n",
       "      <th>FINANZ_UNAUFFAELLIGER</th>\n",
       "      <th>FINANZ_HAUSBAUER</th>\n",
       "      <th>...</th>\n",
       "      <th>PLZ8_ANTG3</th>\n",
       "      <th>PLZ8_ANTG4</th>\n",
       "      <th>PLZ8_BAUMAX</th>\n",
       "      <th>PLZ8_HHZ</th>\n",
       "      <th>PLZ8_GBZ</th>\n",
       "      <th>ARBEIT</th>\n",
       "      <th>ORTSGR_KLS9</th>\n",
       "      <th>RELAT_AB</th>\n",
       "      <th>%_null_rows</th>\n",
       "      <th>class_null_values</th>\n",
       "    </tr>\n",
       "  </thead>\n",
       "  <tbody>\n",
       "    <tr>\n",
       "      <th>0</th>\n",
       "      <td>NaN</td>\n",
       "      <td>2.0</td>\n",
       "      <td>1</td>\n",
       "      <td>2.0</td>\n",
       "      <td>3</td>\n",
       "      <td>4</td>\n",
       "      <td>3</td>\n",
       "      <td>5</td>\n",
       "      <td>5</td>\n",
       "      <td>3</td>\n",
       "      <td>...</td>\n",
       "      <td>NaN</td>\n",
       "      <td>NaN</td>\n",
       "      <td>NaN</td>\n",
       "      <td>NaN</td>\n",
       "      <td>NaN</td>\n",
       "      <td>NaN</td>\n",
       "      <td>NaN</td>\n",
       "      <td>NaN</td>\n",
       "      <td>57.647059</td>\n",
       "      <td>High Missing Values</td>\n",
       "    </tr>\n",
       "    <tr>\n",
       "      <th>1</th>\n",
       "      <td>NaN</td>\n",
       "      <td>1.0</td>\n",
       "      <td>2</td>\n",
       "      <td>5.0</td>\n",
       "      <td>1</td>\n",
       "      <td>5</td>\n",
       "      <td>2</td>\n",
       "      <td>5</td>\n",
       "      <td>4</td>\n",
       "      <td>5</td>\n",
       "      <td>...</td>\n",
       "      <td>2.0</td>\n",
       "      <td>1.0</td>\n",
       "      <td>1.0</td>\n",
       "      <td>5.0</td>\n",
       "      <td>4.0</td>\n",
       "      <td>3.0</td>\n",
       "      <td>5.0</td>\n",
       "      <td>4.0</td>\n",
       "      <td>4.705882</td>\n",
       "      <td>Low Missing Values</td>\n",
       "    </tr>\n",
       "    <tr>\n",
       "      <th>2</th>\n",
       "      <td>NaN</td>\n",
       "      <td>3.0</td>\n",
       "      <td>2</td>\n",
       "      <td>3.0</td>\n",
       "      <td>1</td>\n",
       "      <td>4</td>\n",
       "      <td>1</td>\n",
       "      <td>2</td>\n",
       "      <td>3</td>\n",
       "      <td>5</td>\n",
       "      <td>...</td>\n",
       "      <td>1.0</td>\n",
       "      <td>0.0</td>\n",
       "      <td>1.0</td>\n",
       "      <td>4.0</td>\n",
       "      <td>4.0</td>\n",
       "      <td>3.0</td>\n",
       "      <td>5.0</td>\n",
       "      <td>2.0</td>\n",
       "      <td>4.705882</td>\n",
       "      <td>Low Missing Values</td>\n",
       "    </tr>\n",
       "    <tr>\n",
       "      <th>3</th>\n",
       "      <td>2.0</td>\n",
       "      <td>4.0</td>\n",
       "      <td>2</td>\n",
       "      <td>2.0</td>\n",
       "      <td>4</td>\n",
       "      <td>2</td>\n",
       "      <td>5</td>\n",
       "      <td>2</td>\n",
       "      <td>1</td>\n",
       "      <td>2</td>\n",
       "      <td>...</td>\n",
       "      <td>2.0</td>\n",
       "      <td>0.0</td>\n",
       "      <td>1.0</td>\n",
       "      <td>3.0</td>\n",
       "      <td>4.0</td>\n",
       "      <td>2.0</td>\n",
       "      <td>3.0</td>\n",
       "      <td>3.0</td>\n",
       "      <td>10.588235</td>\n",
       "      <td>Low Missing Values</td>\n",
       "    </tr>\n",
       "    <tr>\n",
       "      <th>4</th>\n",
       "      <td>NaN</td>\n",
       "      <td>3.0</td>\n",
       "      <td>1</td>\n",
       "      <td>5.0</td>\n",
       "      <td>4</td>\n",
       "      <td>3</td>\n",
       "      <td>4</td>\n",
       "      <td>1</td>\n",
       "      <td>3</td>\n",
       "      <td>2</td>\n",
       "      <td>...</td>\n",
       "      <td>2.0</td>\n",
       "      <td>1.0</td>\n",
       "      <td>2.0</td>\n",
       "      <td>3.0</td>\n",
       "      <td>3.0</td>\n",
       "      <td>4.0</td>\n",
       "      <td>6.0</td>\n",
       "      <td>5.0</td>\n",
       "      <td>3.529412</td>\n",
       "      <td>Low Missing Values</td>\n",
       "    </tr>\n",
       "  </tbody>\n",
       "</table>\n",
       "<p>5 rows × 87 columns</p>\n",
       "</div>"
      ],
      "text/plain": [
       "   AGER_TYP  ALTERSKATEGORIE_GROB  ANREDE_KZ  CJT_GESAMTTYP  \\\n",
       "0       NaN                   2.0          1            2.0   \n",
       "1       NaN                   1.0          2            5.0   \n",
       "2       NaN                   3.0          2            3.0   \n",
       "3       2.0                   4.0          2            2.0   \n",
       "4       NaN                   3.0          1            5.0   \n",
       "\n",
       "   FINANZ_MINIMALIST  FINANZ_SPARER  FINANZ_VORSORGER  FINANZ_ANLEGER  \\\n",
       "0                  3              4                 3               5   \n",
       "1                  1              5                 2               5   \n",
       "2                  1              4                 1               2   \n",
       "3                  4              2                 5               2   \n",
       "4                  4              3                 4               1   \n",
       "\n",
       "   FINANZ_UNAUFFAELLIGER  FINANZ_HAUSBAUER         ...           PLZ8_ANTG3  \\\n",
       "0                      5                 3         ...                  NaN   \n",
       "1                      4                 5         ...                  2.0   \n",
       "2                      3                 5         ...                  1.0   \n",
       "3                      1                 2         ...                  2.0   \n",
       "4                      3                 2         ...                  2.0   \n",
       "\n",
       "   PLZ8_ANTG4  PLZ8_BAUMAX  PLZ8_HHZ  PLZ8_GBZ  ARBEIT  ORTSGR_KLS9  RELAT_AB  \\\n",
       "0         NaN          NaN       NaN       NaN     NaN          NaN       NaN   \n",
       "1         1.0          1.0       5.0       4.0     3.0          5.0       4.0   \n",
       "2         0.0          1.0       4.0       4.0     3.0          5.0       2.0   \n",
       "3         0.0          1.0       3.0       4.0     2.0          3.0       3.0   \n",
       "4         1.0          2.0       3.0       3.0     4.0          6.0       5.0   \n",
       "\n",
       "   %_null_rows    class_null_values  \n",
       "0    57.647059  High Missing Values  \n",
       "1     4.705882   Low Missing Values  \n",
       "2     4.705882   Low Missing Values  \n",
       "3    10.588235   Low Missing Values  \n",
       "4     3.529412   Low Missing Values  \n",
       "\n",
       "[5 rows x 87 columns]"
      ]
     },
     "execution_count": 14,
     "metadata": {},
     "output_type": "execute_result"
    }
   ],
   "source": [
    "# Write code to divide the data into two subsets based on the number of missing\n",
    "# values in each row.\n",
    "\"\"\"I'm going to create a column in the azdias data frame with the of missing values per row.\n",
    "Then I'll create an adjacent columns classifying the row as having low or high missing values, \n",
    "that way it might be easier to separate the data set to groups\"\"\"\n",
    "\n",
    "azdias['%_null_rows'] = azdias.isnull().mean(axis=1)*100\n",
    "\n",
    "def map_high_low(x):\n",
    "    if x>20:\n",
    "        return('High Missing Values')\n",
    "    else:\n",
    "        return('Low Missing Values')\n",
    "\n",
    "azdias['class_null_values'] = azdias['%_null_rows'].map(map_high_low)\n",
    "\n",
    "azdias.head()"
   ]
  },
  {
   "cell_type": "code",
   "execution_count": 15,
   "metadata": {},
   "outputs": [
    {
     "data": {
      "image/png": "[encoded data removed]",
      "text/plain": [
       "<matplotlib.figure.Figure at 0x7f75451129e8>"
      ]
     },
     "metadata": {
      "needs_background": "light"
     },
     "output_type": "display_data"
    },
    {
     "data": {
      "image/png": "[encoded data removed]",
      "text/plain": [
       "<matplotlib.figure.Figure at 0x7f75450704a8>"
      ]
     },
     "metadata": {
      "needs_background": "light"
     },
     "output_type": "display_data"
    },
    {
     "data": {
      "image/png": "[encoded data removed]",
      "text/plain": [
       "<matplotlib.figure.Figure at 0x7f7544ef6588>"
      ]
     },
     "metadata": {
      "needs_background": "light"
     },
     "output_type": "display_data"
    },
    {
     "data": {
      "image/png": "[encoded data removed]",
      "text/plain": [
       "<matplotlib.figure.Figure at 0x7f7544f0d208>"
      ]
     },
     "metadata": {
      "needs_background": "light"
     },
     "output_type": "display_data"
    },
    {
     "data": {
      "image/png": "[encoded data removed]",
      "text/plain": [
       "<matplotlib.figure.Figure at 0x7f7544fb7240>"
      ]
     },
     "metadata": {
      "needs_background": "light"
     },
     "output_type": "display_data"
    }
   ],
   "source": [
    "#These are the five columns chosen to evaluate\n",
    "list = ['ANREDE_KZ', 'GREEN_AVANTGARDE', 'ZABEOTYP', \n",
    "        'ALTERSKATEGORIE_GROB', 'SEMIO_KAEM']\n",
    "\n",
    "\n",
    "for x in list:\n",
    "    azdias[x].hist(by=azdias['class_null_values'], sharey=True)\n",
    "    plt.xlabel(str(x))\n",
    "    plt.ylabel('Count')\n",
    "    plt.show()"
   ]
  },
  {
   "cell_type": "code",
   "execution_count": 16,
   "metadata": {},
   "outputs": [
    {
     "name": "stdout",
     "output_type": "stream",
     "text": [
      "A total of 105460 rows were removed after cleaning\n",
      "representing approximately 11.83% of rows\n"
     ]
    }
   ],
   "source": [
    "# Drop rows with high missing values\n",
    "azdias_row_cleaned = azdias[azdias['class_null_values']=='Low Missing Values']\n",
    "\n",
    "#Now I will remove the columuns with high missing values from the azdias_row_cleaned\n",
    "#with the addition of the created columns %_null_rows', 'class_null_values'\n",
    "\n",
    "cols_remove = ['TITEL_KZ', 'AGER_TYP', 'KK_KUNDENTYP',\n",
    "                   'KBA05_BAUMAX', 'GEBURTSJAHR', 'ALTER_HH',\n",
    "               '%_null_rows', 'class_null_values' ]\n",
    "\n",
    "azdias_cleaned = azdias_row_cleaned.drop(columns=cols_remove, axis='columns')\n",
    "\n",
    "\n",
    "print('A total of {} rows were removed after cleaning'.format(azdias.shape[0]- azdias_cleaned.shape[0]))\n",
    "print('representing approximately {:.2f}% of rows'.format(((azdias.shape[0]- azdias_cleaned.shape[0])/azdias.shape[0])*100))\n"
   ]
  },
  {
   "cell_type": "code",
   "execution_count": 17,
   "metadata": {},
   "outputs": [],
   "source": [
    "#Visual sanity check for how the data frame looks like afeter being cleaned.\n",
    "#msno.matrix(azdias_cleaned)"
   ]
  },
  {
   "cell_type": "markdown",
   "metadata": {},
   "source": [
    "#### Discussion 1.1.3: Assess Missing Data in Each Row\n",
    "\n",
    "Are the data with lots of missing values are qualitatively different from data with few or no missing values?\n",
    "\n",
    "As can be seen from the several histrograms plotted there is no significant difference between the distribution of the two subset (high and low missing values in rows), which give good confidence to remove the rows considered having high missing values.\n",
    "\n",
    "Lastly, we can compare between the matrix prlo in line 29 (no cleaning) and line 47 (both columns and rows cleaned) it looks like even though there are some patches of missing values, the data does look cleaner; and as a first a approach it looks like we can live with the missing values."
   ]
  },
  {
   "cell_type": "markdown",
   "metadata": {},
   "source": [
    "### Step 1.2: Select and Re-Encode Features\n",
    "\n",
    "Checking for missing data isn't the only way in which you can prepare a dataset for analysis. Since the unsupervised learning techniques to be used will only work on data that is encoded numerically, you need to make a few encoding changes or additional assumptions to be able to make progress. In addition, while almost all of the values in the dataset are encoded using numbers, not all of them represent numeric values. Check the third column of the feature summary (`feat_info`) for a summary of types of measurement.\n",
    "- For numeric and interval data, these features can be kept without changes.\n",
    "- Most of the variables in the dataset are ordinal in nature. While ordinal values may technically be non-linear in spacing, make the simplifying assumption that the ordinal variables can be treated as being interval in nature (that is, kept without any changes).\n",
    "- Special handling may be necessary for the remaining two variable types: categorical, and 'mixed'.\n",
    "\n",
    "In the first two parts of this sub-step, you will perform an investigation of the categorical and mixed-type features and make a decision on each of them, whether you will keep, drop, or re-encode each. Then, in the last part, you will create a new data frame with only the selected and engineered columns.\n",
    "\n",
    "Data wrangling is often the trickiest part of the data analysis process, and there's a lot of it to be done here. But stick with it: once you're done with this step, you'll be ready to get to the machine learning parts of the project!"
   ]
  },
  {
   "cell_type": "code",
   "execution_count": 18,
   "metadata": {},
   "outputs": [
    {
     "data": {
      "text/plain": [
       "ordinal        49\n",
       "categorical    21\n",
       "mixed           7\n",
       "numeric         7\n",
       "interval        1\n",
       "Name: type, dtype: int64"
      ]
     },
     "execution_count": 18,
     "metadata": {},
     "output_type": "execute_result"
    }
   ],
   "source": [
    "# How many features are there of each data type?\n",
    "feat_info.type.value_counts()"
   ]
  },
  {
   "cell_type": "code",
   "execution_count": 19,
   "metadata": {},
   "outputs": [
    {
     "data": {
      "text/html": [
       "<div>\n",
       "<style scoped>\n",
       "    .dataframe tbody tr th:only-of-type {\n",
       "        vertical-align: middle;\n",
       "    }\n",
       "\n",
       "    .dataframe tbody tr th {\n",
       "        vertical-align: top;\n",
       "    }\n",
       "\n",
       "    .dataframe thead th {\n",
       "        text-align: right;\n",
       "    }\n",
       "</style>\n",
       "<table border=\"1\" class=\"dataframe\">\n",
       "  <thead>\n",
       "    <tr style=\"text-align: right;\">\n",
       "      <th></th>\n",
       "      <th>attribute</th>\n",
       "      <th>information_level</th>\n",
       "      <th>type</th>\n",
       "      <th>missing_or_unknown</th>\n",
       "    </tr>\n",
       "  </thead>\n",
       "  <tbody>\n",
       "    <tr>\n",
       "      <th>0</th>\n",
       "      <td>AGER_TYP</td>\n",
       "      <td>person</td>\n",
       "      <td>categorical</td>\n",
       "      <td>[-1, 0]</td>\n",
       "    </tr>\n",
       "    <tr>\n",
       "      <th>2</th>\n",
       "      <td>ANREDE_KZ</td>\n",
       "      <td>person</td>\n",
       "      <td>categorical</td>\n",
       "      <td>[-1, 0]</td>\n",
       "    </tr>\n",
       "    <tr>\n",
       "      <th>3</th>\n",
       "      <td>CJT_GESAMTTYP</td>\n",
       "      <td>person</td>\n",
       "      <td>categorical</td>\n",
       "      <td>[0]</td>\n",
       "    </tr>\n",
       "    <tr>\n",
       "      <th>10</th>\n",
       "      <td>FINANZTYP</td>\n",
       "      <td>person</td>\n",
       "      <td>categorical</td>\n",
       "      <td>[-1]</td>\n",
       "    </tr>\n",
       "    <tr>\n",
       "      <th>12</th>\n",
       "      <td>GFK_URLAUBERTYP</td>\n",
       "      <td>person</td>\n",
       "      <td>categorical</td>\n",
       "      <td>[]</td>\n",
       "    </tr>\n",
       "    <tr>\n",
       "      <th>13</th>\n",
       "      <td>GREEN_AVANTGARDE</td>\n",
       "      <td>person</td>\n",
       "      <td>categorical</td>\n",
       "      <td>[]</td>\n",
       "    </tr>\n",
       "    <tr>\n",
       "      <th>17</th>\n",
       "      <td>LP_FAMILIE_FEIN</td>\n",
       "      <td>person</td>\n",
       "      <td>categorical</td>\n",
       "      <td>[0]</td>\n",
       "    </tr>\n",
       "    <tr>\n",
       "      <th>18</th>\n",
       "      <td>LP_FAMILIE_GROB</td>\n",
       "      <td>person</td>\n",
       "      <td>categorical</td>\n",
       "      <td>[0]</td>\n",
       "    </tr>\n",
       "    <tr>\n",
       "      <th>19</th>\n",
       "      <td>LP_STATUS_FEIN</td>\n",
       "      <td>person</td>\n",
       "      <td>categorical</td>\n",
       "      <td>[0]</td>\n",
       "    </tr>\n",
       "    <tr>\n",
       "      <th>20</th>\n",
       "      <td>LP_STATUS_GROB</td>\n",
       "      <td>person</td>\n",
       "      <td>categorical</td>\n",
       "      <td>[0]</td>\n",
       "    </tr>\n",
       "    <tr>\n",
       "      <th>21</th>\n",
       "      <td>NATIONALITAET_KZ</td>\n",
       "      <td>person</td>\n",
       "      <td>categorical</td>\n",
       "      <td>[-1, 0]</td>\n",
       "    </tr>\n",
       "    <tr>\n",
       "      <th>38</th>\n",
       "      <td>SHOPPER_TYP</td>\n",
       "      <td>person</td>\n",
       "      <td>categorical</td>\n",
       "      <td>[-1]</td>\n",
       "    </tr>\n",
       "    <tr>\n",
       "      <th>39</th>\n",
       "      <td>SOHO_KZ</td>\n",
       "      <td>person</td>\n",
       "      <td>categorical</td>\n",
       "      <td>[-1]</td>\n",
       "    </tr>\n",
       "    <tr>\n",
       "      <th>40</th>\n",
       "      <td>TITEL_KZ</td>\n",
       "      <td>person</td>\n",
       "      <td>categorical</td>\n",
       "      <td>[-1, 0]</td>\n",
       "    </tr>\n",
       "    <tr>\n",
       "      <th>41</th>\n",
       "      <td>VERS_TYP</td>\n",
       "      <td>person</td>\n",
       "      <td>categorical</td>\n",
       "      <td>[-1]</td>\n",
       "    </tr>\n",
       "    <tr>\n",
       "      <th>42</th>\n",
       "      <td>ZABEOTYP</td>\n",
       "      <td>person</td>\n",
       "      <td>categorical</td>\n",
       "      <td>[-1, 9]</td>\n",
       "    </tr>\n",
       "    <tr>\n",
       "      <th>47</th>\n",
       "      <td>KK_KUNDENTYP</td>\n",
       "      <td>household</td>\n",
       "      <td>categorical</td>\n",
       "      <td>[-1]</td>\n",
       "    </tr>\n",
       "    <tr>\n",
       "      <th>52</th>\n",
       "      <td>GEBAEUDETYP</td>\n",
       "      <td>building</td>\n",
       "      <td>categorical</td>\n",
       "      <td>[-1, 0]</td>\n",
       "    </tr>\n",
       "    <tr>\n",
       "      <th>55</th>\n",
       "      <td>OST_WEST_KZ</td>\n",
       "      <td>building</td>\n",
       "      <td>categorical</td>\n",
       "      <td>[-1]</td>\n",
       "    </tr>\n",
       "    <tr>\n",
       "      <th>57</th>\n",
       "      <td>CAMEO_DEUG_2015</td>\n",
       "      <td>microcell_rr4</td>\n",
       "      <td>categorical</td>\n",
       "      <td>[-1, X]</td>\n",
       "    </tr>\n",
       "    <tr>\n",
       "      <th>58</th>\n",
       "      <td>CAMEO_DEU_2015</td>\n",
       "      <td>microcell_rr4</td>\n",
       "      <td>categorical</td>\n",
       "      <td>[XX]</td>\n",
       "    </tr>\n",
       "  </tbody>\n",
       "</table>\n",
       "</div>"
      ],
      "text/plain": [
       "           attribute information_level         type missing_or_unknown\n",
       "0           AGER_TYP            person  categorical            [-1, 0]\n",
       "2          ANREDE_KZ            person  categorical            [-1, 0]\n",
       "3      CJT_GESAMTTYP            person  categorical                [0]\n",
       "10         FINANZTYP            person  categorical               [-1]\n",
       "12   GFK_URLAUBERTYP            person  categorical                 []\n",
       "13  GREEN_AVANTGARDE            person  categorical                 []\n",
       "17   LP_FAMILIE_FEIN            person  categorical                [0]\n",
       "18   LP_FAMILIE_GROB            person  categorical                [0]\n",
       "19    LP_STATUS_FEIN            person  categorical                [0]\n",
       "20    LP_STATUS_GROB            person  categorical                [0]\n",
       "21  NATIONALITAET_KZ            person  categorical            [-1, 0]\n",
       "38       SHOPPER_TYP            person  categorical               [-1]\n",
       "39           SOHO_KZ            person  categorical               [-1]\n",
       "40          TITEL_KZ            person  categorical            [-1, 0]\n",
       "41          VERS_TYP            person  categorical               [-1]\n",
       "42          ZABEOTYP            person  categorical            [-1, 9]\n",
       "47      KK_KUNDENTYP         household  categorical               [-1]\n",
       "52       GEBAEUDETYP          building  categorical            [-1, 0]\n",
       "55       OST_WEST_KZ          building  categorical               [-1]\n",
       "57   CAMEO_DEUG_2015     microcell_rr4  categorical            [-1, X]\n",
       "58    CAMEO_DEU_2015     microcell_rr4  categorical               [XX]"
      ]
     },
     "execution_count": 19,
     "metadata": {},
     "output_type": "execute_result"
    }
   ],
   "source": [
    "cat_cols = feat_info[feat_info['type']=='categorical']\n",
    "cat_cols"
   ]
  },
  {
   "cell_type": "code",
   "execution_count": 20,
   "metadata": {},
   "outputs": [
    {
     "data": {
      "text/plain": [
       "array(['ANREDE_KZ', 'CJT_GESAMTTYP', 'FINANZTYP', 'GFK_URLAUBERTYP',\n",
       "       'GREEN_AVANTGARDE', 'LP_FAMILIE_FEIN', 'LP_FAMILIE_GROB',\n",
       "       'LP_STATUS_FEIN', 'LP_STATUS_GROB', 'NATIONALITAET_KZ',\n",
       "       'SHOPPER_TYP', 'SOHO_KZ', 'VERS_TYP', 'ZABEOTYP', 'GEBAEUDETYP',\n",
       "       'OST_WEST_KZ', 'CAMEO_DEUG_2015', 'CAMEO_DEU_2015'], dtype=object)"
      ]
     },
     "execution_count": 20,
     "metadata": {},
     "output_type": "execute_result"
    }
   ],
   "source": [
    "#removing the columns that have been dropped the in the previous step because \n",
    "#the were considered having too many missing values.\n",
    "feat_info_cleaned = cat_cols.drop(index=[40, 0,47], axis=1)\n",
    "cat_feats = feat_info_cleaned['attribute'].values\n",
    "#numpy array with the categorical values to be further investigated\n",
    "cat_feats"
   ]
  },
  {
   "cell_type": "code",
   "execution_count": 21,
   "metadata": {},
   "outputs": [
    {
     "data": {
      "text/html": [
       "<div>\n",
       "<style scoped>\n",
       "    .dataframe tbody tr th:only-of-type {\n",
       "        vertical-align: middle;\n",
       "    }\n",
       "\n",
       "    .dataframe tbody tr th {\n",
       "        vertical-align: top;\n",
       "    }\n",
       "\n",
       "    .dataframe thead th {\n",
       "        text-align: right;\n",
       "    }\n",
       "</style>\n",
       "<table border=\"1\" class=\"dataframe\">\n",
       "  <thead>\n",
       "    <tr style=\"text-align: right;\">\n",
       "      <th></th>\n",
       "      <th>attribute</th>\n",
       "      <th>information_level</th>\n",
       "      <th>type</th>\n",
       "      <th>missing_or_unknown</th>\n",
       "    </tr>\n",
       "  </thead>\n",
       "  <tbody>\n",
       "    <tr>\n",
       "      <th>15</th>\n",
       "      <td>LP_LEBENSPHASE_FEIN</td>\n",
       "      <td>person</td>\n",
       "      <td>mixed</td>\n",
       "      <td>[0]</td>\n",
       "    </tr>\n",
       "    <tr>\n",
       "      <th>16</th>\n",
       "      <td>LP_LEBENSPHASE_GROB</td>\n",
       "      <td>person</td>\n",
       "      <td>mixed</td>\n",
       "      <td>[0]</td>\n",
       "    </tr>\n",
       "    <tr>\n",
       "      <th>22</th>\n",
       "      <td>PRAEGENDE_JUGENDJAHRE</td>\n",
       "      <td>person</td>\n",
       "      <td>mixed</td>\n",
       "      <td>[-1, 0]</td>\n",
       "    </tr>\n",
       "    <tr>\n",
       "      <th>56</th>\n",
       "      <td>WOHNLAGE</td>\n",
       "      <td>building</td>\n",
       "      <td>mixed</td>\n",
       "      <td>[-1]</td>\n",
       "    </tr>\n",
       "    <tr>\n",
       "      <th>59</th>\n",
       "      <td>CAMEO_INTL_2015</td>\n",
       "      <td>microcell_rr4</td>\n",
       "      <td>mixed</td>\n",
       "      <td>[-1, XX]</td>\n",
       "    </tr>\n",
       "    <tr>\n",
       "      <th>64</th>\n",
       "      <td>KBA05_BAUMAX</td>\n",
       "      <td>microcell_rr3</td>\n",
       "      <td>mixed</td>\n",
       "      <td>[-1, 0]</td>\n",
       "    </tr>\n",
       "    <tr>\n",
       "      <th>79</th>\n",
       "      <td>PLZ8_BAUMAX</td>\n",
       "      <td>macrocell_plz8</td>\n",
       "      <td>mixed</td>\n",
       "      <td>[-1, 0]</td>\n",
       "    </tr>\n",
       "  </tbody>\n",
       "</table>\n",
       "</div>"
      ],
      "text/plain": [
       "                attribute information_level   type missing_or_unknown\n",
       "15    LP_LEBENSPHASE_FEIN            person  mixed                [0]\n",
       "16    LP_LEBENSPHASE_GROB            person  mixed                [0]\n",
       "22  PRAEGENDE_JUGENDJAHRE            person  mixed            [-1, 0]\n",
       "56               WOHNLAGE          building  mixed               [-1]\n",
       "59        CAMEO_INTL_2015     microcell_rr4  mixed           [-1, XX]\n",
       "64           KBA05_BAUMAX     microcell_rr3  mixed            [-1, 0]\n",
       "79            PLZ8_BAUMAX    macrocell_plz8  mixed            [-1, 0]"
      ]
     },
     "execution_count": 21,
     "metadata": {},
     "output_type": "execute_result"
    }
   ],
   "source": [
    "feat_info[feat_info['type']=='mixed']"
   ]
  },
  {
   "cell_type": "markdown",
   "metadata": {},
   "source": [
    "#### Step 1.2.1: Re-Encode Categorical Features\n",
    "\n",
    "For categorical data, you would ordinarily need to encode the levels as dummy variables. Depending on the number of categories, perform one of the following:\n",
    "- For binary (two-level) categoricals that take numeric values, you can keep them without needing to do anything.\n",
    "- There is one binary variable that takes on non-numeric values. For this one, you need to re-encode the values as numbers or create a dummy variable.\n",
    "- For multi-level categoricals (three or more values), you can choose to encode the values using multiple dummy variables (e.g. via [OneHotEncoder](http://scikit-learn.org/stable/modules/generated/sklearn.preprocessing.OneHotEncoder.html)), or (to keep things straightforward) just drop them from the analysis. As always, document your choices in the Discussion section."
   ]
  },
  {
   "cell_type": "code",
   "execution_count": 22,
   "metadata": {},
   "outputs": [
    {
     "name": "stdout",
     "output_type": "stream",
     "text": [
      "5 features are binary categorical features\n",
      "13 features are multilevel categorical features\n"
     ]
    }
   ],
   "source": [
    "# Assess categorical variables: which are binary, which are multi-level, and\n",
    "# which one needs to be re-encoded?\n",
    "\n",
    "binary_cats=[]\n",
    "multilevel_cats=[]\n",
    "def count_cats(df, cols):\n",
    "    for x in cols:\n",
    "        if df[x].nunique() == 2:\n",
    "            binary_cats.append(x)\n",
    "        if df[x].nunique() > 2:\n",
    "            multilevel_cats.append(x)\n",
    "            \n",
    "count_cats(azdias_cleaned,cat_feats)\n",
    "\n",
    "print('{} features are binary categorical features'.format(len(binary_cats)))\n",
    "print('{} features are multilevel categorical features'.format(len(multilevel_cats)))\n"
   ]
  },
  {
   "cell_type": "code",
   "execution_count": 23,
   "metadata": {},
   "outputs": [
    {
     "data": {
      "text/plain": [
       "['CJT_GESAMTTYP',\n",
       " 'FINANZTYP',\n",
       " 'GFK_URLAUBERTYP',\n",
       " 'LP_FAMILIE_FEIN',\n",
       " 'LP_FAMILIE_GROB',\n",
       " 'LP_STATUS_FEIN',\n",
       " 'LP_STATUS_GROB',\n",
       " 'NATIONALITAET_KZ',\n",
       " 'SHOPPER_TYP',\n",
       " 'ZABEOTYP',\n",
       " 'GEBAEUDETYP',\n",
       " 'CAMEO_DEUG_2015',\n",
       " 'CAMEO_DEU_2015']"
      ]
     },
     "execution_count": 23,
     "metadata": {},
     "output_type": "execute_result"
    }
   ],
   "source": [
    "multilevel_cats"
   ]
  },
  {
   "cell_type": "code",
   "execution_count": 24,
   "metadata": {},
   "outputs": [
    {
     "data": {
      "text/plain": [
       "(785761, 79)"
      ]
     },
     "execution_count": 24,
     "metadata": {},
     "output_type": "execute_result"
    }
   ],
   "source": [
    "azdias_cleaned.shape"
   ]
  },
  {
   "cell_type": "code",
   "execution_count": 25,
   "metadata": {},
   "outputs": [],
   "source": [
    "\"\"\"PERSONAL COMMENT: In the interest of keeping a first model as much simple as possible,\n",
    "I'll' remove the 13 categorical features that are multilevel.\"\"\"\n",
    "\n",
    "azdias_cleaned_binary = azdias_cleaned.drop(columns=['CJT_GESAMTTYP',\n",
    " 'FINANZTYP',\n",
    " 'GFK_URLAUBERTYP',\n",
    " 'LP_FAMILIE_FEIN',\n",
    " 'LP_FAMILIE_GROB',\n",
    " 'LP_STATUS_FEIN',\n",
    " 'LP_STATUS_GROB',\n",
    " 'NATIONALITAET_KZ',\n",
    " 'SHOPPER_TYP',\n",
    " 'ZABEOTYP',\n",
    " 'GEBAEUDETYP',\n",
    " 'CAMEO_DEUG_2015',\n",
    " 'CAMEO_DEU_2015'], axis='columns')"
   ]
  },
  {
   "cell_type": "code",
   "execution_count": 26,
   "metadata": {},
   "outputs": [
    {
     "data": {
      "text/plain": [
       "(785761, 71)"
      ]
     },
     "execution_count": 26,
     "metadata": {},
     "output_type": "execute_result"
    }
   ],
   "source": [
    "# Re-encode categorical variable(s) to be kept in the analysis.\n",
    "\"\"\"PERSONAL COMMENT: I'm going to give the binary encoded variable a prefix CAT-BIN,\n",
    "so that it is easier to track if necessary later on.\"\"\"\n",
    "azdias_cleaned_binary_encoded = pd.get_dummies(azdias_cleaned_binary, \n",
    "                                               columns=['ANREDE_KZ', 'GREEN_AVANTGARDE', \n",
    "                                                'SOHO_KZ', 'VERS_TYP', 'OST_WEST_KZ'],\n",
    "                                              prefix='CAT-BIN')\n",
    "azdias_cleaned_binary_encoded.shape"
   ]
  },
  {
   "cell_type": "markdown",
   "metadata": {},
   "source": [
    "#### Discussion 1.2.1: Re-Encode Categorical Features\n",
    "\n",
    "The following categorical features were dropped from the data set because they contained more the 2 categories. \n",
    "['CJT_GESAMTTYP',\n",
    " 'FINANZTYP',\n",
    " 'GFK_URLAUBERTYP',\n",
    " 'LP_FAMILIE_FEIN',\n",
    " 'LP_FAMILIE_GROB',\n",
    " 'LP_STATUS_FEIN',\n",
    " 'LP_STATUS_GROB',\n",
    " 'NATIONALITAET_KZ',\n",
    " 'SHOPPER_TYP',\n",
    " 'ZABEOTYP',\n",
    " 'GEBAEUDETYP',\n",
    " 'CAMEO_DEUG_2015',\n",
    " 'CAMEO_DEU_2015']\n",
    "\n",
    "For the sake of simplicity of the first approach, only the binary categorical variables were carried and re-encoded accordingly using the get_dummies from pandas. After dimensionality reduction it is possible I might go back and incorporate the multilevel features to see if there are any differences. But at this stage, leaving them out sounds like a good approach."
   ]
  },
  {
   "cell_type": "markdown",
   "metadata": {},
   "source": [
    "#### Step 1.2.2: Engineer Mixed-Type Features\n",
    "\n",
    "There are a handful of features that are marked as \"mixed\" in the feature summary that require special treatment in order to be included in the analysis. There are two in particular that deserve attention; the handling of the rest are up to your own choices:\n",
    "- \"PRAEGENDE_JUGENDJAHRE\" combines information on three dimensions: generation by decade, movement (mainstream vs. avantgarde), and nation (east vs. west). While there aren't enough levels to disentangle east from west, you should create two new variables to capture the other two dimensions: an interval-type variable for decade, and a binary variable for movement.\n",
    "- \"CAMEO_INTL_2015\" combines information on two axes: wealth and life stage. Break up the two-digit codes by their 'tens'-place and 'ones'-place digits into two new ordinal variables (which, for the purposes of this project, is equivalent to just treating them as their raw numeric values).\n",
    "- If you decide to keep or engineer new features around the other mixed-type features, make sure you note your steps in the Discussion section.\n",
    "\n",
    "Be sure to check `Data_Dictionary.md` for the details needed to finish these tasks."
   ]
  },
  {
   "cell_type": "code",
   "execution_count": 27,
   "metadata": {},
   "outputs": [],
   "source": [
    "# Investigate \"PRAEGENDE_JUGENDJAHRE\" and engineer two new variables.\n",
    "#based on decade\n",
    "dict_generation = {1:1,2:1,\n",
    "                   3:2,4:2,\n",
    "                   5:3,6:3,7:3,\n",
    "                   8:4,9:4,\n",
    "                   10:5,11:5,12:5,13:5,\n",
    "                   14:6,15:6}\n",
    "\n",
    "#Engineering the decade feature, 1st new feature\n",
    "azdias_cleaned_binary_encoded['PRAEGENDE_JUGENDJAHRE_decade']=azdias_cleaned_binary_encoded['PRAEGENDE_JUGENDJAHRE'].map(dict_generation)\n"
   ]
  },
  {
   "cell_type": "code",
   "execution_count": 28,
   "metadata": {},
   "outputs": [],
   "source": [
    "#Engineering 2nd Feature fo the \"PRAEGENDE_JUGENDJAHRE\"\n",
    "#1 = Mainstream\n",
    "#2 = Avantgarde\n",
    "dict_culture = {1:1, 2:2,\n",
    "                   3:1,4:2,\n",
    "                   5:1,6:2,7:2,\n",
    "                   8:1,9:2,\n",
    "                   10:1,11:2,12:1,13:2,\n",
    "                   14:1,15:2}\n",
    "\n",
    "azdias_cleaned_binary_encoded['PRAEGENDE_JUGENDJAHRE_Culture']=azdias_cleaned_binary_encoded['PRAEGENDE_JUGENDJAHRE'].map(dict_culture)\n"
   ]
  },
  {
   "cell_type": "code",
   "execution_count": 29,
   "metadata": {},
   "outputs": [
    {
     "data": {
      "text/plain": [
       "'PERSONAL COMMENT: \"CAMEO_INTL_2015\" still as object'"
      ]
     },
     "execution_count": 29,
     "metadata": {},
     "output_type": "execute_result"
    }
   ],
   "source": [
    "# Investigate \"CAMEO_INTL_2015\" and engineer two new variables.\n",
    "azdias_cleaned_binary_encoded['CAMEO_INTL_2015'].dtypes\n",
    "\n",
    "\"\"\"PERSONAL COMMENT: \"CAMEO_INTL_2015\" still as object\"\"\""
   ]
  },
  {
   "cell_type": "code",
   "execution_count": 30,
   "metadata": {},
   "outputs": [],
   "source": [
    "#Converting \"CAMEO_INTL_2015\" to float64 so that re-engineering is possible\n",
    "azdias_cleaned_binary_encoded['CAMEO_INTL_2015']=azdias_cleaned_binary_encoded['CAMEO_INTL_2015'].astype('float64')"
   ]
  },
  {
   "cell_type": "code",
   "execution_count": 31,
   "metadata": {},
   "outputs": [],
   "source": [
    "#Creating first CAMEO_INTL_2015 feature: Social Strata\n",
    "\n",
    "#1 = Wealthy households\n",
    "#2 = Prosperous Household\n",
    "#3 = Comfortable Households\n",
    "#4 = Less Affluent Households\n",
    "#5 = Poorer Households\n",
    "dict_social_strat = {11:1,12:1,13:1,14:1,15:1,\n",
    "                     21:2,22:2,23:2,24:2,25:2,\n",
    "                     31:3,32:3,33:3,34:3,35:3,\n",
    "                     41:4,42:4,43:4,44:4,45:4,\n",
    "                     51:5,52:5,53:5,54:5,55:5}\n",
    "azdias_cleaned_binary_encoded['CAMEO_INTL_2015_social_strat']=azdias_cleaned_binary_encoded['CAMEO_INTL_2015'].map(dict_social_strat)"
   ]
  },
  {
   "cell_type": "code",
   "execution_count": 32,
   "metadata": {},
   "outputs": [],
   "source": [
    "#Creating second CAMEO_INTL_2015 feature: Family Structure\n",
    "\n",
    "#1 = Pre-Family Couples & Singles\n",
    "#2 = Young Couples With Children\n",
    "#3 = Families With School Age Children\n",
    "#4 = Older Families & Mature Couples\n",
    "#5 = Elders In Retirement\n",
    "dict_Family_Stuc = {11:1,12:2,13:3,14:4,15:5,\n",
    "                     21:1,22:2,23:3,24:4,25:5,\n",
    "                     31:1,32:2,33:3,34:4,35:5,\n",
    "                     41:1,42:2,43:3,44:4,45:5,\n",
    "                     51:1,52:2,53:3,54:4,55:45}\n",
    "azdias_cleaned_binary_encoded['CAMEO_INTL_2015_Family_Struc']=azdias_cleaned_binary_encoded['CAMEO_INTL_2015'].map(dict_Family_Stuc)"
   ]
  },
  {
   "cell_type": "code",
   "execution_count": 33,
   "metadata": {},
   "outputs": [
    {
     "data": {
      "text/plain": [
       "{'LP_LEBENSPHASE_FEIN': 40,\n",
       " 'LP_LEBENSPHASE_GROB': 12,\n",
       " 'WOHNLAGE': 8,\n",
       " 'PLZ8_BAUMAX': 5}"
      ]
     },
     "execution_count": 33,
     "metadata": {},
     "output_type": "execute_result"
    }
   ],
   "source": [
    "#Further investigation of mixed value features\n",
    "mixed_features = ['LP_LEBENSPHASE_FEIN','LP_LEBENSPHASE_GROB',\n",
    "                  'WOHNLAGE', 'PLZ8_BAUMAX']\n",
    "\n",
    "#Finding the number of unique values in each of the\n",
    "number_MixedFeatures = []\n",
    "for i in mixed_features:\n",
    "    n = azdias_cleaned_binary_encoded[i].nunique()\n",
    "    number_MixedFeatures.append(n)\n",
    "\n",
    "mixed_features_dict = dict(zip(mixed_features,number_MixedFeatures))\n",
    "\n",
    "mixed_features_dict"
   ]
  },
  {
   "cell_type": "markdown",
   "metadata": {},
   "source": [
    "#### Discussion 1.2.2: Engineer Mixed-Type Features\n",
    "\n",
    "In the mixed-type features such as PRAEGENDE_JUGENDJAHRE there is definitely the option of re-engineering the feature in to another two separate variables. The first is based on the decade/generation in which each individual lived thorough., reducing the original 15 categories to 5. The second feature was based on the cultural style one wishes to experience, i.e. mainstream or avantgarde.\n",
    "\n",
    "Two other features were re-engineered for the CAMEO_INTL_2015. The first was re-engineered to reflect the social strata of the individual’s household based on wealth. Five categories were established: Wealthy, prosperous, comfortable, less affluent, poorer. The second feature was re-engineered to reflect the family structure of the individuals based on age of the couples. Five categories were established: pre-family couples & singles, young couples with children, families with school age children, older families & mature couples, elders in retirement.\n",
    "\n",
    "As for the remainder of the mixed-type features, I’ll make the decision to carry on the PLZ8_BAUMAX and WOHNLAGE since they do not contain a large number of categories they seem rather straight forward. I have, however, chosen to remove the following features: LP_LEBENSPHASE_FEIN and LP_LEBENSPHASE_GROB. The categories within these features seem rather sizable and complex even if a couple of new features could be advocated. However, at this junction I feel that this might introduce further complexity to the model and I do want to keep complexity to a minimum on the first approache. In a future iteration, I might go back and see if re-engineering these two features might help the model if needed. \n"
   ]
  },
  {
   "cell_type": "markdown",
   "metadata": {},
   "source": [
    "#### Step 1.2.3: Complete Feature Selection\n",
    "\n",
    "In order to finish this step up, you need to make sure that your data frame now only has the columns that you want to keep. To summarize, the dataframe should consist of the following:\n",
    "- All numeric, interval, and ordinal type columns from the original dataset.\n",
    "- Binary categorical features (all numerically-encoded).\n",
    "- Engineered features from other multi-level categorical features and mixed features.\n",
    "\n",
    "Make sure that for any new columns that you have engineered, that you've excluded the original columns from the final dataset. Otherwise, their values will interfere with the analysis later on the project. For example, you should not keep \"PRAEGENDE_JUGENDJAHRE\", since its values won't be useful for the algorithm: only the values derived from it in the engineered features you created should be retained. As a reminder, your data should only be from **the subset with few or no missing values**."
   ]
  },
  {
   "cell_type": "code",
   "execution_count": 34,
   "metadata": {},
   "outputs": [],
   "source": [
    "# If there are other re-engineering tasks you need to perform, make sure you\n",
    "# take care of them here. (Dealing with missing data will come in step 2.1.)\n"
   ]
  },
  {
   "cell_type": "code",
   "execution_count": 35,
   "metadata": {},
   "outputs": [],
   "source": [
    "# Do whatever you need to in order to ensure that the dataframe only contains\n",
    "# the columns that should be passed to the algorithm functions.\n",
    "#Removing the categorical \n",
    "azdias_cleaned_binary_encoded.drop(columns=['PRAEGENDE_JUGENDJAHRE', \n",
    "'CAMEO_INTL_2015', \n",
    "'LP_LEBENSPHASE_FEIN', \n",
    "'LP_LEBENSPHASE_GROB'], axis='columns', inplace=True)"
   ]
  },
  {
   "cell_type": "markdown",
   "metadata": {},
   "source": [
    "### Step 1.3: Create a Cleaning Function\n",
    "\n",
    "Even though you've finished cleaning up the general population demographics data, it's important to look ahead to the future and realize that you'll need to perform the same cleaning steps on the customer demographics data. In this substep, complete the function below to execute the main feature selection, encoding, and re-engineering steps you performed above. Then, when it comes to looking at the customer data in Step 3, you can just run this function on that DataFrame to get the trimmed dataset in a single step."
   ]
  },
  {
   "cell_type": "code",
   "execution_count": 36,
   "metadata": {},
   "outputs": [
    {
     "data": {
      "text/plain": [
       "'\\n    Perform feature trimming, re-encoding, and engineering for demographics\\n    data\\n    \\n    INPUT: Demographics DataFrame\\n    OUTPUT: Trimmed and cleaned demographics DataFrame\\n'"
      ]
     },
     "execution_count": 36,
     "metadata": {},
     "output_type": "execute_result"
    }
   ],
   "source": [
    "#def clean_data(df):\n",
    "\"\"\"\n",
    "    Perform feature trimming, re-encoding, and engineering for demographics\n",
    "    data\n",
    "    \n",
    "    INPUT: Demographics DataFrame\n",
    "    OUTPUT: Trimmed and cleaned demographics DataFrame\n",
    "\"\"\"\n",
    "    \n",
    "    # Put in code here to execute all main cleaning steps:\n",
    "    # convert missing value codes into NaNs, ...\n",
    "    \n",
    "    \n",
    "    # remove selected columns and rows, ...\n",
    "\n",
    "    \n",
    "    # select, re-encode, and engineer column values.\n",
    "\n",
    "    \n",
    "    # Return the cleaned dataframe.\n",
    "    \n",
    "    "
   ]
  },
  {
   "cell_type": "markdown",
   "metadata": {},
   "source": [
    "## Step 2: Feature Transformation\n",
    "\n",
    "### Step 2.1: Apply Feature Scaling\n",
    "\n",
    "Before we apply dimensionality reduction techniques to the data, we need to perform feature scaling so that the principal component vectors are not influenced by the natural differences in scale for features. Starting from this part of the project, you'll want to keep an eye on the [API reference page for sklearn](http://scikit-learn.org/stable/modules/classes.html) to help you navigate to all of the classes and functions that you'll need. In this substep, you'll need to check the following:\n",
    "\n",
    "- sklearn requires that data not have missing values in order for its estimators to work properly. So, before applying the scaler to your data, make sure that you've cleaned the DataFrame of the remaining missing values. This can be as simple as just removing all data points with missing data, or applying an [Imputer](http://scikit-learn.org/stable/modules/generated/sklearn.preprocessing.Imputer.html) to replace all missing values. You might also try a more complicated procedure where you temporarily remove missing values in order to compute the scaling parameters before re-introducing those missing values and applying imputation. Think about how much missing data you have and what possible effects each approach might have on your analysis, and justify your decision in the discussion section below.\n",
    "- For the actual scaling function, a [StandardScaler](http://scikit-learn.org/stable/modules/generated/sklearn.preprocessing.StandardScaler.html) instance is suggested, scaling each feature to mean 0 and standard deviation 1.\n",
    "- For these classes, you can make use of the `.fit_transform()` method to both fit a procedure to the data as well as apply the transformation to the data at the same time. Don't forget to keep the fit sklearn objects handy, since you'll be applying them to the customer demographics data towards the end of the project."
   ]
  },
  {
   "cell_type": "code",
   "execution_count": 37,
   "metadata": {},
   "outputs": [
    {
     "data": {
      "text/plain": [
       "\"PESONAL COMMNENT: First, before we carry out any feature scaling, deleting, or imputing \\nof the NaNs, I'll first look at how the numeric features are distributed, i.e. the continuous \\nfeatures. For instance, this will give a good clue if we should impute \\nwith mean or mode. Remembering that the column 'GEBURTSJAHR' was already \\ndropped at the begining for having over 20% of missing values.\""
      ]
     },
     "execution_count": 37,
     "metadata": {},
     "output_type": "execute_result"
    }
   ],
   "source": [
    "# If you've not yet cleaned the dataset of all NaN values, then investigate and\n",
    "# do that now.\n",
    "\"\"\"PESONAL COMMNENT: First, before we carry out any feature scaling, deleting, or imputing \n",
    "of the NaNs, I'll first look at how the numeric features are distributed, i.e. the continuous \n",
    "features. For instance, this will give a good clue if we should impute \n",
    "with mean or mode. Remembering that the column 'GEBURTSJAHR' was already \n",
    "dropped at the begining for having over 20% of missing values.\"\"\""
   ]
  },
  {
   "cell_type": "code",
   "execution_count": 38,
   "metadata": {},
   "outputs": [
    {
     "data": {
      "text/html": [
       "<div>\n",
       "<style scoped>\n",
       "    .dataframe tbody tr th:only-of-type {\n",
       "        vertical-align: middle;\n",
       "    }\n",
       "\n",
       "    .dataframe tbody tr th {\n",
       "        vertical-align: top;\n",
       "    }\n",
       "\n",
       "    .dataframe thead th {\n",
       "        text-align: right;\n",
       "    }\n",
       "</style>\n",
       "<table border=\"1\" class=\"dataframe\">\n",
       "  <thead>\n",
       "    <tr style=\"text-align: right;\">\n",
       "      <th></th>\n",
       "      <th>attribute</th>\n",
       "      <th>information_level</th>\n",
       "      <th>type</th>\n",
       "      <th>missing_or_unknown</th>\n",
       "    </tr>\n",
       "  </thead>\n",
       "  <tbody>\n",
       "    <tr>\n",
       "      <th>11</th>\n",
       "      <td>GEBURTSJAHR</td>\n",
       "      <td>person</td>\n",
       "      <td>numeric</td>\n",
       "      <td>[0]</td>\n",
       "    </tr>\n",
       "    <tr>\n",
       "      <th>44</th>\n",
       "      <td>ANZ_PERSONEN</td>\n",
       "      <td>household</td>\n",
       "      <td>numeric</td>\n",
       "      <td>[]</td>\n",
       "    </tr>\n",
       "    <tr>\n",
       "      <th>45</th>\n",
       "      <td>ANZ_TITEL</td>\n",
       "      <td>household</td>\n",
       "      <td>numeric</td>\n",
       "      <td>[]</td>\n",
       "    </tr>\n",
       "    <tr>\n",
       "      <th>50</th>\n",
       "      <td>ANZ_HAUSHALTE_AKTIV</td>\n",
       "      <td>building</td>\n",
       "      <td>numeric</td>\n",
       "      <td>[0]</td>\n",
       "    </tr>\n",
       "    <tr>\n",
       "      <th>51</th>\n",
       "      <td>ANZ_HH_TITEL</td>\n",
       "      <td>building</td>\n",
       "      <td>numeric</td>\n",
       "      <td>[]</td>\n",
       "    </tr>\n",
       "    <tr>\n",
       "      <th>54</th>\n",
       "      <td>MIN_GEBAEUDEJAHR</td>\n",
       "      <td>building</td>\n",
       "      <td>numeric</td>\n",
       "      <td>[0]</td>\n",
       "    </tr>\n",
       "    <tr>\n",
       "      <th>74</th>\n",
       "      <td>KBA13_ANZAHL_PKW</td>\n",
       "      <td>macrocell_plz8</td>\n",
       "      <td>numeric</td>\n",
       "      <td>[]</td>\n",
       "    </tr>\n",
       "  </tbody>\n",
       "</table>\n",
       "</div>"
      ],
      "text/plain": [
       "              attribute information_level     type missing_or_unknown\n",
       "11          GEBURTSJAHR            person  numeric                [0]\n",
       "44         ANZ_PERSONEN         household  numeric                 []\n",
       "45            ANZ_TITEL         household  numeric                 []\n",
       "50  ANZ_HAUSHALTE_AKTIV          building  numeric                [0]\n",
       "51         ANZ_HH_TITEL          building  numeric                 []\n",
       "54     MIN_GEBAEUDEJAHR          building  numeric                [0]\n",
       "74     KBA13_ANZAHL_PKW    macrocell_plz8  numeric                 []"
      ]
     },
     "execution_count": 38,
     "metadata": {},
     "output_type": "execute_result"
    }
   ],
   "source": [
    "feat_info[feat_info['type']=='numeric']\n",
    "#feat_info['type'].value_counts()"
   ]
  },
  {
   "cell_type": "code",
   "execution_count": 39,
   "metadata": {},
   "outputs": [
    {
     "data": {
      "text/plain": [
       "ANZ_PERSONEN                1.342460\n",
       "ANZ_TITEL                   0.004681\n",
       "ANZ_HAUSHALTE_AKTIV       247.831947\n",
       "ANZ_HH_TITEL                0.105699\n",
       "MIN_GEBAEUDEJAHR            7.474236\n",
       "KBA13_ANZAHL_PKW       115348.458653\n",
       "dtype: float64"
      ]
     },
     "execution_count": 39,
     "metadata": {},
     "output_type": "execute_result"
    }
   ],
   "source": [
    "\"\"\"PERSONAL COMMNET: As we can see there are significant differences\n",
    "of the variances in the numeric features. I'm going to investigate the features a little further\"\"\"\n",
    "azdias_cleaned_binary_encoded[['ANZ_PERSONEN', 'ANZ_TITEL',\n",
    "                 'ANZ_HAUSHALTE_AKTIV', 'ANZ_HH_TITEL',\n",
    "                  'MIN_GEBAEUDEJAHR', 'KBA13_ANZAHL_PKW']].var()"
   ]
  },
  {
   "cell_type": "code",
   "execution_count": 40,
   "metadata": {},
   "outputs": [
    {
     "data": {
      "text/plain": [
       "(45.0, 0.0)"
      ]
     },
     "execution_count": 40,
     "metadata": {},
     "output_type": "execute_result"
    }
   ],
   "source": [
    "#Taking a look at the ANZ_PERSONEN feature\n",
    "azdias_cleaned_binary_encoded['ANZ_PERSONEN'].max(), azdias_cleaned_binary_encoded['ANZ_PERSONEN'].min()"
   ]
  },
  {
   "cell_type": "code",
   "execution_count": 41,
   "metadata": {},
   "outputs": [
    {
     "data": {
      "text/plain": [
       "1.0     0.517601\n",
       "2.0     0.238422\n",
       "3.0     0.116775\n",
       "4.0     0.058118\n",
       "0.0     0.040945\n",
       "5.0     0.019172\n",
       "6.0     0.005998\n",
       "7.0     0.001894\n",
       "8.0     0.000650\n",
       "9.0     0.000223\n",
       "10.0    0.000083\n",
       "11.0    0.000047\n",
       "12.0    0.000020\n",
       "13.0    0.000014\n",
       "14.0    0.000005\n",
       "21.0    0.000005\n",
       "15.0    0.000004\n",
       "20.0    0.000004\n",
       "22.0    0.000003\n",
       "38.0    0.000003\n",
       "37.0    0.000003\n",
       "23.0    0.000003\n",
       "17.0    0.000001\n",
       "40.0    0.000001\n",
       "18.0    0.000001\n",
       "45.0    0.000001\n",
       "16.0    0.000001\n",
       "35.0    0.000001\n",
       "31.0    0.000001\n",
       "Name: ANZ_PERSONEN, dtype: float64"
      ]
     },
     "execution_count": 41,
     "metadata": {},
     "output_type": "execute_result"
    }
   ],
   "source": [
    "azdias_cleaned_binary_encoded['ANZ_PERSONEN'].value_counts()/azdias_cleaned_binary_encoded.shape[0]"
   ]
  },
  {
   "cell_type": "code",
   "execution_count": 42,
   "metadata": {},
   "outputs": [
    {
     "data": {
      "image/png": "[encoded data removed]",
      "text/plain": [
       "<matplotlib.figure.Figure at 0x7f75791fb518>"
      ]
     },
     "metadata": {
      "needs_background": "light"
     },
     "output_type": "display_data"
    }
   ],
   "source": [
    "sns.distplot(azdias_cleaned_binary_encoded['ANZ_PERSONEN'], \n",
    "             hist=True, kde=False)\n",
    "plt.xlim()\n",
    "plt.show()"
   ]
  },
  {
   "cell_type": "code",
   "execution_count": 43,
   "metadata": {},
   "outputs": [
    {
     "data": {
      "text/plain": [
       "(4.0, 0.0)"
      ]
     },
     "execution_count": 43,
     "metadata": {},
     "output_type": "execute_result"
    }
   ],
   "source": [
    "#Investigating the ANZ_TITEL\n",
    "azdias_cleaned_binary_encoded['ANZ_TITEL'].max(), azdias_cleaned_binary_encoded['ANZ_TITEL'].min()"
   ]
  },
  {
   "cell_type": "code",
   "execution_count": 44,
   "metadata": {},
   "outputs": [
    {
     "data": {
      "text/plain": [
       "0.0    0.996112\n",
       "1.0    0.003639\n",
       "2.0    0.000241\n",
       "3.0    0.000006\n",
       "4.0    0.000003\n",
       "Name: ANZ_TITEL, dtype: float64"
      ]
     },
     "execution_count": 44,
     "metadata": {},
     "output_type": "execute_result"
    }
   ],
   "source": [
    "azdias_cleaned_binary_encoded['ANZ_TITEL'].value_counts()/azdias_cleaned_binary_encoded.shape[0]"
   ]
  },
  {
   "cell_type": "code",
   "execution_count": 45,
   "metadata": {},
   "outputs": [
    {
     "data": {
      "image/png": "[encoded data removed]",
      "text/plain": [
       "<matplotlib.figure.Figure at 0x7f7546b2d748>"
      ]
     },
     "metadata": {
      "needs_background": "light"
     },
     "output_type": "display_data"
    }
   ],
   "source": [
    "sns.distplot(azdias_cleaned_binary_encoded['ANZ_TITEL'], hist=True, kde=False)\n",
    "plt.xlim()\n",
    "plt.show()"
   ]
  },
  {
   "cell_type": "code",
   "execution_count": 46,
   "metadata": {},
   "outputs": [
    {
     "data": {
      "text/plain": [
       "1.0      0.241421\n",
       "2.0      0.151704\n",
       "3.0      0.078832\n",
       "4.0      0.054471\n",
       "5.0      0.047625\n",
       "6.0      0.045388\n",
       "7.0      0.043587\n",
       "8.0      0.040776\n",
       "9.0      0.036664\n",
       "10.0     0.032119\n",
       "11.0     0.027801\n",
       "12.0     0.022788\n",
       "13.0     0.019324\n",
       "14.0     0.015976\n",
       "15.0     0.013118\n",
       "16.0     0.011238\n",
       "17.0     0.009215\n",
       "18.0     0.007990\n",
       "19.0     0.006894\n",
       "20.0     0.005905\n",
       "21.0     0.005227\n",
       "22.0     0.004739\n",
       "23.0     0.004094\n",
       "24.0     0.003570\n",
       "25.0     0.003319\n",
       "26.0     0.002963\n",
       "27.0     0.002824\n",
       "28.0     0.002577\n",
       "29.0     0.002478\n",
       "30.0     0.002303\n",
       "           ...   \n",
       "326.0    0.000005\n",
       "250.0    0.000005\n",
       "266.0    0.000005\n",
       "174.0    0.000005\n",
       "260.0    0.000005\n",
       "256.0    0.000005\n",
       "523.0    0.000005\n",
       "255.0    0.000005\n",
       "301.0    0.000005\n",
       "249.0    0.000005\n",
       "515.0    0.000005\n",
       "285.0    0.000005\n",
       "293.0    0.000004\n",
       "224.0    0.000004\n",
       "414.0    0.000004\n",
       "168.0    0.000004\n",
       "272.0    0.000004\n",
       "395.0    0.000004\n",
       "307.0    0.000004\n",
       "244.0    0.000004\n",
       "226.0    0.000004\n",
       "378.0    0.000004\n",
       "404.0    0.000003\n",
       "237.0    0.000003\n",
       "254.0    0.000003\n",
       "213.0    0.000003\n",
       "366.0    0.000001\n",
       "232.0    0.000001\n",
       "536.0    0.000001\n",
       "220.0    0.000001\n",
       "Name: ANZ_HAUSHALTE_AKTIV, Length: 291, dtype: float64"
      ]
     },
     "execution_count": 46,
     "metadata": {},
     "output_type": "execute_result"
    }
   ],
   "source": [
    "azdias_cleaned_binary_encoded['ANZ_HAUSHALTE_AKTIV'].value_counts()/azdias_cleaned_binary_encoded.shape[0]"
   ]
  },
  {
   "cell_type": "code",
   "execution_count": 47,
   "metadata": {},
   "outputs": [
    {
     "data": {
      "text/plain": [
       "0.0     0.965394\n",
       "1.0     0.025430\n",
       "2.0     0.003104\n",
       "3.0     0.000737\n",
       "4.0     0.000294\n",
       "5.0     0.000149\n",
       "6.0     0.000134\n",
       "8.0     0.000087\n",
       "7.0     0.000083\n",
       "9.0     0.000042\n",
       "13.0    0.000037\n",
       "12.0    0.000028\n",
       "11.0    0.000028\n",
       "14.0    0.000020\n",
       "10.0    0.000020\n",
       "17.0    0.000017\n",
       "20.0    0.000011\n",
       "15.0    0.000009\n",
       "18.0    0.000008\n",
       "23.0    0.000004\n",
       "16.0    0.000003\n",
       "Name: ANZ_HH_TITEL, dtype: float64"
      ]
     },
     "execution_count": 47,
     "metadata": {},
     "output_type": "execute_result"
    }
   ],
   "source": [
    "#sns.distplot(azdias_cleaned_binary_encoded['ANZ_HH_TITEL'], hist=True, kde=False)\n",
    "#plt.show()\n",
    "\n",
    "azdias_cleaned_binary_encoded['ANZ_HH_TITEL'].value_counts()/azdias_cleaned_binary_encoded.shape[0]"
   ]
  },
  {
   "cell_type": "code",
   "execution_count": 48,
   "metadata": {},
   "outputs": [
    {
     "data": {
      "text/plain": [
       "1992.0    0.722825\n",
       "1994.0    0.099619\n",
       "1993.0    0.032385\n",
       "1995.0    0.032285\n",
       "1996.0    0.021006\n",
       "1997.0    0.018147\n",
       "2000.0    0.009013\n",
       "1991.0    0.007379\n",
       "2001.0    0.007128\n",
       "2005.0    0.006281\n",
       "1990.0    0.005605\n",
       "1999.0    0.005404\n",
       "2002.0    0.005069\n",
       "1998.0    0.005055\n",
       "2003.0    0.004062\n",
       "2004.0    0.003467\n",
       "1989.0    0.002601\n",
       "2007.0    0.002242\n",
       "2008.0    0.002212\n",
       "2006.0    0.002041\n",
       "2009.0    0.001803\n",
       "1988.0    0.001306\n",
       "2011.0    0.000655\n",
       "1987.0    0.000598\n",
       "2012.0    0.000584\n",
       "2010.0    0.000501\n",
       "2013.0    0.000256\n",
       "1986.0    0.000159\n",
       "2014.0    0.000143\n",
       "1985.0    0.000130\n",
       "2015.0    0.000038\n",
       "Name: MIN_GEBAEUDEJAHR, dtype: float64"
      ]
     },
     "execution_count": 48,
     "metadata": {},
     "output_type": "execute_result"
    }
   ],
   "source": [
    "azdias_cleaned_binary_encoded['MIN_GEBAEUDEJAHR'].value_counts()/azdias_cleaned_binary_encoded.shape[0]"
   ]
  },
  {
   "cell_type": "code",
   "execution_count": 49,
   "metadata": {},
   "outputs": [
    {
     "data": {
      "image/png": "[encoded data removed]",
      "text/plain": [
       "<matplotlib.figure.Figure at 0x7f7546e66b00>"
      ]
     },
     "metadata": {
      "needs_background": "light"
     },
     "output_type": "display_data"
    }
   ],
   "source": [
    "sns.distplot(azdias_cleaned_binary_encoded['MIN_GEBAEUDEJAHR'], hist=True, kde=False)\n",
    "plt.show()"
   ]
  },
  {
   "cell_type": "code",
   "execution_count": 50,
   "metadata": {},
   "outputs": [
    {
     "data": {
      "text/plain": [
       "1400.0    0.014744\n",
       "1500.0    0.010400\n",
       "1300.0    0.008072\n",
       "1600.0    0.007707\n",
       "1700.0    0.004772\n",
       "1800.0    0.003283\n",
       "417.0     0.002036\n",
       "464.0     0.002027\n",
       "519.0     0.002026\n",
       "534.0     0.001887\n",
       "386.0     0.001840\n",
       "1900.0    0.001822\n",
       "395.0     0.001821\n",
       "481.0     0.001788\n",
       "455.0     0.001778\n",
       "452.0     0.001761\n",
       "483.0     0.001759\n",
       "454.0     0.001751\n",
       "459.0     0.001746\n",
       "450.0     0.001746\n",
       "494.0     0.001745\n",
       "418.0     0.001744\n",
       "492.0     0.001718\n",
       "504.0     0.001694\n",
       "420.0     0.001693\n",
       "387.0     0.001691\n",
       "506.0     0.001679\n",
       "388.0     0.001675\n",
       "456.0     0.001675\n",
       "439.0     0.001672\n",
       "            ...   \n",
       "27.0      0.000031\n",
       "28.0      0.000029\n",
       "25.0      0.000028\n",
       "24.0      0.000028\n",
       "18.0      0.000027\n",
       "26.0      0.000027\n",
       "17.0      0.000025\n",
       "20.0      0.000023\n",
       "21.0      0.000022\n",
       "22.0      0.000020\n",
       "14.0      0.000020\n",
       "12.0      0.000020\n",
       "29.0      0.000019\n",
       "15.0      0.000017\n",
       "23.0      0.000017\n",
       "30.0      0.000015\n",
       "19.0      0.000014\n",
       "16.0      0.000013\n",
       "13.0      0.000011\n",
       "10.0      0.000010\n",
       "1.0       0.000010\n",
       "9.0       0.000009\n",
       "5.0       0.000009\n",
       "4.0       0.000008\n",
       "3.0       0.000008\n",
       "8.0       0.000008\n",
       "2.0       0.000008\n",
       "11.0      0.000008\n",
       "7.0       0.000006\n",
       "6.0       0.000005\n",
       "Name: KBA13_ANZAHL_PKW, Length: 1261, dtype: float64"
      ]
     },
     "execution_count": 50,
     "metadata": {},
     "output_type": "execute_result"
    }
   ],
   "source": [
    "azdias_cleaned_binary_encoded['KBA13_ANZAHL_PKW'].value_counts()/azdias_cleaned_binary_encoded.shape[0]"
   ]
  },
  {
   "cell_type": "markdown",
   "metadata": {},
   "source": [
    "# Re-encoding numeric variables"
   ]
  },
  {
   "cell_type": "code",
   "execution_count": 51,
   "metadata": {},
   "outputs": [],
   "source": [
    "#re-encoding 'ANZ_PERSONEN': Number of adults in a household\n",
    "azdias_cleaned_binary_encoded.loc[azdias_cleaned_binary_encoded['ANZ_PERSONEN']>5,\n",
    "                                  'ANZ_PERSONEN']=0\n"
   ]
  },
  {
   "cell_type": "code",
   "execution_count": 52,
   "metadata": {},
   "outputs": [],
   "source": [
    "#Re-encoding ANZ_TITEL: Number of professiona academic title holders ina household\n",
    "#1 = no diplomas\n",
    "#2 = having diplomas\n",
    "\n",
    "azdias_cleaned_binary_encoded['ANZ_TITEL'].replace({0:1,1:2, 2:2, 3:2, 4:2}, inplace=True)"
   ]
  },
  {
   "cell_type": "code",
   "execution_count": 53,
   "metadata": {},
   "outputs": [],
   "source": [
    "#re-encoding 'ANZ_HAUSHALTE_AKTIV'\n",
    "#values of 30 will be considered as 0, or missing values.\n",
    "azdias_cleaned_binary_encoded.loc[azdias_cleaned_binary_encoded['ANZ_HAUSHALTE_AKTIV']>30,\n",
    "                                  'ANZ_HAUSHALTE_AKTIV']=0"
   ]
  },
  {
   "cell_type": "code",
   "execution_count": 54,
   "metadata": {},
   "outputs": [],
   "source": [
    "### Re-encoding MIN_GEBAEUDEJAHR:\n",
    "def Encode_Year(x):\n",
    "    if x < 1992 or x >1997:\n",
    "        return 0\n",
    "    else:\n",
    "        return x\n",
    "\n",
    "azdias_cleaned_binary_encoded['MIN_GEBAEUDEJAHR'] = azdias_cleaned_binary_encoded['MIN_GEBAEUDEJAHR'].apply(Encode_Year) "
   ]
  },
  {
   "cell_type": "code",
   "execution_count": 55,
   "metadata": {},
   "outputs": [],
   "source": [
    "#Droping some numeric features & renaming the data set to df for brevity\n",
    "numeric_drop=['ANZ_HH_TITEL', 'KBA13_ANZAHL_PKW']\n",
    "\n",
    "azdias_cleaned_binary_encoded.drop(columns=numeric_drop, axis='columns', inplace=True)"
   ]
  },
  {
   "cell_type": "code",
   "execution_count": 56,
   "metadata": {},
   "outputs": [],
   "source": [
    "\"\"\"PERSONAL COMMENT: Before finaly filling in the NaN's, I will create a column\n",
    "with the percentage of missing values in each row. Maybe this could retain some useful\n",
    "information down the line, rather than removing them\"\"\"\n",
    "\n",
    "azdias_cleaned_binary_encoded['%_Missing_values'] = azdias_cleaned_binary_encoded.isna().mean(axis= 1)\n"
   ]
  },
  {
   "cell_type": "code",
   "execution_count": 57,
   "metadata": {},
   "outputs": [],
   "source": [
    "#Here I'll substitute all missing values as 0\n",
    "\n",
    "azdias_cleaned_binary_encoded =azdias_cleaned_binary_encoded.fillna(0)"
   ]
  },
  {
   "cell_type": "code",
   "execution_count": 58,
   "metadata": {},
   "outputs": [],
   "source": [
    "azdias_cleaned_binary_encoded = pd.get_dummies(azdias_cleaned_binary_encoded,\n",
    "                                              columns = ['ANZ_PERSONEN', 'ANZ_TITEL',\n",
    "                                                        'ANZ_HAUSHALTE_AKTIV',\n",
    "                                                'MIN_GEBAEUDEJAHR',],\n",
    "                                              prefix='NUM_FEAT')"
   ]
  },
  {
   "cell_type": "code",
   "execution_count": 59,
   "metadata": {},
   "outputs": [
    {
     "data": {
      "text/plain": [
       "(785761, 115)"
      ]
     },
     "execution_count": 59,
     "metadata": {},
     "output_type": "execute_result"
    }
   ],
   "source": [
    "# Lastly, I'll renaming the data set to df for brevity for future dimensionality reduction\n",
    "df = azdias_cleaned_binary_encoded\n",
    "\n",
    "df.shape"
   ]
  },
  {
   "cell_type": "code",
   "execution_count": 60,
   "metadata": {},
   "outputs": [
    {
     "data": {
      "text/plain": [
       "Index(['ALTERSKATEGORIE_GROB', 'FINANZ_MINIMALIST', 'FINANZ_SPARER',\n",
       "       'FINANZ_VORSORGER', 'FINANZ_ANLEGER', 'FINANZ_UNAUFFAELLIGER',\n",
       "       'FINANZ_HAUSBAUER', 'HEALTH_TYP', 'RETOURTYP_BK_S', 'SEMIO_SOZ',\n",
       "       ...\n",
       "       'NUM_FEAT_28.0', 'NUM_FEAT_29.0', 'NUM_FEAT_30.0', 'NUM_FEAT_0.0',\n",
       "       'NUM_FEAT_1992.0', 'NUM_FEAT_1993.0', 'NUM_FEAT_1994.0',\n",
       "       'NUM_FEAT_1995.0', 'NUM_FEAT_1996.0', 'NUM_FEAT_1997.0'],\n",
       "      dtype='object', length=115)"
      ]
     },
     "execution_count": 60,
     "metadata": {},
     "output_type": "execute_result"
    }
   ],
   "source": [
    "df.columns"
   ]
  },
  {
   "cell_type": "markdown",
   "metadata": {},
   "source": [
    "### Discussion 2.1: Apply Feature Scaling\n",
    "\n",
    "First, an inspection of that the numeric features actually represent.\n",
    "\n",
    "ANZ_PERSONEN: is the number of adults in a household. Therefore, this cannot be considered a continuous feature. From the distribution plot, we can see that there are negative numbers and excessively high number like 37 and higher, which makes no sense. Households with 1-5 adults represent 95% of the variance in the data set; therefore, I’ll replace any value larger than 5 to 0. and consider them as NaN.\n",
    "\n",
    "ANZ_TITEL: Number of professional academic title holders in household. There are five uniquely different values and the values, 99% have no academic titles. I have chosen to recode this features as follows 0  as no diplomas, 1, 2, 3, 4 = 1 as having diplomas.\n",
    "\n",
    "ANZ_HAUSHALTE_AKTIV: Number of households in the building. The feature as 291 uniquely different values. When investigating the distribution of values, we see that buildings with 1-30 households per building or over represent ~95% of the data set. So I’ll re-encode the values over 30 to represent a missing values such as 0.\n",
    "\n",
    "ANZ_HH_TITEL: Number of professional academic title holders in building. As we can see from cell 46, as much as 96% of the entries are 0, no diplomas. This seems awfully similar to the ANZ_TITEL. I decided to drop this feature because it most likely won’t render much more information than the ANZ_TITEL feature. \n",
    "\n",
    "MIN_GEBAEUDEJAHR: This feature contains years. Thus is should be considered as a categorical variable. It contains 31 uniquely different values; however, the years 1992, 1993, 1995, 1995, 1996, 1997 account for ~93 of the data. Therefore, buildings constructed before 1992 and after 1997 will be recoded as 0, for missing values. The remaining will be re-encoded with hot-one encoding.\n",
    "\n",
    "KBA13_ANZAHL_PKW: Number of cars in the PLZ8 region. This feature also makes no sense. There’re 1261 uniquely different values in the feature. So, I’ve decided to drop this feature too. \n",
    "\n",
    "After careful investigation of the six features that are considered numeric, I have decided to drop three of them; namely, 'ANZ_PERSONEN', 'ANZ_TITEL', 'KBA13_ANZAHL_PKW' as explained above. The remaining three cannot be considerd continous variables. For instance, MIN_GEBAEUDEJAHR contains years, which should be treated as categorical so I’ve re-encoded it. ANZ_HAUSHALTE_AKTIV are integers numbers of household per building. I have treated this feature as categorical and removed categories that hold very little variance and subsequently re-encode them. Similarly, ANZ_HH_TITEL was also treated as categorical variables and re-encoding and removal of entries that represented very little variance. As a result, none of the initially considered numeric features have been re-scaled as none of them could be considered continuous values. At least not as far as I could see. Lastly, no imputation was performed since imputing with the mean or mode for example would not make much sense since I don’t really see the “numeric” features as being continuous. In conclusion, no feature scalin, imputation was considered warranted."
   ]
  },
  {
   "cell_type": "markdown",
   "metadata": {},
   "source": [
    "### Step 2.2: Perform Dimensionality Reduction\n",
    "\n",
    "On your scaled data, you are now ready to apply dimensionality reduction techniques.\n",
    "\n",
    "- Use sklearn's [PCA](http://scikit-learn.org/stable/modules/generated/sklearn.decomposition.PCA.html) class to apply principal component analysis on the data, thus finding the vectors of maximal variance in the data. To start, you should not set any parameters (so all components are computed) or set a number of components that is at least half the number of features (so there's enough features to see the general trend in variability).\n",
    "- Check out the ratio of variance explained by each principal component as well as the cumulative variance explained. Try plotting the cumulative or sequential values using matplotlib's [`plot()`](https://matplotlib.org/api/_as_gen/matplotlib.pyplot.plot.html) function. Based on what you find, select a value for the number of transformed features you'll retain for the clustering part of the project.\n",
    "- Once you've made a choice for the number of components to keep, make sure you re-fit a PCA instance to perform the decided-on transformation."
   ]
  },
  {
   "cell_type": "code",
   "execution_count": 61,
   "metadata": {},
   "outputs": [],
   "source": [
    "# Apply PCA to the data.\n",
    "from sklearn.decomposition import PCA\n",
    "\n",
    "pca=PCA(n_components=115)\n",
    "pca.fit(df)\n",
    "df_pca = pca.transform(df)\n"
   ]
  },
  {
   "cell_type": "code",
   "execution_count": 62,
   "metadata": {},
   "outputs": [
    {
     "data": {
      "image/png": "[encoded data removed]",
      "text/plain": [
       "<matplotlib.figure.Figure at 0x7f7524e19390>"
      ]
     },
     "metadata": {
      "needs_background": "light"
     },
     "output_type": "display_data"
    }
   ],
   "source": [
    "# Investigate the variance accounted for by each principal component.\n",
    "n_components = np.arange(len(pca.explained_variance_ratio_))\n",
    "variance = (pca.explained_variance_ratio_)*100\n",
    "cuml_var = np.cumsum(variance)\n",
    "\n",
    "fig, ax = plt.subplots(figsize=(15,7))\n",
    "ax.bar(n_components, variance, label='Percent in each PC')\n",
    "ax.plot(n_components, cuml_var, c='r', label='Cumulative sum of variance')\n",
    "ax.set_xlabel('Principal Components', size=14)\n",
    "ax.set_ylabel('Percentage of Variance(%)', size=14)\n",
    "ax.set_title('Explained Variance by Principal Component', size=18)\n",
    "ax.legend(loc='center right', frameon=True, shadow=True, borderpad=1)\n",
    "plt.show()"
   ]
  },
  {
   "cell_type": "code",
   "execution_count": 63,
   "metadata": {},
   "outputs": [],
   "source": [
    "# Re-apply PCA to the data while selecting for number of components to retain.\n",
    "pca_n15=PCA(n_components=15)\n",
    "df_pcan15 = pca_n15.fit_transform(df)"
   ]
  },
  {
   "cell_type": "code",
   "execution_count": 64,
   "metadata": {},
   "outputs": [
    {
     "data": {
      "image/png": "[encoded data removed]",
      "text/plain": [
       "<matplotlib.figure.Figure at 0x7f752921fb00>"
      ]
     },
     "metadata": {
      "needs_background": "light"
     },
     "output_type": "display_data"
    }
   ],
   "source": [
    "# Investigate the variance accounted for by each principal component.\n",
    "length_comp = len(pca_n15.explained_variance_ratio_)\n",
    "n15_components = np.arange(length_comp)\n",
    "variance_n15 = (pca_n15.explained_variance_ratio_)*100\n",
    "cuml_varn15 = np.cumsum(variance_n15)\n",
    "fig, ax = plt.subplots(figsize=(15,10))\n",
    "ax.bar(n15_components, variance_n15, label='Variance in Component')\n",
    "ax.plot(n15_components, cuml_varn15,c='r', label='Cumulative sum of variance')\n",
    "ax.set_xlabel('Principal Components', size=14)\n",
    "ax.set_ylabel('Percentage of Variance(%)', size=14)\n",
    "ax.set_title('Explained Variance for 15 components', size=16,  fontweight='bold')\n",
    "ax.legend(loc='center right',frameon=True, shadow=True, borderpad=1)\n",
    "plt.show()"
   ]
  },
  {
   "cell_type": "code",
   "execution_count": 65,
   "metadata": {},
   "outputs": [
    {
     "name": "stdout",
     "output_type": "stream",
     "text": [
      "Variance captured by each Principal Component\n"
     ]
    }
   ],
   "source": [
    "var = [round(i, 1) for i in variance_n15]\n",
    "print('Variance captured by each Principal Component')"
   ]
  },
  {
   "cell_type": "markdown",
   "metadata": {},
   "source": [
    "### Discussion 2.2: Perform Dimensionality Reduction\n",
    "\n",
    "As we can see from the 115 components, variance acumulation nears 100% with 60 components. The first 15 principal components explain more than 80% of the variance, with the first component capturing 29% of the variance, the second 13% of the variance, and so forth. So I'll continue with the first 15 components for the remainder of the analysis since this is a decent amount. "
   ]
  },
  {
   "cell_type": "markdown",
   "metadata": {},
   "source": [
    "### Step 2.3: Interpret Principal Components\n",
    "\n",
    "Now that we have our transformed principal components, it's a nice idea to check out the weight of each variable on the first few components to see if they can be interpreted in some fashion.\n",
    "\n",
    "As a reminder, each principal component is a unit vector that points in the direction of highest variance (after accounting for the variance captured by earlier principal components). The further a weight is from zero, the more the principal component is in the direction of the corresponding feature. If two features have large weights of the same sign (both positive or both negative), then increases in one tend expect to be associated with increases in the other. To contrast, features with different signs can be expected to show a negative correlation: increases in one variable should result in a decrease in the other.\n",
    "\n",
    "- To investigate the features, you should map each weight to their corresponding feature name, then sort the features according to weight. The most interesting features for each principal component, then, will be those at the beginning and end of the sorted list. Use the data dictionary document to help you understand these most prominent features, their relationships, and what a positive or negative value on the principal component might indicate.\n",
    "- You should investigate and interpret feature associations from the first three principal components in this substep. To help facilitate this, you should write a function that you can call at any time to print the sorted list of feature weights, for the *i*-th principal component. This might come in handy in the next step of the project, when you interpret the tendencies of the discovered clusters."
   ]
  },
  {
   "cell_type": "code",
   "execution_count": 66,
   "metadata": {},
   "outputs": [],
   "source": [
    "Components_n15=pd.DataFrame(pca_n15.components_, columns=df.columns, index=['PC-1','PC-2','PC-3','PC-4', 'PC-5',\n",
    "                                                                           'PC-6','PC-7','PC-8','PC-9','PC-10',\n",
    "                                                                           'PC-11','PC-12','PC-13','PC-14','PC-15'])"
   ]
  },
  {
   "cell_type": "code",
   "execution_count": 67,
   "metadata": {},
   "outputs": [],
   "source": [
    "#sns.pairplot(df_pca_n15)"
   ]
  },
  {
   "cell_type": "code",
   "execution_count": 68,
   "metadata": {},
   "outputs": [
    {
     "data": {
      "text/html": [
       "<div>\n",
       "<style scoped>\n",
       "    .dataframe tbody tr th:only-of-type {\n",
       "        vertical-align: middle;\n",
       "    }\n",
       "\n",
       "    .dataframe tbody tr th {\n",
       "        vertical-align: top;\n",
       "    }\n",
       "\n",
       "    .dataframe thead th {\n",
       "        text-align: right;\n",
       "    }\n",
       "</style>\n",
       "<table border=\"1\" class=\"dataframe\">\n",
       "  <thead>\n",
       "    <tr style=\"text-align: right;\">\n",
       "      <th></th>\n",
       "      <th>ALTERSKATEGORIE_GROB</th>\n",
       "      <th>FINANZ_MINIMALIST</th>\n",
       "      <th>FINANZ_SPARER</th>\n",
       "      <th>FINANZ_VORSORGER</th>\n",
       "      <th>FINANZ_ANLEGER</th>\n",
       "      <th>FINANZ_UNAUFFAELLIGER</th>\n",
       "      <th>FINANZ_HAUSBAUER</th>\n",
       "      <th>HEALTH_TYP</th>\n",
       "      <th>RETOURTYP_BK_S</th>\n",
       "      <th>SEMIO_SOZ</th>\n",
       "      <th>...</th>\n",
       "      <th>NUM_FEAT_28.0</th>\n",
       "      <th>NUM_FEAT_29.0</th>\n",
       "      <th>NUM_FEAT_30.0</th>\n",
       "      <th>NUM_FEAT_0.0</th>\n",
       "      <th>NUM_FEAT_1992.0</th>\n",
       "      <th>NUM_FEAT_1993.0</th>\n",
       "      <th>NUM_FEAT_1994.0</th>\n",
       "      <th>NUM_FEAT_1995.0</th>\n",
       "      <th>NUM_FEAT_1996.0</th>\n",
       "      <th>NUM_FEAT_1997.0</th>\n",
       "    </tr>\n",
       "  </thead>\n",
       "  <tbody>\n",
       "    <tr>\n",
       "      <th>PC-1</th>\n",
       "      <td>0.021724</td>\n",
       "      <td>0.002602</td>\n",
       "      <td>-0.034463</td>\n",
       "      <td>0.026602</td>\n",
       "      <td>-0.025089</td>\n",
       "      <td>-0.030013</td>\n",
       "      <td>0.025248</td>\n",
       "      <td>-0.007086</td>\n",
       "      <td>0.018850</td>\n",
       "      <td>-0.012430</td>\n",
       "      <td>...</td>\n",
       "      <td>0.000106</td>\n",
       "      <td>0.000132</td>\n",
       "      <td>0.000118</td>\n",
       "      <td>-0.000288</td>\n",
       "      <td>-0.001520</td>\n",
       "      <td>0.000614</td>\n",
       "      <td>0.002039</td>\n",
       "      <td>-0.000151</td>\n",
       "      <td>-0.000377</td>\n",
       "      <td>-0.000317</td>\n",
       "    </tr>\n",
       "    <tr>\n",
       "      <th>PC-2</th>\n",
       "      <td>-0.148623</td>\n",
       "      <td>-0.147234</td>\n",
       "      <td>0.204112</td>\n",
       "      <td>-0.168763</td>\n",
       "      <td>0.112392</td>\n",
       "      <td>0.146025</td>\n",
       "      <td>0.039942</td>\n",
       "      <td>0.015284</td>\n",
       "      <td>-0.076075</td>\n",
       "      <td>0.169973</td>\n",
       "      <td>...</td>\n",
       "      <td>0.000269</td>\n",
       "      <td>0.000280</td>\n",
       "      <td>0.000249</td>\n",
       "      <td>-0.001036</td>\n",
       "      <td>0.003010</td>\n",
       "      <td>0.000888</td>\n",
       "      <td>-0.000255</td>\n",
       "      <td>-0.000301</td>\n",
       "      <td>-0.001215</td>\n",
       "      <td>-0.001091</td>\n",
       "    </tr>\n",
       "    <tr>\n",
       "      <th>PC-3</th>\n",
       "      <td>-0.043532</td>\n",
       "      <td>0.109805</td>\n",
       "      <td>0.027826</td>\n",
       "      <td>-0.044725</td>\n",
       "      <td>0.063369</td>\n",
       "      <td>0.052583</td>\n",
       "      <td>-0.151855</td>\n",
       "      <td>0.012616</td>\n",
       "      <td>-0.069813</td>\n",
       "      <td>0.115631</td>\n",
       "      <td>...</td>\n",
       "      <td>-0.000508</td>\n",
       "      <td>-0.000470</td>\n",
       "      <td>-0.000436</td>\n",
       "      <td>0.005033</td>\n",
       "      <td>-0.011191</td>\n",
       "      <td>-0.001290</td>\n",
       "      <td>0.000205</td>\n",
       "      <td>0.001863</td>\n",
       "      <td>0.002823</td>\n",
       "      <td>0.002558</td>\n",
       "    </tr>\n",
       "    <tr>\n",
       "      <th>PC-4</th>\n",
       "      <td>0.109085</td>\n",
       "      <td>0.142554</td>\n",
       "      <td>-0.164779</td>\n",
       "      <td>0.150036</td>\n",
       "      <td>-0.224916</td>\n",
       "      <td>-0.140679</td>\n",
       "      <td>-0.000655</td>\n",
       "      <td>-0.010432</td>\n",
       "      <td>0.139768</td>\n",
       "      <td>0.250680</td>\n",
       "      <td>...</td>\n",
       "      <td>0.000159</td>\n",
       "      <td>0.000135</td>\n",
       "      <td>0.000124</td>\n",
       "      <td>-0.002862</td>\n",
       "      <td>0.005052</td>\n",
       "      <td>0.000516</td>\n",
       "      <td>0.000155</td>\n",
       "      <td>-0.000845</td>\n",
       "      <td>-0.000985</td>\n",
       "      <td>-0.001030</td>\n",
       "    </tr>\n",
       "    <tr>\n",
       "      <th>PC-5</th>\n",
       "      <td>-0.017119</td>\n",
       "      <td>0.145200</td>\n",
       "      <td>-0.041104</td>\n",
       "      <td>-0.004989</td>\n",
       "      <td>-0.113147</td>\n",
       "      <td>0.048726</td>\n",
       "      <td>-0.190151</td>\n",
       "      <td>0.021768</td>\n",
       "      <td>-0.010347</td>\n",
       "      <td>0.003899</td>\n",
       "      <td>...</td>\n",
       "      <td>-0.000313</td>\n",
       "      <td>-0.000289</td>\n",
       "      <td>-0.000281</td>\n",
       "      <td>0.008548</td>\n",
       "      <td>-0.004233</td>\n",
       "      <td>-0.001278</td>\n",
       "      <td>-0.005916</td>\n",
       "      <td>-0.000889</td>\n",
       "      <td>0.001229</td>\n",
       "      <td>0.002538</td>\n",
       "    </tr>\n",
       "    <tr>\n",
       "      <th>PC-6</th>\n",
       "      <td>0.026961</td>\n",
       "      <td>-0.081543</td>\n",
       "      <td>-0.012699</td>\n",
       "      <td>0.003883</td>\n",
       "      <td>-0.039492</td>\n",
       "      <td>-0.018200</td>\n",
       "      <td>0.104528</td>\n",
       "      <td>-0.009765</td>\n",
       "      <td>0.046111</td>\n",
       "      <td>-0.028504</td>\n",
       "      <td>...</td>\n",
       "      <td>0.000470</td>\n",
       "      <td>0.000430</td>\n",
       "      <td>0.000385</td>\n",
       "      <td>0.025202</td>\n",
       "      <td>-0.052266</td>\n",
       "      <td>0.001024</td>\n",
       "      <td>0.013775</td>\n",
       "      <td>0.004626</td>\n",
       "      <td>0.003681</td>\n",
       "      <td>0.003958</td>\n",
       "    </tr>\n",
       "    <tr>\n",
       "      <th>PC-7</th>\n",
       "      <td>-0.043473</td>\n",
       "      <td>0.057387</td>\n",
       "      <td>-0.151415</td>\n",
       "      <td>0.139820</td>\n",
       "      <td>-0.149146</td>\n",
       "      <td>-0.106734</td>\n",
       "      <td>0.092121</td>\n",
       "      <td>-0.076199</td>\n",
       "      <td>0.139363</td>\n",
       "      <td>-0.115799</td>\n",
       "      <td>...</td>\n",
       "      <td>-0.000164</td>\n",
       "      <td>-0.000193</td>\n",
       "      <td>-0.000218</td>\n",
       "      <td>-0.010802</td>\n",
       "      <td>0.015272</td>\n",
       "      <td>-0.000255</td>\n",
       "      <td>-0.002069</td>\n",
       "      <td>-0.000863</td>\n",
       "      <td>-0.000553</td>\n",
       "      <td>-0.000729</td>\n",
       "    </tr>\n",
       "    <tr>\n",
       "      <th>PC-8</th>\n",
       "      <td>-0.040294</td>\n",
       "      <td>-0.020534</td>\n",
       "      <td>-0.008772</td>\n",
       "      <td>0.002240</td>\n",
       "      <td>-0.044196</td>\n",
       "      <td>0.030558</td>\n",
       "      <td>0.041410</td>\n",
       "      <td>0.100043</td>\n",
       "      <td>-0.110472</td>\n",
       "      <td>0.055800</td>\n",
       "      <td>...</td>\n",
       "      <td>-0.000257</td>\n",
       "      <td>-0.000242</td>\n",
       "      <td>-0.000192</td>\n",
       "      <td>-0.001756</td>\n",
       "      <td>0.003562</td>\n",
       "      <td>0.000614</td>\n",
       "      <td>-0.000782</td>\n",
       "      <td>-0.000609</td>\n",
       "      <td>-0.000625</td>\n",
       "      <td>-0.000404</td>\n",
       "    </tr>\n",
       "    <tr>\n",
       "      <th>PC-9</th>\n",
       "      <td>0.043441</td>\n",
       "      <td>-0.040863</td>\n",
       "      <td>0.065823</td>\n",
       "      <td>-0.066101</td>\n",
       "      <td>0.048822</td>\n",
       "      <td>0.081041</td>\n",
       "      <td>0.018571</td>\n",
       "      <td>-0.103198</td>\n",
       "      <td>-0.007941</td>\n",
       "      <td>-0.079812</td>\n",
       "      <td>...</td>\n",
       "      <td>0.000357</td>\n",
       "      <td>0.000325</td>\n",
       "      <td>0.000370</td>\n",
       "      <td>0.005685</td>\n",
       "      <td>0.000181</td>\n",
       "      <td>-0.005450</td>\n",
       "      <td>-0.002814</td>\n",
       "      <td>0.000301</td>\n",
       "      <td>0.001264</td>\n",
       "      <td>0.000832</td>\n",
       "    </tr>\n",
       "    <tr>\n",
       "      <th>PC-10</th>\n",
       "      <td>0.073438</td>\n",
       "      <td>-0.071437</td>\n",
       "      <td>0.089528</td>\n",
       "      <td>-0.077881</td>\n",
       "      <td>0.041694</td>\n",
       "      <td>0.117390</td>\n",
       "      <td>0.054069</td>\n",
       "      <td>-0.116812</td>\n",
       "      <td>-0.106003</td>\n",
       "      <td>-0.045217</td>\n",
       "      <td>...</td>\n",
       "      <td>-0.000479</td>\n",
       "      <td>-0.000463</td>\n",
       "      <td>-0.000456</td>\n",
       "      <td>-0.013674</td>\n",
       "      <td>0.013710</td>\n",
       "      <td>0.003963</td>\n",
       "      <td>-0.000576</td>\n",
       "      <td>-0.000248</td>\n",
       "      <td>-0.001519</td>\n",
       "      <td>-0.001656</td>\n",
       "    </tr>\n",
       "    <tr>\n",
       "      <th>PC-11</th>\n",
       "      <td>0.011829</td>\n",
       "      <td>0.202011</td>\n",
       "      <td>-0.237341</td>\n",
       "      <td>0.196108</td>\n",
       "      <td>-0.207813</td>\n",
       "      <td>-0.235440</td>\n",
       "      <td>-0.129146</td>\n",
       "      <td>0.026658</td>\n",
       "      <td>0.265574</td>\n",
       "      <td>-0.141844</td>\n",
       "      <td>...</td>\n",
       "      <td>-0.000047</td>\n",
       "      <td>-0.000011</td>\n",
       "      <td>0.000028</td>\n",
       "      <td>0.011632</td>\n",
       "      <td>-0.004582</td>\n",
       "      <td>-0.000830</td>\n",
       "      <td>-0.003870</td>\n",
       "      <td>-0.001763</td>\n",
       "      <td>-0.000386</td>\n",
       "      <td>-0.000201</td>\n",
       "    </tr>\n",
       "    <tr>\n",
       "      <th>PC-12</th>\n",
       "      <td>-0.002356</td>\n",
       "      <td>-0.126236</td>\n",
       "      <td>0.055249</td>\n",
       "      <td>0.065041</td>\n",
       "      <td>0.022621</td>\n",
       "      <td>0.131723</td>\n",
       "      <td>0.076239</td>\n",
       "      <td>-0.074966</td>\n",
       "      <td>0.043874</td>\n",
       "      <td>-0.079718</td>\n",
       "      <td>...</td>\n",
       "      <td>0.000110</td>\n",
       "      <td>0.000103</td>\n",
       "      <td>0.000171</td>\n",
       "      <td>0.017968</td>\n",
       "      <td>0.007522</td>\n",
       "      <td>-0.003483</td>\n",
       "      <td>-0.009875</td>\n",
       "      <td>-0.006933</td>\n",
       "      <td>-0.003980</td>\n",
       "      <td>-0.001219</td>\n",
       "    </tr>\n",
       "    <tr>\n",
       "      <th>PC-13</th>\n",
       "      <td>0.045429</td>\n",
       "      <td>0.151722</td>\n",
       "      <td>-0.027022</td>\n",
       "      <td>-0.090609</td>\n",
       "      <td>-0.039441</td>\n",
       "      <td>0.031164</td>\n",
       "      <td>-0.259391</td>\n",
       "      <td>0.041132</td>\n",
       "      <td>-0.142306</td>\n",
       "      <td>-0.030423</td>\n",
       "      <td>...</td>\n",
       "      <td>0.000688</td>\n",
       "      <td>0.000685</td>\n",
       "      <td>0.000616</td>\n",
       "      <td>0.042011</td>\n",
       "      <td>-0.047431</td>\n",
       "      <td>0.001233</td>\n",
       "      <td>0.002774</td>\n",
       "      <td>0.000254</td>\n",
       "      <td>-0.000268</td>\n",
       "      <td>0.001427</td>\n",
       "    </tr>\n",
       "    <tr>\n",
       "      <th>PC-14</th>\n",
       "      <td>-0.021035</td>\n",
       "      <td>-0.105030</td>\n",
       "      <td>0.049340</td>\n",
       "      <td>-0.012782</td>\n",
       "      <td>0.127500</td>\n",
       "      <td>-0.035648</td>\n",
       "      <td>0.216808</td>\n",
       "      <td>-0.142796</td>\n",
       "      <td>-0.040426</td>\n",
       "      <td>-0.071319</td>\n",
       "      <td>...</td>\n",
       "      <td>0.000256</td>\n",
       "      <td>0.000259</td>\n",
       "      <td>0.000334</td>\n",
       "      <td>0.000957</td>\n",
       "      <td>-0.029483</td>\n",
       "      <td>0.002964</td>\n",
       "      <td>0.015583</td>\n",
       "      <td>0.003659</td>\n",
       "      <td>0.003724</td>\n",
       "      <td>0.002595</td>\n",
       "    </tr>\n",
       "    <tr>\n",
       "      <th>PC-15</th>\n",
       "      <td>-0.078691</td>\n",
       "      <td>0.037990</td>\n",
       "      <td>-0.043750</td>\n",
       "      <td>0.086963</td>\n",
       "      <td>-0.010711</td>\n",
       "      <td>0.019707</td>\n",
       "      <td>0.012347</td>\n",
       "      <td>-0.082539</td>\n",
       "      <td>0.157807</td>\n",
       "      <td>0.189313</td>\n",
       "      <td>...</td>\n",
       "      <td>0.001316</td>\n",
       "      <td>0.001267</td>\n",
       "      <td>0.001095</td>\n",
       "      <td>0.014003</td>\n",
       "      <td>-0.013823</td>\n",
       "      <td>0.001976</td>\n",
       "      <td>0.002201</td>\n",
       "      <td>-0.002285</td>\n",
       "      <td>-0.001515</td>\n",
       "      <td>-0.000557</td>\n",
       "    </tr>\n",
       "  </tbody>\n",
       "</table>\n",
       "<p>15 rows × 115 columns</p>\n",
       "</div>"
      ],
      "text/plain": [
       "       ALTERSKATEGORIE_GROB  FINANZ_MINIMALIST  FINANZ_SPARER  \\\n",
       "PC-1               0.021724           0.002602      -0.034463   \n",
       "PC-2              -0.148623          -0.147234       0.204112   \n",
       "PC-3              -0.043532           0.109805       0.027826   \n",
       "PC-4               0.109085           0.142554      -0.164779   \n",
       "PC-5              -0.017119           0.145200      -0.041104   \n",
       "PC-6               0.026961          -0.081543      -0.012699   \n",
       "PC-7              -0.043473           0.057387      -0.151415   \n",
       "PC-8              -0.040294          -0.020534      -0.008772   \n",
       "PC-9               0.043441          -0.040863       0.065823   \n",
       "PC-10              0.073438          -0.071437       0.089528   \n",
       "PC-11              0.011829           0.202011      -0.237341   \n",
       "PC-12             -0.002356          -0.126236       0.055249   \n",
       "PC-13              0.045429           0.151722      -0.027022   \n",
       "PC-14             -0.021035          -0.105030       0.049340   \n",
       "PC-15             -0.078691           0.037990      -0.043750   \n",
       "\n",
       "       FINANZ_VORSORGER  FINANZ_ANLEGER  FINANZ_UNAUFFAELLIGER  \\\n",
       "PC-1           0.026602       -0.025089              -0.030013   \n",
       "PC-2          -0.168763        0.112392               0.146025   \n",
       "PC-3          -0.044725        0.063369               0.052583   \n",
       "PC-4           0.150036       -0.224916              -0.140679   \n",
       "PC-5          -0.004989       -0.113147               0.048726   \n",
       "PC-6           0.003883       -0.039492              -0.018200   \n",
       "PC-7           0.139820       -0.149146              -0.106734   \n",
       "PC-8           0.002240       -0.044196               0.030558   \n",
       "PC-9          -0.066101        0.048822               0.081041   \n",
       "PC-10         -0.077881        0.041694               0.117390   \n",
       "PC-11          0.196108       -0.207813              -0.235440   \n",
       "PC-12          0.065041        0.022621               0.131723   \n",
       "PC-13         -0.090609       -0.039441               0.031164   \n",
       "PC-14         -0.012782        0.127500              -0.035648   \n",
       "PC-15          0.086963       -0.010711               0.019707   \n",
       "\n",
       "       FINANZ_HAUSBAUER  HEALTH_TYP  RETOURTYP_BK_S  SEMIO_SOZ  \\\n",
       "PC-1           0.025248   -0.007086        0.018850  -0.012430   \n",
       "PC-2           0.039942    0.015284       -0.076075   0.169973   \n",
       "PC-3          -0.151855    0.012616       -0.069813   0.115631   \n",
       "PC-4          -0.000655   -0.010432        0.139768   0.250680   \n",
       "PC-5          -0.190151    0.021768       -0.010347   0.003899   \n",
       "PC-6           0.104528   -0.009765        0.046111  -0.028504   \n",
       "PC-7           0.092121   -0.076199        0.139363  -0.115799   \n",
       "PC-8           0.041410    0.100043       -0.110472   0.055800   \n",
       "PC-9           0.018571   -0.103198       -0.007941  -0.079812   \n",
       "PC-10          0.054069   -0.116812       -0.106003  -0.045217   \n",
       "PC-11         -0.129146    0.026658        0.265574  -0.141844   \n",
       "PC-12          0.076239   -0.074966        0.043874  -0.079718   \n",
       "PC-13         -0.259391    0.041132       -0.142306  -0.030423   \n",
       "PC-14          0.216808   -0.142796       -0.040426  -0.071319   \n",
       "PC-15          0.012347   -0.082539        0.157807   0.189313   \n",
       "\n",
       "            ...         NUM_FEAT_28.0  NUM_FEAT_29.0  NUM_FEAT_30.0  \\\n",
       "PC-1        ...              0.000106       0.000132       0.000118   \n",
       "PC-2        ...              0.000269       0.000280       0.000249   \n",
       "PC-3        ...             -0.000508      -0.000470      -0.000436   \n",
       "PC-4        ...              0.000159       0.000135       0.000124   \n",
       "PC-5        ...             -0.000313      -0.000289      -0.000281   \n",
       "PC-6        ...              0.000470       0.000430       0.000385   \n",
       "PC-7        ...             -0.000164      -0.000193      -0.000218   \n",
       "PC-8        ...             -0.000257      -0.000242      -0.000192   \n",
       "PC-9        ...              0.000357       0.000325       0.000370   \n",
       "PC-10       ...             -0.000479      -0.000463      -0.000456   \n",
       "PC-11       ...             -0.000047      -0.000011       0.000028   \n",
       "PC-12       ...              0.000110       0.000103       0.000171   \n",
       "PC-13       ...              0.000688       0.000685       0.000616   \n",
       "PC-14       ...              0.000256       0.000259       0.000334   \n",
       "PC-15       ...              0.001316       0.001267       0.001095   \n",
       "\n",
       "       NUM_FEAT_0.0  NUM_FEAT_1992.0  NUM_FEAT_1993.0  NUM_FEAT_1994.0  \\\n",
       "PC-1      -0.000288        -0.001520         0.000614         0.002039   \n",
       "PC-2      -0.001036         0.003010         0.000888        -0.000255   \n",
       "PC-3       0.005033        -0.011191        -0.001290         0.000205   \n",
       "PC-4      -0.002862         0.005052         0.000516         0.000155   \n",
       "PC-5       0.008548        -0.004233        -0.001278        -0.005916   \n",
       "PC-6       0.025202        -0.052266         0.001024         0.013775   \n",
       "PC-7      -0.010802         0.015272        -0.000255        -0.002069   \n",
       "PC-8      -0.001756         0.003562         0.000614        -0.000782   \n",
       "PC-9       0.005685         0.000181        -0.005450        -0.002814   \n",
       "PC-10     -0.013674         0.013710         0.003963        -0.000576   \n",
       "PC-11      0.011632        -0.004582        -0.000830        -0.003870   \n",
       "PC-12      0.017968         0.007522        -0.003483        -0.009875   \n",
       "PC-13      0.042011        -0.047431         0.001233         0.002774   \n",
       "PC-14      0.000957        -0.029483         0.002964         0.015583   \n",
       "PC-15      0.014003        -0.013823         0.001976         0.002201   \n",
       "\n",
       "       NUM_FEAT_1995.0  NUM_FEAT_1996.0  NUM_FEAT_1997.0  \n",
       "PC-1         -0.000151        -0.000377        -0.000317  \n",
       "PC-2         -0.000301        -0.001215        -0.001091  \n",
       "PC-3          0.001863         0.002823         0.002558  \n",
       "PC-4         -0.000845        -0.000985        -0.001030  \n",
       "PC-5         -0.000889         0.001229         0.002538  \n",
       "PC-6          0.004626         0.003681         0.003958  \n",
       "PC-7         -0.000863        -0.000553        -0.000729  \n",
       "PC-8         -0.000609        -0.000625        -0.000404  \n",
       "PC-9          0.000301         0.001264         0.000832  \n",
       "PC-10        -0.000248        -0.001519        -0.001656  \n",
       "PC-11        -0.001763        -0.000386        -0.000201  \n",
       "PC-12        -0.006933        -0.003980        -0.001219  \n",
       "PC-13         0.000254        -0.000268         0.001427  \n",
       "PC-14         0.003659         0.003724         0.002595  \n",
       "PC-15        -0.002285        -0.001515        -0.000557  \n",
       "\n",
       "[15 rows x 115 columns]"
      ]
     },
     "execution_count": 68,
     "metadata": {},
     "output_type": "execute_result"
    }
   ],
   "source": [
    "Components_n15.head(15)"
   ]
  },
  {
   "cell_type": "code",
   "execution_count": 69,
   "metadata": {},
   "outputs": [
    {
     "data": {
      "text/plain": [
       "Text(0.5,1,'1st Principal Component')"
      ]
     },
     "execution_count": 69,
     "metadata": {},
     "output_type": "execute_result"
    },
    {
     "data": {
      "image/png": "[encoded data removed]",
      "text/plain": [
       "<matplotlib.figure.Figure at 0x7f7544d9d940>"
      ]
     },
     "metadata": {
      "needs_background": "light"
     },
     "output_type": "display_data"
    }
   ],
   "source": [
    "# Map weights for the first principal component to corresponding feature names\n",
    "# and then print the linked values, sorted by weight.\n",
    "ax=Components_n15.iloc[0,0:20].sort_values(ascending=True).plot.barh()\n",
    "ax.set_xlabel('Component Weight', size=14)\n",
    "ax.set_ylabel('Features', size=14)\n",
    "ax.set_title('1st Principal Component', size=16, fontweight='bold')"
   ]
  },
  {
   "cell_type": "code",
   "execution_count": 70,
   "metadata": {},
   "outputs": [
    {
     "data": {
      "text/plain": [
       "Text(0.5,1,'2nd Principal Component')"
      ]
     },
     "execution_count": 70,
     "metadata": {},
     "output_type": "execute_result"
    },
    {
     "data": {
      "image/png": "[encoded data removed]",
      "text/plain": [
       "<matplotlib.figure.Figure at 0x7f75472e8898>"
      ]
     },
     "metadata": {
      "needs_background": "light"
     },
     "output_type": "display_data"
    }
   ],
   "source": [
    "# Map weights for the second principal component to corresponding feature names\n",
    "# and then print the linked values, sorted by weight.\n",
    "\n",
    "ax=Components_n15.iloc[1,0:20].sort_values(ascending=True).plot.barh()\n",
    "ax.set_xlabel('Component Weight', size=14)\n",
    "ax.set_ylabel('Features', size=14)\n",
    "ax.set_title('2nd Principal Component', size=16, fontweight='bold')\n"
   ]
  },
  {
   "cell_type": "code",
   "execution_count": 71,
   "metadata": {},
   "outputs": [
    {
     "data": {
      "text/plain": [
       "Text(0.5,1,'3rd Principal Component')"
      ]
     },
     "execution_count": 71,
     "metadata": {},
     "output_type": "execute_result"
    },
    {
     "data": {
      "image/png": "[encoded data removed]",
      "text/plain": [
       "<matplotlib.figure.Figure at 0x7f75469cfb00>"
      ]
     },
     "metadata": {
      "needs_background": "light"
     },
     "output_type": "display_data"
    }
   ],
   "source": [
    "# Map weights for the third principal component to corresponding feature names\n",
    "# and then print the linked values, sorted by weight.\n",
    "ax=Components_n15.iloc[2,0:20].sort_values(ascending=True).plot.barh()\n",
    "ax.set_xlabel('Component Weight', size=14)\n",
    "ax.set_ylabel('Features', size=14)\n",
    "ax.set_title('3rd Principal Component', size=16, fontweight='bold')"
   ]
  },
  {
   "cell_type": "markdown",
   "metadata": {},
   "source": [
    "### Discussion 2.3: Interpret Principal Components\n",
    "(Double-click this cell and replace this text with your own text, reporting your observations from detailed investigation of the first few principal components generated. Can we interpret positive and negative values from them in a meaningful way?)\n",
    "\n",
    "For the first 3 Principal Components, I investigated 20 features and the weights relative to each Principal Component. Broadly, the features that contains the highest amount of the variance in the data set can be broadly divided into four categories: 1) the age category(ALTERSKATEGORIE_GROB) , 2) Financial typologies (FINANZ_MINIMALIST, FINANZ_SPARER, FINANZ_VORSORGER, FINANZ_ANLEGER,FINANZ_UNAUFFAELLIGER, FINANZ_HAUSBAUER), 3) Personality typologies (SEMIO_SOZ, SEMIO_FAM, SEMIO_REL, SEMIO_MAT, SEMIO_VERT, SEMIO_LUST), 4) Customer’s behavior with returning products (RETOURTYP_BK_S), and 5) HEALTH_TYP: \n",
    "\n",
    "The features that contains the highest amount of the variance in the data set can be broadly divided into four categories: 1) the age category(ALTERSKATEGORIE_GROB) , 2) Financial typologies (FINANZ_MINIMALIST, FINANZ_SPARER, FINANZ_VORSORGER, FINANZ_ANLEGER,FINANZ_UNAUFFAELLIGER, FINANZ_HAUSBAUER), 3) Personality typologies (SEMIO_SOZ, SEMIO_FAM, SEMIO_REL, SEMIO_MAT, SEMIO_VERT, SEMIO_LUST), 4) Customer’s behavior with returning products (RETOURTYP_BK_S), and 5) HEALTH_TYP: \n",
    "\n",
    "The first Principal component has a positive corrlation with:\n",
    "    1. SEMIO_LUST: sensual-minded\n",
    "    2. SEMIO_ELR: Event-oriented\n",
    "    3. FINANZ_VORSORGER: be prepared\n",
    "    4. FINANZ_HAUSBAUER: home ownership\n",
    "    5. ALTERSKATEGORIE_GROB:  Estimated age based on given name analysis\n",
    "    6. RETOURTYP_BK_S: Customer’s product returning habits\n",
    "    7. SEMIO_KRIT: critical-minded\n",
    "    8. SEMIO_DOM: dominant-minded\n",
    "    9. FINANZ_MINIMALIST: Low financial interest\n",
    "\n",
    "\n",
    "The first Principal component has a negative corrlation with:\n",
    "    10. HEALTH_TYPE: Health typology\n",
    "    11. SEMIO_VERT: dreamful\n",
    "    12. SEMIO_SOZ: Socially minded\n",
    "    13. SEMIO_MAT: Materialistic\n",
    "    14. FINANZ_ANLEGER: Investor\n",
    "    15. SEMIO_RAT: rational\n",
    "    16. FINANZ_UNAUFFAELLIGER: INCOSPICUOUS\n",
    "    17. SEMIO_FAM: family-minded\n",
    "    18. FINANZ_SPARER: Money-saver\n",
    "    19. SEMIO_KULT: cultural-minded\n",
    "    20. SEMIO_REL: religious\n",
    "\n",
    "The second Principal component has a positive correlation with:\n",
    "    1. SEMIO_REL: religious\n",
    "    2. SEMIO_KULT: cultural-minded\n",
    "    3. SEMIO_FAM: family-minded\n",
    "    4. SEMIO_MAT: Materialistic\n",
    "    5. FINANZ_SPARER: Money-saver\n",
    "    6. SEMIO_SOZ: Socially minded\n",
    "    7. FINANZ_UNAUFFAELLIGER: INCOSPICUOUS\n",
    "    8. SEMIO_RAT: rational\n",
    "    9. FINANZ_ANLEGER: Investor\n",
    "    10. SEMIO_VERT: dreamful\n",
    "    11. FINANZ_HAUSBAUER: home ownership\n",
    "    12. HEALTH_TYP: Health typology\n",
    "\n",
    "The second Principal component has a negative corrlation with:\n",
    "    13. RETOURTYP_BK_S: type of customer with returning goods\n",
    "    14. SEMIO_DOM: dominant-minded\n",
    "    15. SEMIO_KRIT: critical-minded\n",
    "    16. FINANZ_MINIMALIST: Low financial interest\n",
    "    17. ALTERSKATEGORIE_GROB:  Estimated age based on given name analysis\n",
    "    18. FINANZ_VORSORGER: be prepared\n",
    "    19. SEMIO_LUST\n",
    "    20. SEMIO_ERL\n",
    "\n",
    "\n",
    "The third Principal component has a positive corrlation with:\n",
    "    1. SEMIO_VERT: dreamful\n",
    "    2. SEMIO_KULT: cultural-minded\n",
    "    3. SEMIO_FAM: family-minded\n",
    "    4. SEMIO_REL: religious\n",
    "    5. SEMIO_SOZ: Socially minded\n",
    "    6. FINANZ_MINIMALIST: Low financial interest\n",
    "    7. SEMIO_MAT: Materialistic\n",
    "    8. FINANZ_ANLEGER: Investor\n",
    "    9. FINANZ_UNAUFFAELLIGER: INCOSPICUOUS\n",
    "    10. FINANZ_SPARER: Money-saver\n",
    "    11. HEALTH_TYP: Health typology\n",
    "\n",
    "The third Principal component has a negative corrlation with:\n",
    "    12. SEMIO_RAT: rational\n",
    "    13. ALTERSKATEGORIE_GROB:  Estimated age based on given name analysis\n",
    "    14. FINANZ_VORSORGER: be prepared\n",
    "    15. RETOURTYP_BK_S: type of customer with returning goods\n",
    "    16. SEMIO_LUST: sensual-minded\n",
    "    17. FINANZ_HAUSBAUER: home ownership\n",
    "    18. SEMIO_ERL: event-oriented\n",
    "    19. SEMIO_KRIT: critical-minded\n",
    "    20. SEMIO_DOM: dominant-minded"
   ]
  },
  {
   "cell_type": "markdown",
   "metadata": {},
   "source": [
    "# Step 3: Clustering"
   ]
  },
  {
   "cell_type": "markdown",
   "metadata": {},
   "source": [
    "## Step 3.1: Apply Clustering to General Population¶\n",
    "You've assessed and cleaned the demographics data, then scaled and transformed them. Now, it's time to see how the data clusters in the principal components space. In this substep, you will apply k-means clustering to the dataset and use the average within-cluster distances from each point to their assigned cluster's centroid to decide on a number of clusters to keep.\n",
    "\n",
    "Use sklearn's KMeans class to perform k-means clustering on the PCA-transformed data.\n",
    "Then, compute the average difference from each point to its assigned cluster's center. Hint: The KMeans object's .score() method might be useful here, but note that in sklearn, scores tend to be defined so that larger is better. Try applying it to a small, toy dataset, or use an internet search to help your understanding.\n",
    "Perform the above two steps for a number of different cluster counts. You can then see how the average distance decreases with an increasing number of clusters. However, each additional cluster provides a smaller net benefit. Use this fact to select a final number of clusters in which to group the data. Warning: because of the large size of the dataset, it can take a long time for the algorithm to resolve. The more clusters to fit, the longer the algorithm will take. You should test for cluster counts through at least 10 clusters to get the full picture, but you shouldn't need to test for a number of clusters above about 30.\n",
    "Once you've selected a final number of clusters to use, re-fit a KMeans instance to perform the clustering operation. Make sure that you also obtain the cluster assignments for the general demographics data, since you'll be using them in the final Step 3.3."
   ]
  },
  {
   "cell_type": "code",
   "execution_count": 72,
   "metadata": {},
   "outputs": [],
   "source": [
    "from sklearn.cluster import KMeans"
   ]
  },
  {
   "cell_type": "code",
   "execution_count": 73,
   "metadata": {},
   "outputs": [
    {
     "data": {
      "text/plain": [
       "'# Over a number of different cluster counts...\\nfrom sklearn.cluster import KMeans\\n\\n# Over a number of different cluster counts...\\n# run k-means clustering on the data and...\\nk_clusters=np.arange(3,21)\\nSSE_scores=[]\\nfor k in k_clusters:\\n    kmeans = KMeans(n_clusters=k, n_jobs=-1)\\n    model = kmeans.fit(df_pca)\\n    # compute the average within-cluster distances.\\n    SSE_scores.append(np.abs(model.score(df_pca)))\\n    \\n    '"
      ]
     },
     "execution_count": 73,
     "metadata": {},
     "output_type": "execute_result"
    }
   ],
   "source": [
    "\"\"\"# Over a number of different cluster counts...\n",
    "from sklearn.cluster import KMeans\n",
    "\n",
    "# Over a number of different cluster counts...\n",
    "# run k-means clustering on the data and...\n",
    "k_clusters=np.arange(3,21)\n",
    "SSE_scores=[]\n",
    "for k in k_clusters:\n",
    "    kmeans = KMeans(n_clusters=k, n_jobs=-1)\n",
    "    model = kmeans.fit(df_pca)\n",
    "    # compute the average within-cluster distances.\n",
    "    SSE_scores.append(np.abs(model.score(df_pca)))\n",
    "    \n",
    "    \"\"\""
   ]
  },
  {
   "cell_type": "code",
   "execution_count": 74,
   "metadata": {},
   "outputs": [
    {
     "data": {
      "text/plain": [
       "\"fig, ax = plt.subplots(figsize=(8,5))\\nsns.pointplot(k_clusters, SSE_scores, markers='o', linestyle='-')\\nax.set_xlabel('K Clusters', size=14)\\nax.set_ylabel('SSE Score', size=14)\\nax.set_title('Elbow plot', size=18, fontweight='bold')\\nax.grid(axis='both')\\n\""
      ]
     },
     "execution_count": 74,
     "metadata": {},
     "output_type": "execute_result"
    }
   ],
   "source": [
    "\"\"\"fig, ax = plt.subplots(figsize=(8,5))\n",
    "sns.pointplot(k_clusters, SSE_scores, markers='o', linestyle='-')\n",
    "ax.set_xlabel('K Clusters', size=14)\n",
    "ax.set_ylabel('SSE Score', size=14)\n",
    "ax.set_title('Elbow plot', size=18, fontweight='bold')\n",
    "ax.grid(axis='both')\n",
    "\"\"\""
   ]
  },
  {
   "cell_type": "code",
   "execution_count": 75,
   "metadata": {},
   "outputs": [],
   "source": [
    "# Re-fit the k-means model with the selected number of clusters and obtain\n",
    "# cluster predictions for the general population demographics data.\n",
    "kmeans_n15 = KMeans(n_clusters=15, n_jobs=-1)\n",
    "model_n15 = kmeans_n15.fit(df_pca)"
   ]
  },
  {
   "cell_type": "code",
   "execution_count": 76,
   "metadata": {},
   "outputs": [
    {
     "data": {
      "text/plain": [
       "Text(0.5,1,'Count per Cluster in transformed PCA General Pop')"
      ]
     },
     "execution_count": 76,
     "metadata": {},
     "output_type": "execute_result"
    },
    {
     "data": {
      "image/png": "[encoded data removed]",
      "text/plain": [
       "<matplotlib.figure.Figure at 0x7f7546ab3a20>"
      ]
     },
     "metadata": {
      "needs_background": "light"
     },
     "output_type": "display_data"
    }
   ],
   "source": [
    "k_labels = pd.Series(model_n15.labels_)\n",
    "\n",
    "ax=k_labels.value_counts().sort_values(ascending=False).plot.bar()\n",
    "ax.set_xlabel('K Clusters', size=14)\n",
    "ax.set_ylabel('Number of elements in Cluster', size=14)\n",
    "ax.set_title('Count per Cluster in transformed PCA General Pop', size=16, fontweight='bold')"
   ]
  },
  {
   "cell_type": "markdown",
   "metadata": {},
   "source": [
    "### Discussion 3.1: Apply Clustering to General Population\n",
    "\n",
    "After plotting the elbow graph between SSE scores and K Clusters for 2-20 clusters, there was no obvious choice on how many clusters to choose, i.e. no elbow in the point plot. What that implies is that the clustering algorithm does not do a good job at finding the principal components, or dividing the data set into clear directions. However, this is not so obvious from the PC-Variance plot either. There the decision on the number of PC's was made based on the percentagem of variance, i.e. 80% of the variance. "
   ]
  },
  {
   "cell_type": "markdown",
   "metadata": {},
   "source": [
    "### Step 3.2: Apply All Steps to the Customer Data\n",
    "\n",
    "Now that you have clusters and cluster centers for the general population, it's time to see how the customer data maps on to those clusters. Take care to not confuse this for re-fitting all of the models to the customer data. Instead, you're going to use the fits from the general population to clean, transform, and cluster the customer data. In the last step of the project, you will interpret how the general population fits apply to the customer data.\n",
    "\n",
    "- Don't forget when loading in the customers data, that it is semicolon (`;`) delimited.\n",
    "- Apply the same feature wrangling, selection, and engineering steps to the customer demographics using the `clean_data()` function you created earlier. (You can assume that the customer demographics data has similar meaning behind missing data patterns as the general demographics data.)\n",
    "- Use the sklearn objects from the general demographics data, and apply their transformations to the customers data. That is, you should not be using a `.fit()` or `.fit_transform()` method to re-fit the old objects, nor should you be creating new sklearn objects! Carry the data through the feature scaling, PCA, and clustering steps, obtaining cluster assignments for all of the data in the customer demographics data."
   ]
  },
  {
   "cell_type": "code",
   "execution_count": 77,
   "metadata": {
    "scrolled": true
   },
   "outputs": [
    {
     "data": {
      "text/html": [
       "<div>\n",
       "<style scoped>\n",
       "    .dataframe tbody tr th:only-of-type {\n",
       "        vertical-align: middle;\n",
       "    }\n",
       "\n",
       "    .dataframe tbody tr th {\n",
       "        vertical-align: top;\n",
       "    }\n",
       "\n",
       "    .dataframe thead th {\n",
       "        text-align: right;\n",
       "    }\n",
       "</style>\n",
       "<table border=\"1\" class=\"dataframe\">\n",
       "  <thead>\n",
       "    <tr style=\"text-align: right;\">\n",
       "      <th></th>\n",
       "      <th>AGER_TYP</th>\n",
       "      <th>ALTERSKATEGORIE_GROB</th>\n",
       "      <th>ANREDE_KZ</th>\n",
       "      <th>CJT_GESAMTTYP</th>\n",
       "      <th>FINANZ_MINIMALIST</th>\n",
       "      <th>FINANZ_SPARER</th>\n",
       "      <th>FINANZ_VORSORGER</th>\n",
       "      <th>FINANZ_ANLEGER</th>\n",
       "      <th>FINANZ_UNAUFFAELLIGER</th>\n",
       "      <th>FINANZ_HAUSBAUER</th>\n",
       "      <th>...</th>\n",
       "      <th>PLZ8_ANTG1</th>\n",
       "      <th>PLZ8_ANTG2</th>\n",
       "      <th>PLZ8_ANTG3</th>\n",
       "      <th>PLZ8_ANTG4</th>\n",
       "      <th>PLZ8_BAUMAX</th>\n",
       "      <th>PLZ8_HHZ</th>\n",
       "      <th>PLZ8_GBZ</th>\n",
       "      <th>ARBEIT</th>\n",
       "      <th>ORTSGR_KLS9</th>\n",
       "      <th>RELAT_AB</th>\n",
       "    </tr>\n",
       "  </thead>\n",
       "  <tbody>\n",
       "    <tr>\n",
       "      <th>0</th>\n",
       "      <td>2.0</td>\n",
       "      <td>4.0</td>\n",
       "      <td>1</td>\n",
       "      <td>5.0</td>\n",
       "      <td>5</td>\n",
       "      <td>1</td>\n",
       "      <td>5</td>\n",
       "      <td>1</td>\n",
       "      <td>2</td>\n",
       "      <td>2</td>\n",
       "      <td>...</td>\n",
       "      <td>3.0</td>\n",
       "      <td>3.0</td>\n",
       "      <td>1.0</td>\n",
       "      <td>0.0</td>\n",
       "      <td>1.0</td>\n",
       "      <td>5.0</td>\n",
       "      <td>5.0</td>\n",
       "      <td>1.0</td>\n",
       "      <td>2.0</td>\n",
       "      <td>1.0</td>\n",
       "    </tr>\n",
       "    <tr>\n",
       "      <th>1</th>\n",
       "      <td>NaN</td>\n",
       "      <td>4.0</td>\n",
       "      <td>1</td>\n",
       "      <td>NaN</td>\n",
       "      <td>5</td>\n",
       "      <td>1</td>\n",
       "      <td>5</td>\n",
       "      <td>1</td>\n",
       "      <td>3</td>\n",
       "      <td>2</td>\n",
       "      <td>...</td>\n",
       "      <td>NaN</td>\n",
       "      <td>NaN</td>\n",
       "      <td>NaN</td>\n",
       "      <td>NaN</td>\n",
       "      <td>NaN</td>\n",
       "      <td>NaN</td>\n",
       "      <td>NaN</td>\n",
       "      <td>NaN</td>\n",
       "      <td>NaN</td>\n",
       "      <td>NaN</td>\n",
       "    </tr>\n",
       "    <tr>\n",
       "      <th>2</th>\n",
       "      <td>NaN</td>\n",
       "      <td>4.0</td>\n",
       "      <td>2</td>\n",
       "      <td>2.0</td>\n",
       "      <td>5</td>\n",
       "      <td>1</td>\n",
       "      <td>5</td>\n",
       "      <td>1</td>\n",
       "      <td>4</td>\n",
       "      <td>4</td>\n",
       "      <td>...</td>\n",
       "      <td>2.0</td>\n",
       "      <td>3.0</td>\n",
       "      <td>3.0</td>\n",
       "      <td>1.0</td>\n",
       "      <td>3.0</td>\n",
       "      <td>3.0</td>\n",
       "      <td>2.0</td>\n",
       "      <td>3.0</td>\n",
       "      <td>5.0</td>\n",
       "      <td>3.0</td>\n",
       "    </tr>\n",
       "    <tr>\n",
       "      <th>3</th>\n",
       "      <td>1.0</td>\n",
       "      <td>4.0</td>\n",
       "      <td>1</td>\n",
       "      <td>2.0</td>\n",
       "      <td>5</td>\n",
       "      <td>1</td>\n",
       "      <td>5</td>\n",
       "      <td>2</td>\n",
       "      <td>1</td>\n",
       "      <td>2</td>\n",
       "      <td>...</td>\n",
       "      <td>3.0</td>\n",
       "      <td>2.0</td>\n",
       "      <td>1.0</td>\n",
       "      <td>0.0</td>\n",
       "      <td>1.0</td>\n",
       "      <td>3.0</td>\n",
       "      <td>4.0</td>\n",
       "      <td>1.0</td>\n",
       "      <td>3.0</td>\n",
       "      <td>1.0</td>\n",
       "    </tr>\n",
       "    <tr>\n",
       "      <th>4</th>\n",
       "      <td>NaN</td>\n",
       "      <td>3.0</td>\n",
       "      <td>1</td>\n",
       "      <td>6.0</td>\n",
       "      <td>3</td>\n",
       "      <td>1</td>\n",
       "      <td>4</td>\n",
       "      <td>4</td>\n",
       "      <td>5</td>\n",
       "      <td>2</td>\n",
       "      <td>...</td>\n",
       "      <td>2.0</td>\n",
       "      <td>4.0</td>\n",
       "      <td>2.0</td>\n",
       "      <td>1.0</td>\n",
       "      <td>2.0</td>\n",
       "      <td>3.0</td>\n",
       "      <td>3.0</td>\n",
       "      <td>3.0</td>\n",
       "      <td>5.0</td>\n",
       "      <td>1.0</td>\n",
       "    </tr>\n",
       "  </tbody>\n",
       "</table>\n",
       "<p>5 rows × 85 columns</p>\n",
       "</div>"
      ],
      "text/plain": [
       "   AGER_TYP  ALTERSKATEGORIE_GROB  ANREDE_KZ  CJT_GESAMTTYP  \\\n",
       "0       2.0                   4.0          1            5.0   \n",
       "1       NaN                   4.0          1            NaN   \n",
       "2       NaN                   4.0          2            2.0   \n",
       "3       1.0                   4.0          1            2.0   \n",
       "4       NaN                   3.0          1            6.0   \n",
       "\n",
       "   FINANZ_MINIMALIST  FINANZ_SPARER  FINANZ_VORSORGER  FINANZ_ANLEGER  \\\n",
       "0                  5              1                 5               1   \n",
       "1                  5              1                 5               1   \n",
       "2                  5              1                 5               1   \n",
       "3                  5              1                 5               2   \n",
       "4                  3              1                 4               4   \n",
       "\n",
       "   FINANZ_UNAUFFAELLIGER  FINANZ_HAUSBAUER    ...     PLZ8_ANTG1  PLZ8_ANTG2  \\\n",
       "0                      2                 2    ...            3.0         3.0   \n",
       "1                      3                 2    ...            NaN         NaN   \n",
       "2                      4                 4    ...            2.0         3.0   \n",
       "3                      1                 2    ...            3.0         2.0   \n",
       "4                      5                 2    ...            2.0         4.0   \n",
       "\n",
       "   PLZ8_ANTG3  PLZ8_ANTG4  PLZ8_BAUMAX  PLZ8_HHZ  PLZ8_GBZ  ARBEIT  \\\n",
       "0         1.0         0.0          1.0       5.0       5.0     1.0   \n",
       "1         NaN         NaN          NaN       NaN       NaN     NaN   \n",
       "2         3.0         1.0          3.0       3.0       2.0     3.0   \n",
       "3         1.0         0.0          1.0       3.0       4.0     1.0   \n",
       "4         2.0         1.0          2.0       3.0       3.0     3.0   \n",
       "\n",
       "   ORTSGR_KLS9  RELAT_AB  \n",
       "0          2.0       1.0  \n",
       "1          NaN       NaN  \n",
       "2          5.0       3.0  \n",
       "3          3.0       1.0  \n",
       "4          5.0       1.0  \n",
       "\n",
       "[5 rows x 85 columns]"
      ]
     },
     "execution_count": 77,
     "metadata": {},
     "output_type": "execute_result"
    }
   ],
   "source": [
    "# Load in the customer demographics data.\n",
    "azdias_cust = pd.read_csv('Udacity_CUSTOMERS_Subset.csv', sep=';', na_values=na_mapping)\n",
    "\n",
    "\n",
    "azdias_cust.head()"
   ]
  },
  {
   "cell_type": "code",
   "execution_count": 78,
   "metadata": {},
   "outputs": [],
   "source": [
    "# Apply preprocessing, feature transformation, and clustering from the general\n",
    "# demographics onto the customer data\n",
    "\n",
    "#Cleaning columns\n",
    "CustColNa = azdias_cust.isnull().mean().sort_values(ascending=False)\n",
    "\n",
    "col_drop =[]\n",
    "for col, na_val in CustColNa.iteritems():\n",
    "    if na_val >0.2:\n",
    "        col_drop.append(col) \n",
    "        \n",
    "azdias_cust.drop(columns=col_drop, axis='columns', inplace=True)       \n",
    "\n",
    "# Cleaning rows\n",
    "CustRowNa=azdias_cust.isnull().mean(axis=1).sort_values(ascending=False)\n",
    "\n",
    "row_drop=[]\n",
    "for index, na_row in CustRowNa.iteritems():\n",
    "    if na_row >0.2:\n",
    "        row_drop.append(index)\n",
    "        \n",
    "azdias_cust.drop(index=row_drop, inplace=True)   \n",
    "\n",
    "#Dropping multilevel categorical attributes\n",
    "azdias_cust.drop(columns=['CJT_GESAMTTYP','FINANZTYP','GFK_URLAUBERTYP', 'LP_STATUS_FEIN',\n",
    "                         'LP_STATUS_GROB', 'ZABEOTYP'],axis='columns', inplace=True) \n",
    "\n",
    "#Encoding binary categorical attributes\n",
    "azdias_cust = pd.get_dummies(azdias_cust, columns=['ANREDE_KZ', 'GREEN_AVANTGARDE'], \n",
    "                                              prefix='CAT-BIN')\n",
    "\n",
    "\"\"\"PERSONAL COMMENT: all the mixed-type and numerica features that had to be\n",
    "re-encoded, re-engineered, or drop in the demographics data set have already been\n",
    "removed in the customer demographic data set for having over 20% of missing values\"\"\"\n",
    "\n",
    "#Creating a missing values column\n",
    "azdias_cust['%_Missing_values'] = azdias_cust.isna().mean(axis= 1)\n",
    "\n",
    "\n",
    "#Filling in the NaN's with 0\n",
    "azdias_cust.fillna(0, inplace=True)\n"
   ]
  },
  {
   "cell_type": "code",
   "execution_count": 79,
   "metadata": {},
   "outputs": [
    {
     "data": {
      "text/plain": [
       "(191559, 29)"
      ]
     },
     "execution_count": 79,
     "metadata": {},
     "output_type": "execute_result"
    }
   ],
   "source": [
    "azdias_cust.shape"
   ]
  },
  {
   "cell_type": "code",
   "execution_count": 80,
   "metadata": {},
   "outputs": [],
   "source": [
    "# Running PCA general population model through the custumer data set\n",
    "\n",
    "CustPCAModel = pca_n15.fit_transform(azdias_cust)"
   ]
  },
  {
   "cell_type": "code",
   "execution_count": 81,
   "metadata": {},
   "outputs": [],
   "source": [
    "# obtain cluster predictions for the customer demographics data.\n",
    "\n",
    "CustKmModel=kmeans_n15.fit(CustPCAModel)\n",
    "\n"
   ]
  },
  {
   "cell_type": "code",
   "execution_count": 82,
   "metadata": {},
   "outputs": [
    {
     "data": {
      "text/plain": [
       "Text(0.5,1,'Count per Cluster in transformed PCA Customer Data')"
      ]
     },
     "execution_count": 82,
     "metadata": {},
     "output_type": "execute_result"
    },
    {
     "data": {
      "image/png": "[encoded data removed]",
      "text/plain": [
       "<matplotlib.figure.Figure at 0x7f7529527518>"
      ]
     },
     "metadata": {
      "needs_background": "light"
     },
     "output_type": "display_data"
    }
   ],
   "source": [
    "cust_k_labels = pd.Series(CustKmModel.labels_)\n",
    "\n",
    "ax=cust_k_labels.value_counts().sort_values(ascending=False).plot.bar()\n",
    "ax.set_xlabel('K Clusters', size=14)\n",
    "ax.set_ylabel('Number of elements in Cluster', size=14)\n",
    "ax.set_title('Count per Cluster in transformed PCA Customer Data', size=16, fontweight='bold')"
   ]
  },
  {
   "cell_type": "code",
   "execution_count": 83,
   "metadata": {},
   "outputs": [
    {
     "data": {
      "text/plain": [
       "191559"
      ]
     },
     "execution_count": 83,
     "metadata": {},
     "output_type": "execute_result"
    }
   ],
   "source": [
    "cust_k_labels.shape[0]"
   ]
  },
  {
   "cell_type": "code",
   "execution_count": 84,
   "metadata": {},
   "outputs": [],
   "source": [
    "cust_label, count = np.unique(cust_k_labels, return_counts=True)\n",
    "\n",
    "cust_count=count/cust_k_labels.shape[0]*100"
   ]
  },
  {
   "cell_type": "code",
   "execution_count": 85,
   "metadata": {},
   "outputs": [
    {
     "data": {
      "image/png": "[encoded data removed]",
      "text/plain": [
       "<matplotlib.figure.Figure at 0x7f754505d358>"
      ]
     },
     "metadata": {
      "needs_background": "light"
     },
     "output_type": "display_data"
    }
   ],
   "source": [
    "plt.bar(cust_label, cust_count)\n",
    "plt.xlabel('K Clusters', size=14)\n",
    "plt.ylabel('Percent (%)', size= 14)\n",
    "plt.title('Percent of Customers in each Cluster', size=16)\n",
    "plt.show()"
   ]
  },
  {
   "cell_type": "markdown",
   "metadata": {},
   "source": [
    "### Step 3.3: Compare Customer Data to Demographics Data\n",
    "\n",
    "At this point, you have clustered data based on demographics of the general population of Germany, and seen how the customer data for a mail-order sales company maps onto those demographic clusters. In this final substep, you will compare the two cluster distributions to see where the strongest customer base for the company is.\n",
    "\n",
    "Consider the proportion of persons in each cluster for the general population, and the proportions for the customers. If we think the company's customer base to be universal, then the cluster assignment proportions should be fairly similar between the two. If there are only particular segments of the population that are interested in the company's products, then we should see a mismatch from one to the other. If there is a higher proportion of persons in a cluster for the customer data compared to the general population (e.g. 5% of persons are assigned to a cluster for the general population, but 15% of the customer data is closest to that cluster's centroid) then that suggests the people in that cluster to be a target audience for the company. On the other hand, the proportion of the data in a cluster being larger in the general population than the customer data (e.g. only 2% of customers closest to a population centroid that captures 6% of the data) suggests that group of persons to be outside of the target demographics.\n",
    "\n",
    "Take a look at the following points in this step:\n",
    "\n",
    "- Compute the proportion of data points in each cluster for the general population and the customer data. Visualizations will be useful here: both for the individual dataset proportions, but also to visualize the ratios in cluster representation between groups. Seaborn's [`countplot()`](https://seaborn.pydata.org/generated/seaborn.countplot.html) or [`barplot()`](https://seaborn.pydata.org/generated/seaborn.barplot.html) function could be handy.\n",
    "  - Recall the analysis you performed in step 1.1.3 of the project, where you separated out certain data points from the dataset if they had more than a specified threshold of missing values. If you found that this group was qualitatively different from the main bulk of the data, you should treat this as an additional data cluster in this analysis. Make sure that you account for the number of data points in this subset, for both the general population and customer datasets, when making your computations!\n",
    "- Which cluster or clusters are overrepresented in the customer dataset compared to the general population? Select at least one such cluster and infer what kind of people might be represented by that cluster. Use the principal component interpretations from step 2.3 or look at additional components to help you make this inference. Alternatively, you can use the `.inverse_transform()` method of the PCA and StandardScaler objects to transform centroids back to the original data space and interpret the retrieved values directly.\n",
    "- Perform a similar investigation for the underrepresented clusters. Which cluster or clusters are underrepresented in the customer dataset compared to the general population, and what kinds of people are typified by these clusters?"
   ]
  },
  {
   "cell_type": "code",
   "execution_count": 86,
   "metadata": {},
   "outputs": [],
   "source": [
    "#Figuring out the percent in each cluster of the Population Demographic data set\n",
    "Pop_label, Pop_count = np.unique(k_labels, return_counts=True)\n",
    "\n",
    "Pop_count_percent = Pop_count/k_labels.shape[0]*100"
   ]
  },
  {
   "cell_type": "code",
   "execution_count": 87,
   "metadata": {},
   "outputs": [],
   "source": [
    "df_Count = pd.DataFrame({\"Cluster\":[ 0,  1,  2,  3,  4,  5,  6,  7,  8,  9, 10, 11, 12, 13, 14, 0,  1,  2,  3,  4,  5,  6,  7,  8,  9, 10, 11, 12, 13, 14],\n",
    "                       \"Count\":[  7.91087863,   8.53940561,  24.42224067,   3.63177924,\n",
    "         4.692027  ,   8.01737324,   5.55546855,   2.4927046 ,\n",
    "         3.45011198,   6.94094248,   7.02446766,   2.40552519,\n",
    "         3.10661467,   6.02007737,   5.79038312, 5.38280724,   3.01911141,   2.82121408,   9.88379418,\n",
    "         6.89649906,   6.81377671,  10.84057366,   6.81912184,\n",
    "         6.91037097,   7.32627351,   6.90718934,   8.6852109 ,\n",
    "         6.58508121,   4.48456974,   6.62440615],\n",
    "                       'Label':['Customer Demographics',\n",
    " 'Customer Demographics',\n",
    " 'Customer Demographics',\n",
    " 'Customer Demographics',\n",
    " 'Customer Demographics',\n",
    " 'Customer Demographics',\n",
    " 'Customer Demographics',\n",
    " 'Customer Demographics',\n",
    " 'Customer Demographics',\n",
    " 'Customer Demographics',\n",
    " 'Customer Demographics',\n",
    " 'Customer Demographics',\n",
    " 'Customer Demographics',\n",
    " 'Customer Demographics',\n",
    " 'Customer Demographics', 'Population Demographics',\n",
    " 'Population Demographics',\n",
    " 'Population Demographics',\n",
    " 'Population Demographics',\n",
    " 'Population Demographics',\n",
    " 'Population Demographics',\n",
    " 'Population Demographics',\n",
    " 'Population Demographics',\n",
    " 'Population Demographics',\n",
    " 'Population Demographics',\n",
    " 'Population Demographics',\n",
    " 'Population Demographics',\n",
    " 'Population Demographics',\n",
    " 'Population Demographics',\n",
    " 'Population Demographics'] })"
   ]
  },
  {
   "cell_type": "code",
   "execution_count": 88,
   "metadata": {
    "scrolled": false
   },
   "outputs": [
    {
     "data": {
      "image/png": "[encoded data removed]",
      "text/plain": [
       "<matplotlib.figure.Figure at 0x7f7544ffad30>"
      ]
     },
     "metadata": {
      "needs_background": "light"
     },
     "output_type": "display_data"
    }
   ],
   "source": [
    "# Compare the proportion of data in each cluster for the customer data to the\n",
    "# proportion of data in each cluster for the general population.\n",
    "\n",
    "fig, (ax1, ax2) = plt.subplots(1,2, figsize=(20,7.5), sharey=True)\n",
    "sns.barplot(ax=ax1, x='Cluster', y='Count', data=df_Count, hue='Label')\n",
    "sns.pointplot(ax=ax2, x='Cluster', y='Count', data=df_Count, hue='Label')\n",
    "ax1.set_xlabel('K Clusters', size=14)\n",
    "ax2.set_xlabel('K Clusters', size=14)\n",
    "ax1.set_ylabel('Percentage (%)', size=14)\n",
    "ax2.set_ylabel('')\n",
    "ax.set_title('Percentagem of Customers in each Cluster', size= 16)\n",
    "plt.show()"
   ]
  },
  {
   "cell_type": "code",
   "execution_count": 89,
   "metadata": {},
   "outputs": [
    {
     "data": {
      "text/plain": [
       "Index(['ALTERSKATEGORIE_GROB', 'FINANZ_MINIMALIST', 'FINANZ_SPARER',\n",
       "       'FINANZ_VORSORGER', 'FINANZ_ANLEGER', 'FINANZ_UNAUFFAELLIGER',\n",
       "       'FINANZ_HAUSBAUER', 'HEALTH_TYP', 'RETOURTYP_BK_S', 'SEMIO_SOZ',\n",
       "       'SEMIO_FAM', 'SEMIO_REL', 'SEMIO_MAT', 'SEMIO_VERT', 'SEMIO_LUST',\n",
       "       'SEMIO_ERL', 'SEMIO_KULT', 'SEMIO_RAT', 'SEMIO_KRIT', 'SEMIO_DOM',\n",
       "       'SEMIO_KAEM', 'SEMIO_PFLICHT', 'SEMIO_TRADV', 'HH_EINKOMMEN_SCORE',\n",
       "       'W_KEIT_KIND_HH', 'WOHNDAUER_2008', 'KONSUMNAEHE', 'WOHNLAGE',\n",
       "       'KBA05_ANTG1'],\n",
       "      dtype='object')"
      ]
     },
     "execution_count": 89,
     "metadata": {},
     "output_type": "execute_result"
    }
   ],
   "source": [
    "Components_n15.columns[0:29]"
   ]
  },
  {
   "cell_type": "code",
   "execution_count": 90,
   "metadata": {},
   "outputs": [
    {
     "data": {
      "text/html": [
       "<div>\n",
       "<style scoped>\n",
       "    .dataframe tbody tr th:only-of-type {\n",
       "        vertical-align: middle;\n",
       "    }\n",
       "\n",
       "    .dataframe tbody tr th {\n",
       "        vertical-align: top;\n",
       "    }\n",
       "\n",
       "    .dataframe thead th {\n",
       "        text-align: right;\n",
       "    }\n",
       "</style>\n",
       "<table border=\"1\" class=\"dataframe\">\n",
       "  <thead>\n",
       "    <tr style=\"text-align: right;\">\n",
       "      <th></th>\n",
       "      <th>ALTERSKATEGORIE_GROB</th>\n",
       "      <th>FINANZ_MINIMALIST</th>\n",
       "      <th>FINANZ_SPARER</th>\n",
       "      <th>FINANZ_VORSORGER</th>\n",
       "      <th>FINANZ_ANLEGER</th>\n",
       "      <th>FINANZ_UNAUFFAELLIGER</th>\n",
       "      <th>FINANZ_HAUSBAUER</th>\n",
       "      <th>HEALTH_TYP</th>\n",
       "      <th>RETOURTYP_BK_S</th>\n",
       "      <th>SEMIO_SOZ</th>\n",
       "      <th>...</th>\n",
       "      <th>SEMIO_DOM</th>\n",
       "      <th>SEMIO_KAEM</th>\n",
       "      <th>SEMIO_PFLICHT</th>\n",
       "      <th>SEMIO_TRADV</th>\n",
       "      <th>HH_EINKOMMEN_SCORE</th>\n",
       "      <th>W_KEIT_KIND_HH</th>\n",
       "      <th>WOHNDAUER_2008</th>\n",
       "      <th>KONSUMNAEHE</th>\n",
       "      <th>WOHNLAGE</th>\n",
       "      <th>KBA05_ANTG1</th>\n",
       "    </tr>\n",
       "  </thead>\n",
       "  <tbody>\n",
       "    <tr>\n",
       "      <th>K-0</th>\n",
       "      <td>3.462493</td>\n",
       "      <td>4.928780</td>\n",
       "      <td>1.184576</td>\n",
       "      <td>4.789157</td>\n",
       "      <td>1.274074</td>\n",
       "      <td>1.670078</td>\n",
       "      <td>2.114825</td>\n",
       "      <td>4.010626</td>\n",
       "      <td>4.774590</td>\n",
       "      <td>4.192727</td>\n",
       "      <td>...</td>\n",
       "      <td>2.708778</td>\n",
       "      <td>2.960956</td>\n",
       "      <td>2.909482</td>\n",
       "      <td>2.495505</td>\n",
       "      <td>3.053315</td>\n",
       "      <td>0.984555</td>\n",
       "      <td>0.015445</td>\n",
       "      <td>0.350759</td>\n",
       "      <td>0.649241</td>\n",
       "      <td>0.001275</td>\n",
       "    </tr>\n",
       "    <tr>\n",
       "      <th>K-1</th>\n",
       "      <td>1.638267</td>\n",
       "      <td>3.106665</td>\n",
       "      <td>2.734749</td>\n",
       "      <td>3.505491</td>\n",
       "      <td>3.171868</td>\n",
       "      <td>2.948069</td>\n",
       "      <td>3.070652</td>\n",
       "      <td>3.029280</td>\n",
       "      <td>3.114837</td>\n",
       "      <td>3.750543</td>\n",
       "      <td>...</td>\n",
       "      <td>5.935801</td>\n",
       "      <td>6.035575</td>\n",
       "      <td>6.147131</td>\n",
       "      <td>3.788286</td>\n",
       "      <td>3.483635</td>\n",
       "      <td>0.243423</td>\n",
       "      <td>0.756577</td>\n",
       "      <td>0.812151</td>\n",
       "      <td>0.187849</td>\n",
       "      <td>0.001320</td>\n",
       "    </tr>\n",
       "    <tr>\n",
       "      <th>K-2</th>\n",
       "      <td>3.153541</td>\n",
       "      <td>4.262666</td>\n",
       "      <td>1.936767</td>\n",
       "      <td>4.061233</td>\n",
       "      <td>2.560235</td>\n",
       "      <td>2.517773</td>\n",
       "      <td>1.937963</td>\n",
       "      <td>2.986435</td>\n",
       "      <td>3.090081</td>\n",
       "      <td>1.928829</td>\n",
       "      <td>...</td>\n",
       "      <td>6.011904</td>\n",
       "      <td>3.605025</td>\n",
       "      <td>2.671147</td>\n",
       "      <td>2.106213</td>\n",
       "      <td>3.705930</td>\n",
       "      <td>0.092602</td>\n",
       "      <td>0.907398</td>\n",
       "      <td>0.432340</td>\n",
       "      <td>0.567660</td>\n",
       "      <td>0.003799</td>\n",
       "    </tr>\n",
       "    <tr>\n",
       "      <th>K-3</th>\n",
       "      <td>3.957519</td>\n",
       "      <td>3.036569</td>\n",
       "      <td>1.184660</td>\n",
       "      <td>4.901312</td>\n",
       "      <td>1.598994</td>\n",
       "      <td>1.468864</td>\n",
       "      <td>4.661662</td>\n",
       "      <td>4.142007</td>\n",
       "      <td>3.297113</td>\n",
       "      <td>2.142495</td>\n",
       "      <td>...</td>\n",
       "      <td>5.822303</td>\n",
       "      <td>2.252973</td>\n",
       "      <td>2.004541</td>\n",
       "      <td>5.199455</td>\n",
       "      <td>1.610485</td>\n",
       "      <td>0.021263</td>\n",
       "      <td>0.978737</td>\n",
       "      <td>0.851205</td>\n",
       "      <td>0.148795</td>\n",
       "      <td>0.001411</td>\n",
       "    </tr>\n",
       "    <tr>\n",
       "      <th>K-4</th>\n",
       "      <td>1.994063</td>\n",
       "      <td>4.041171</td>\n",
       "      <td>2.583403</td>\n",
       "      <td>3.577414</td>\n",
       "      <td>2.585613</td>\n",
       "      <td>2.884743</td>\n",
       "      <td>2.106594</td>\n",
       "      <td>3.451218</td>\n",
       "      <td>7.029150</td>\n",
       "      <td>6.977412</td>\n",
       "      <td>...</td>\n",
       "      <td>2.106046</td>\n",
       "      <td>5.916676</td>\n",
       "      <td>5.026889</td>\n",
       "      <td>3.255382</td>\n",
       "      <td>3.734182</td>\n",
       "      <td>1.262920</td>\n",
       "      <td>-0.262920</td>\n",
       "      <td>0.734762</td>\n",
       "      <td>0.265238</td>\n",
       "      <td>0.002346</td>\n",
       "    </tr>\n",
       "    <tr>\n",
       "      <th>K-5</th>\n",
       "      <td>3.545124</td>\n",
       "      <td>3.703401</td>\n",
       "      <td>1.225933</td>\n",
       "      <td>4.836515</td>\n",
       "      <td>1.099484</td>\n",
       "      <td>1.470565</td>\n",
       "      <td>3.880181</td>\n",
       "      <td>4.327652</td>\n",
       "      <td>4.886617</td>\n",
       "      <td>4.901132</td>\n",
       "      <td>...</td>\n",
       "      <td>2.346796</td>\n",
       "      <td>2.823281</td>\n",
       "      <td>2.983492</td>\n",
       "      <td>4.946819</td>\n",
       "      <td>2.130019</td>\n",
       "      <td>0.969399</td>\n",
       "      <td>0.030601</td>\n",
       "      <td>0.746691</td>\n",
       "      <td>0.253309</td>\n",
       "      <td>0.001077</td>\n",
       "    </tr>\n",
       "    <tr>\n",
       "      <th>K-6</th>\n",
       "      <td>2.932131</td>\n",
       "      <td>4.860918</td>\n",
       "      <td>1.460740</td>\n",
       "      <td>4.481835</td>\n",
       "      <td>1.523766</td>\n",
       "      <td>1.990392</td>\n",
       "      <td>1.811251</td>\n",
       "      <td>3.956110</td>\n",
       "      <td>4.519962</td>\n",
       "      <td>4.673751</td>\n",
       "      <td>...</td>\n",
       "      <td>3.065625</td>\n",
       "      <td>3.544609</td>\n",
       "      <td>3.964270</td>\n",
       "      <td>2.090562</td>\n",
       "      <td>3.370379</td>\n",
       "      <td>0.870422</td>\n",
       "      <td>0.129578</td>\n",
       "      <td>0.381903</td>\n",
       "      <td>0.618097</td>\n",
       "      <td>0.002854</td>\n",
       "    </tr>\n",
       "    <tr>\n",
       "      <th>K-7</th>\n",
       "      <td>3.841223</td>\n",
       "      <td>4.852698</td>\n",
       "      <td>1.123330</td>\n",
       "      <td>4.824216</td>\n",
       "      <td>1.013399</td>\n",
       "      <td>1.794166</td>\n",
       "      <td>2.436727</td>\n",
       "      <td>3.988630</td>\n",
       "      <td>4.933604</td>\n",
       "      <td>4.669223</td>\n",
       "      <td>...</td>\n",
       "      <td>1.664200</td>\n",
       "      <td>2.824752</td>\n",
       "      <td>3.921110</td>\n",
       "      <td>1.991184</td>\n",
       "      <td>3.069528</td>\n",
       "      <td>1.044044</td>\n",
       "      <td>-0.044044</td>\n",
       "      <td>0.201572</td>\n",
       "      <td>0.798428</td>\n",
       "      <td>0.002192</td>\n",
       "    </tr>\n",
       "    <tr>\n",
       "      <th>K-8</th>\n",
       "      <td>3.119526</td>\n",
       "      <td>3.938057</td>\n",
       "      <td>2.757139</td>\n",
       "      <td>3.322504</td>\n",
       "      <td>2.981106</td>\n",
       "      <td>3.223394</td>\n",
       "      <td>1.759269</td>\n",
       "      <td>2.990531</td>\n",
       "      <td>4.662137</td>\n",
       "      <td>4.802707</td>\n",
       "      <td>...</td>\n",
       "      <td>3.122261</td>\n",
       "      <td>3.552867</td>\n",
       "      <td>3.064955</td>\n",
       "      <td>3.612451</td>\n",
       "      <td>3.989894</td>\n",
       "      <td>0.934006</td>\n",
       "      <td>0.065994</td>\n",
       "      <td>0.655732</td>\n",
       "      <td>0.344268</td>\n",
       "      <td>0.001546</td>\n",
       "    </tr>\n",
       "    <tr>\n",
       "      <th>K-9</th>\n",
       "      <td>4.089107</td>\n",
       "      <td>4.978965</td>\n",
       "      <td>1.105999</td>\n",
       "      <td>4.925816</td>\n",
       "      <td>1.179194</td>\n",
       "      <td>1.887625</td>\n",
       "      <td>2.248600</td>\n",
       "      <td>4.099113</td>\n",
       "      <td>4.440124</td>\n",
       "      <td>4.427121</td>\n",
       "      <td>...</td>\n",
       "      <td>1.525314</td>\n",
       "      <td>2.260304</td>\n",
       "      <td>1.083968</td>\n",
       "      <td>1.992303</td>\n",
       "      <td>3.008825</td>\n",
       "      <td>1.077967</td>\n",
       "      <td>-0.077967</td>\n",
       "      <td>0.322965</td>\n",
       "      <td>0.677035</td>\n",
       "      <td>0.003105</td>\n",
       "    </tr>\n",
       "    <tr>\n",
       "      <th>K-10</th>\n",
       "      <td>3.984869</td>\n",
       "      <td>5.047301</td>\n",
       "      <td>1.084765</td>\n",
       "      <td>4.770601</td>\n",
       "      <td>1.271427</td>\n",
       "      <td>1.540569</td>\n",
       "      <td>1.898869</td>\n",
       "      <td>3.880656</td>\n",
       "      <td>4.836806</td>\n",
       "      <td>4.450920</td>\n",
       "      <td>...</td>\n",
       "      <td>3.071061</td>\n",
       "      <td>2.265057</td>\n",
       "      <td>2.531149</td>\n",
       "      <td>2.989697</td>\n",
       "      <td>2.975755</td>\n",
       "      <td>0.891198</td>\n",
       "      <td>0.108802</td>\n",
       "      <td>0.430572</td>\n",
       "      <td>0.569428</td>\n",
       "      <td>0.002275</td>\n",
       "    </tr>\n",
       "    <tr>\n",
       "      <th>K-11</th>\n",
       "      <td>1.699919</td>\n",
       "      <td>2.976686</td>\n",
       "      <td>4.000233</td>\n",
       "      <td>2.949501</td>\n",
       "      <td>4.972224</td>\n",
       "      <td>4.972009</td>\n",
       "      <td>2.973763</td>\n",
       "      <td>3.124026</td>\n",
       "      <td>2.000550</td>\n",
       "      <td>6.008156</td>\n",
       "      <td>...</td>\n",
       "      <td>5.952763</td>\n",
       "      <td>5.011612</td>\n",
       "      <td>2.987365</td>\n",
       "      <td>2.010731</td>\n",
       "      <td>2.115442</td>\n",
       "      <td>0.457575</td>\n",
       "      <td>0.542425</td>\n",
       "      <td>0.982351</td>\n",
       "      <td>0.017649</td>\n",
       "      <td>0.000605</td>\n",
       "    </tr>\n",
       "    <tr>\n",
       "      <th>K-12</th>\n",
       "      <td>4.056541</td>\n",
       "      <td>4.099783</td>\n",
       "      <td>1.136362</td>\n",
       "      <td>4.788550</td>\n",
       "      <td>1.156436</td>\n",
       "      <td>1.458420</td>\n",
       "      <td>3.215356</td>\n",
       "      <td>4.226832</td>\n",
       "      <td>4.880748</td>\n",
       "      <td>4.981171</td>\n",
       "      <td>...</td>\n",
       "      <td>2.776210</td>\n",
       "      <td>2.205000</td>\n",
       "      <td>2.299731</td>\n",
       "      <td>4.748136</td>\n",
       "      <td>2.222761</td>\n",
       "      <td>0.871034</td>\n",
       "      <td>0.128966</td>\n",
       "      <td>0.724456</td>\n",
       "      <td>0.275544</td>\n",
       "      <td>0.002552</td>\n",
       "    </tr>\n",
       "    <tr>\n",
       "      <th>K-13</th>\n",
       "      <td>3.962578</td>\n",
       "      <td>4.386209</td>\n",
       "      <td>1.035165</td>\n",
       "      <td>4.963460</td>\n",
       "      <td>1.574106</td>\n",
       "      <td>1.630835</td>\n",
       "      <td>2.938554</td>\n",
       "      <td>3.460293</td>\n",
       "      <td>3.262626</td>\n",
       "      <td>2.116063</td>\n",
       "      <td>...</td>\n",
       "      <td>5.610676</td>\n",
       "      <td>2.388195</td>\n",
       "      <td>2.085186</td>\n",
       "      <td>2.360348</td>\n",
       "      <td>2.914201</td>\n",
       "      <td>0.089373</td>\n",
       "      <td>0.910627</td>\n",
       "      <td>0.401088</td>\n",
       "      <td>0.598912</td>\n",
       "      <td>0.002888</td>\n",
       "    </tr>\n",
       "    <tr>\n",
       "      <th>K-14</th>\n",
       "      <td>2.999433</td>\n",
       "      <td>3.044185</td>\n",
       "      <td>1.745045</td>\n",
       "      <td>4.376390</td>\n",
       "      <td>2.184985</td>\n",
       "      <td>1.958490</td>\n",
       "      <td>3.962724</td>\n",
       "      <td>3.841655</td>\n",
       "      <td>3.176634</td>\n",
       "      <td>2.232381</td>\n",
       "      <td>...</td>\n",
       "      <td>6.217027</td>\n",
       "      <td>3.863979</td>\n",
       "      <td>2.657679</td>\n",
       "      <td>4.845920</td>\n",
       "      <td>2.651668</td>\n",
       "      <td>0.040283</td>\n",
       "      <td>0.959717</td>\n",
       "      <td>0.807484</td>\n",
       "      <td>0.192516</td>\n",
       "      <td>0.000618</td>\n",
       "    </tr>\n",
       "  </tbody>\n",
       "</table>\n",
       "<p>15 rows × 29 columns</p>\n",
       "</div>"
      ],
      "text/plain": [
       "      ALTERSKATEGORIE_GROB  FINANZ_MINIMALIST  FINANZ_SPARER  \\\n",
       "K-0               3.462493           4.928780       1.184576   \n",
       "K-1               1.638267           3.106665       2.734749   \n",
       "K-2               3.153541           4.262666       1.936767   \n",
       "K-3               3.957519           3.036569       1.184660   \n",
       "K-4               1.994063           4.041171       2.583403   \n",
       "K-5               3.545124           3.703401       1.225933   \n",
       "K-6               2.932131           4.860918       1.460740   \n",
       "K-7               3.841223           4.852698       1.123330   \n",
       "K-8               3.119526           3.938057       2.757139   \n",
       "K-9               4.089107           4.978965       1.105999   \n",
       "K-10              3.984869           5.047301       1.084765   \n",
       "K-11              1.699919           2.976686       4.000233   \n",
       "K-12              4.056541           4.099783       1.136362   \n",
       "K-13              3.962578           4.386209       1.035165   \n",
       "K-14              2.999433           3.044185       1.745045   \n",
       "\n",
       "      FINANZ_VORSORGER  FINANZ_ANLEGER  FINANZ_UNAUFFAELLIGER  \\\n",
       "K-0           4.789157        1.274074               1.670078   \n",
       "K-1           3.505491        3.171868               2.948069   \n",
       "K-2           4.061233        2.560235               2.517773   \n",
       "K-3           4.901312        1.598994               1.468864   \n",
       "K-4           3.577414        2.585613               2.884743   \n",
       "K-5           4.836515        1.099484               1.470565   \n",
       "K-6           4.481835        1.523766               1.990392   \n",
       "K-7           4.824216        1.013399               1.794166   \n",
       "K-8           3.322504        2.981106               3.223394   \n",
       "K-9           4.925816        1.179194               1.887625   \n",
       "K-10          4.770601        1.271427               1.540569   \n",
       "K-11          2.949501        4.972224               4.972009   \n",
       "K-12          4.788550        1.156436               1.458420   \n",
       "K-13          4.963460        1.574106               1.630835   \n",
       "K-14          4.376390        2.184985               1.958490   \n",
       "\n",
       "      FINANZ_HAUSBAUER  HEALTH_TYP  RETOURTYP_BK_S  SEMIO_SOZ     ...       \\\n",
       "K-0           2.114825    4.010626        4.774590   4.192727     ...        \n",
       "K-1           3.070652    3.029280        3.114837   3.750543     ...        \n",
       "K-2           1.937963    2.986435        3.090081   1.928829     ...        \n",
       "K-3           4.661662    4.142007        3.297113   2.142495     ...        \n",
       "K-4           2.106594    3.451218        7.029150   6.977412     ...        \n",
       "K-5           3.880181    4.327652        4.886617   4.901132     ...        \n",
       "K-6           1.811251    3.956110        4.519962   4.673751     ...        \n",
       "K-7           2.436727    3.988630        4.933604   4.669223     ...        \n",
       "K-8           1.759269    2.990531        4.662137   4.802707     ...        \n",
       "K-9           2.248600    4.099113        4.440124   4.427121     ...        \n",
       "K-10          1.898869    3.880656        4.836806   4.450920     ...        \n",
       "K-11          2.973763    3.124026        2.000550   6.008156     ...        \n",
       "K-12          3.215356    4.226832        4.880748   4.981171     ...        \n",
       "K-13          2.938554    3.460293        3.262626   2.116063     ...        \n",
       "K-14          3.962724    3.841655        3.176634   2.232381     ...        \n",
       "\n",
       "      SEMIO_DOM  SEMIO_KAEM  SEMIO_PFLICHT  SEMIO_TRADV  HH_EINKOMMEN_SCORE  \\\n",
       "K-0    2.708778    2.960956       2.909482     2.495505            3.053315   \n",
       "K-1    5.935801    6.035575       6.147131     3.788286            3.483635   \n",
       "K-2    6.011904    3.605025       2.671147     2.106213            3.705930   \n",
       "K-3    5.822303    2.252973       2.004541     5.199455            1.610485   \n",
       "K-4    2.106046    5.916676       5.026889     3.255382            3.734182   \n",
       "K-5    2.346796    2.823281       2.983492     4.946819            2.130019   \n",
       "K-6    3.065625    3.544609       3.964270     2.090562            3.370379   \n",
       "K-7    1.664200    2.824752       3.921110     1.991184            3.069528   \n",
       "K-8    3.122261    3.552867       3.064955     3.612451            3.989894   \n",
       "K-9    1.525314    2.260304       1.083968     1.992303            3.008825   \n",
       "K-10   3.071061    2.265057       2.531149     2.989697            2.975755   \n",
       "K-11   5.952763    5.011612       2.987365     2.010731            2.115442   \n",
       "K-12   2.776210    2.205000       2.299731     4.748136            2.222761   \n",
       "K-13   5.610676    2.388195       2.085186     2.360348            2.914201   \n",
       "K-14   6.217027    3.863979       2.657679     4.845920            2.651668   \n",
       "\n",
       "      W_KEIT_KIND_HH  WOHNDAUER_2008  KONSUMNAEHE  WOHNLAGE  KBA05_ANTG1  \n",
       "K-0         0.984555        0.015445     0.350759  0.649241     0.001275  \n",
       "K-1         0.243423        0.756577     0.812151  0.187849     0.001320  \n",
       "K-2         0.092602        0.907398     0.432340  0.567660     0.003799  \n",
       "K-3         0.021263        0.978737     0.851205  0.148795     0.001411  \n",
       "K-4         1.262920       -0.262920     0.734762  0.265238     0.002346  \n",
       "K-5         0.969399        0.030601     0.746691  0.253309     0.001077  \n",
       "K-6         0.870422        0.129578     0.381903  0.618097     0.002854  \n",
       "K-7         1.044044       -0.044044     0.201572  0.798428     0.002192  \n",
       "K-8         0.934006        0.065994     0.655732  0.344268     0.001546  \n",
       "K-9         1.077967       -0.077967     0.322965  0.677035     0.003105  \n",
       "K-10        0.891198        0.108802     0.430572  0.569428     0.002275  \n",
       "K-11        0.457575        0.542425     0.982351  0.017649     0.000605  \n",
       "K-12        0.871034        0.128966     0.724456  0.275544     0.002552  \n",
       "K-13        0.089373        0.910627     0.401088  0.598912     0.002888  \n",
       "K-14        0.040283        0.959717     0.807484  0.192516     0.000618  \n",
       "\n",
       "[15 rows x 29 columns]"
      ]
     },
     "execution_count": 90,
     "metadata": {},
     "output_type": "execute_result"
    }
   ],
   "source": [
    "# What kinds of people are part of a cluster that is overrepresented in the\n",
    "# customer data compared to the general population?\n",
    "centers = pca_n15.inverse_transform(CustKmModel.cluster_centers_)\n",
    "\n",
    "centers_df = pd.DataFrame(centers, columns=Components_n15.columns[0:29], \n",
    "                         index=['K-0','K-1','K-2', 'K-3', 'K-4', 'K-5',\n",
    "                               'K-6','K-7', 'K-8', 'K-9', 'K-10',\n",
    "                               'K-11','K-12', 'K-13', 'K-14'])\n",
    "\n",
    "centers_df"
   ]
  },
  {
   "cell_type": "code",
   "execution_count": 91,
   "metadata": {},
   "outputs": [
    {
     "data": {
      "text/plain": [
       "Text(0.5,1,'Overrepresented: Cluster K-1')"
      ]
     },
     "execution_count": 91,
     "metadata": {},
     "output_type": "execute_result"
    },
    {
     "data": {
      "image/png": "[encoded data removed]",
      "text/plain": [
       "<matplotlib.figure.Figure at 0x7f74f75d4550>"
      ]
     },
     "metadata": {
      "needs_background": "light"
     },
     "output_type": "display_data"
    }
   ],
   "source": [
    "ax=centers_df.iloc[1,0:14].sort_values(ascending=True).plot.barh()\n",
    "ax.set_xlabel('Cluster Weight (%)', size=14)\n",
    "ax.set_ylabel('Features', size=14)\n",
    "ax.set_title('Overrepresented: Cluster K-1', size=16, fontweight='bold')"
   ]
  },
  {
   "cell_type": "code",
   "execution_count": 92,
   "metadata": {},
   "outputs": [
    {
     "data": {
      "text/plain": [
       "Text(0.5,1,'Overrepresented: Cluster K-2')"
      ]
     },
     "execution_count": 92,
     "metadata": {},
     "output_type": "execute_result"
    },
    {
     "data": {
      "image/png": "[encoded data removed]",
      "text/plain": [
       "<matplotlib.figure.Figure at 0x7f7544fac198>"
      ]
     },
     "metadata": {
      "needs_background": "light"
     },
     "output_type": "display_data"
    }
   ],
   "source": [
    "ax=centers_df.iloc[2,0:14].sort_values(ascending=True).plot.barh()\n",
    "ax.set_xlabel('Cluster Weight (%)', size=14)\n",
    "ax.set_ylabel('Features', size=14)\n",
    "ax.set_title('Overrepresented: Cluster K-2', size=16, fontweight='bold')"
   ]
  },
  {
   "cell_type": "code",
   "execution_count": 93,
   "metadata": {},
   "outputs": [
    {
     "data": {
      "text/plain": [
       "Text(0.5,1,'Underrepresented: Cluster K-11')"
      ]
     },
     "execution_count": 93,
     "metadata": {},
     "output_type": "execute_result"
    },
    {
     "data": {
      "image/png": "[encoded data removed]",
      "text/plain": [
       "<matplotlib.figure.Figure at 0x7f7544ededa0>"
      ]
     },
     "metadata": {
      "needs_background": "light"
     },
     "output_type": "display_data"
    }
   ],
   "source": [
    "# What kinds of people are part of a cluster that is underrepresented in the\n",
    "# customer data compared to the general population?\n",
    "\n",
    "ax=centers_df.iloc[11,0:14].sort_values(ascending=True).plot.barh()\n",
    "ax.set_xlabel('Cluster Weight (%)', size=14)\n",
    "ax.set_ylabel('Features', size=14)\n",
    "ax.set_title('Underrepresented: Cluster K-11', size=16, fontweight='bold')"
   ]
  },
  {
   "cell_type": "code",
   "execution_count": 94,
   "metadata": {},
   "outputs": [
    {
     "data": {
      "text/plain": [
       "Text(0.5,1,'Underrepresented: Cluster K-6')"
      ]
     },
     "execution_count": 94,
     "metadata": {},
     "output_type": "execute_result"
    },
    {
     "data": {
      "image/png": "[encoded data removed]",
      "text/plain": [
       "<matplotlib.figure.Figure at 0x7f75291f8da0>"
      ]
     },
     "metadata": {
      "needs_background": "light"
     },
     "output_type": "display_data"
    }
   ],
   "source": [
    "ax=centers_df.iloc[6,0:14].sort_values(ascending=True).plot.barh()\n",
    "ax.set_xlabel('Cluster Weight (%)', size=14)\n",
    "ax.set_ylabel('Features', size=14)\n",
    "ax.set_title('Underrepresented: Cluster K-6', size=16, fontweight='bold')"
   ]
  },
  {
   "cell_type": "markdown",
   "metadata": {},
   "source": [
    "### Discussion 3.3: Compare Customer Data to Demographics Data\n",
    "\n",
    "(Double-click this cell and replace this text with your own text, reporting findings and conclusions from the clustering analysis. Can we describe segments of the population that are relatively popular with the mail-order company, or relatively unpopular with the company?)"
   ]
  },
  {
   "cell_type": "markdown",
   "metadata": {},
   "source": [
    "> Congratulations on making it this far in the project! Before you finish, make sure to check through the entire notebook from top to bottom to make sure that your analysis follows a logical flow and all of your findings are documented in **Discussion** cells. Once you've checked over all of your work, you should export the notebook as an HTML document to submit for evaluation. You can do this from the menu, navigating to **File -> Download as -> HTML (.html)**. You will submit both that document and this notebook for your project submission."
   ]
  },
  {
   "cell_type": "code",
   "execution_count": null,
   "metadata": {},
   "outputs": [],
   "source": []
  }
 ],
 "metadata": {
  "kernelspec": {
   "display_name": "Python 3",
   "language": "python",
   "name": "python3"
  },
  "language_info": {
   "codemirror_mode": {
    "name": "ipython",
    "version": 3
   },
   "file_extension": ".py",
   "mimetype": "text/x-python",
   "name": "python",
   "nbconvert_exporter": "python",
   "pygments_lexer": "ipython3",
   "version": "3.6.3"
  }
 },
 "nbformat": 4,
 "nbformat_minor": 2
}
